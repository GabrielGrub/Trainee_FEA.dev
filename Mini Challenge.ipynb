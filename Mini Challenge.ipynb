{
 "cells": [
  {
   "cell_type": "code",
   "execution_count": 1,
   "metadata": {},
   "outputs": [
    {
     "name": "stdout",
     "output_type": "stream",
     "text": [
      "\u001b[1mGrupo 1 \u001b[0m\n",
      "Guilherme Vinicius Afonso Dias de Freitas\n",
      "Paulo Sergio Almeida de Oliveira\n",
      "Mateus Pamio Forcione de Oliveira e Souza\n",
      "Ana Werneck de Souza Dias\n",
      "Fernanda Mees Antunes\n",
      "\n",
      "\u001b[1mGrupo 2 \u001b[0m\n",
      "Milena da Silva Ramos\n",
      "Marcelo Tamay Honda\n",
      "Adriel Faustino de Oliveira\n",
      "Leticia Amy Siramidu\n",
      "André Menniti Pennini\n",
      "\n",
      "\u001b[1mGrupo 3 \u001b[0m\n",
      "Fernanda Mayumi Sakamoto Iizuka\n",
      "Vitor Tatiama Gouveia\n",
      "Theo Borten Radesca Migliano\n",
      "Kim Ju Hyang\n",
      "Gabriel Grub Vidal da Silva\n",
      "\n",
      "\u001b[1mGrupo 4 \u001b[0m\n",
      "Amanda Emi Yamasaki\n",
      "Felipe de Souza Lourenço\n",
      "Maria Dulce Navarro de Britto Matos\n",
      "Henrique Nogueira Pedro Lindoso\n",
      "\n"
     ]
    }
   ],
   "source": [
    "import random\n",
    "\n",
    "# Lista de tuplas com o nome dos novos membros e os seus respectivos números que representam ter ou não feito o Curso de Python do FEA.Dev\n",
    "os_melhores_trainees_do_mundo = [\n",
    "    (\"Adriel Faustino de Oliveira\", 0),\n",
    "    (\"Amanda Emi Yamasaki\", 0),\n",
    "    (\"Ana Werneck de Souza Dias\", 0),\n",
    "    (\"André Menniti Pennini\", 1),\n",
    "    (\"Felipe de Souza Lourenço\", 0),\n",
    "    (\"Fernanda Mayumi Sakamoto Iizuka\", 0),\n",
    "    (\"Fernanda Mees Antunes\", 1),\n",
    "    (\"Gabriel Grub Vidal da Silva\", 1),\n",
    "    (\"Guilherme Vinicius Afonso Dias de Freitas\", 0),\n",
    "    (\"Henrique Nogueira Pedro Lindoso\", 1),\n",
    "    (\"Kim Ju Hyang\", 0),\n",
    "    (\"Leticia Amy Siramidu\", 0),\n",
    "    (\"Marcelo Tamay Honda\", 0),\n",
    "    (\"Maria Dulce Navarro de Britto Matos\", 0),\n",
    "    (\"Mateus Pamio Forcione de Oliveira e Souza\", 0),\n",
    "    (\"Milena da Silva Ramos\", 0),\n",
    "    (\"Paulo Sergio Almeida de Oliveira\", 0),\n",
    "    (\"Theo Borten Radesca Migliano\", 0),\n",
    "    (\"Vitor Tatiama Gouveia\", 0)\n",
    "]\n",
    "\n",
    "# Usando o for para separar os membros que fizeram o Curso de Python dos que não fizeram, colocando os nomes em duas listas distintas\n",
    "curso_de_python_ON = [m for m in os_melhores_trainees_do_mundo if m[1] == 1]\n",
    "curso_de_python_OFF = [m for m in os_melhores_trainees_do_mundo if m[1] == 0]\n",
    "\n",
    "# Usei o método shuffle para embaralhar as duas listas que foram criadas\n",
    "random.shuffle(curso_de_python_ON)\n",
    "random.shuffle(curso_de_python_OFF)\n",
    "\n",
    "\n",
    "# Dividi os membros em grupos usando os índices para garantir que não vai acontecer repetições de nomes e que todos os grupos teram 1 e apenas 1 membro que fez o Curso de Python \n",
    "grupos = [\n",
    "    curso_de_python_OFF[:4] + curso_de_python_ON[:1],\n",
    "    curso_de_python_OFF[4:8] + curso_de_python_ON[1:2],\n",
    "    curso_de_python_OFF[8:12] + curso_de_python_ON[2:3],\n",
    "    curso_de_python_OFF[12:] + curso_de_python_ON[3:4]\n",
    "]\n",
    "\n",
    "# Imprimindo os grupos e os seus respetivos membros de forma bonitinha 🥰\n",
    "for i in range(len(grupos)):\n",
    "    print('\\033[1m'\"Grupo\", i+1,'\\033[0m')\n",
    "    for nome in grupos[i]:\n",
    "        print(nome[0])\n",
    "    print()"
   ]
  }
 ],
 "metadata": {
  "kernelspec": {
   "display_name": "Python 3",
   "language": "python",
   "name": "python3"
  },
  "language_info": {
   "codemirror_mode": {
    "name": "ipython",
    "version": 3
   },
   "file_extension": ".py",
   "mimetype": "text/x-python",
   "name": "python",
   "nbconvert_exporter": "python",
   "pygments_lexer": "ipython3",
   "version": "3.11.3"
  },
  "orig_nbformat": 4
 },
 "nbformat": 4,
 "nbformat_minor": 2
}
