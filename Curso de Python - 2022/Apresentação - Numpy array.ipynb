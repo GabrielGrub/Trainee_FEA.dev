{
 "cells": [
  {
   "attachments": {},
   "cell_type": "markdown",
   "metadata": {},
   "source": [
    "# **Biblioteca NumPy**\n",
    "\n",
    "## Introdução \n",
    "*Olá devers, beleza?*\n",
    "\n",
    "\n",
    "Hoje faremos uma introdução a biblioteca NumPy, explorando recursos básicos e conceitos da biblioteca utilizada na geração dos dados da **primeira imagem de um buraco negro!**\n",
    "\n",
    "\n",
    "Além disso, vamos abordar a aplicabilidade dessa biblioteca por meio de exemplos práticos e usos no cotidiano.\n",
    "<br><br>\n",
    "<div align=\"center\">\n",
    "    <img src=\"https://i.redd.it/791y1x3j2ou41.png\" alt=\"titulo\" width=\"300px\" />\n",
    "</div>\n"
   ]
  },
  {
   "attachments": {},
   "cell_type": "markdown",
   "metadata": {},
   "source": [
    "## **O que é o NumPy?**\n",
    "É uma biblioteca (conjunto de módulos,funções e classes pré-definidos) em Python que permite a manipulação de dados homogêneos dentro de um elemento conhecido como *Array*. \n",
    "\n",
    "*Pontos positivos:* \n",
    "- Apesar de realizar tarefas que já existem dentro do Python (que seriam feitas em iterables built-in), o numpy fornece maior velocidade e eficiência de processos numéricos, diminuindo o uso de loops no código em comparação aos códigos tradicionais, além de realizar operações vetorizadas.\n",
    "\n",
    "- Além disso possui integração com outras bibliotecas externas como o **Pandas**, **Seaborn** e **MatPlotLib**, facilitando a manipulação de dados.\n",
    "\n",
    "*Pontos negativos:*\n",
    "- Lida apenas com dados homogêneos, dificultando operações entre dados string, booleans e numéricos dentro de um vetor.\n",
    "\n",
    "- Não possui uma integração tão básica com funções built-in, sendo as vezes restringida as suas próprias funções internas.\n",
    "\n",
    "\n",
    "###### * Também traz um decréscimo no uso de memória RAM e processamento devido a ser uma biblioteca programada em C, uma linguagem de baixo nível.\n"
   ]
  },
  {
   "cell_type": "code",
   "execution_count": 21,
   "metadata": {},
   "outputs": [],
   "source": [
    "# Começaremos importando a biblioteca, como na imagem acima\n",
    "import numpy as np"
   ]
  },
  {
   "attachments": {},
   "cell_type": "markdown",
   "metadata": {},
   "source": [
    "### Array e dimensionamento:\n",
    "\n",
    "Um dos benefícios dessa biblioteca consiste na facilidade com trabalhar e operar \"listas\" de dados (arrays), principalmente os numéricos. Para isso começaremos entendendo como funciona a função np.array()"
   ]
  },
  {
   "cell_type": "code",
   "execution_count": 22,
   "metadata": {},
   "outputs": [
    {
     "name": "stdout",
     "output_type": "stream",
     "text": [
      " Exemplo de array com apenas uma linha:[1 6 7]\n",
      "------------------------------------------------------------\n",
      "Exemplo de array bidimensional:\n",
      "[[1 2]\n",
      " [6 7]]\n",
      "------------------------------------------------------------\n",
      "Exemplo de array multidimensional:\n",
      "[[  6   0 100]\n",
      " [ 17  16  54]\n",
      " [ 20  49  48]\n",
      " [ 45  79  24]]\n"
     ]
    }
   ],
   "source": [
    "array_lin_ex = np.array([1,6,7])\n",
    "print(f' Exemplo de array com apenas uma linha:{array_lin_ex}')\n",
    "\n",
    "print(\"-\" * 60)\n",
    "\n",
    "array_matrix_2x2 = np.array([[1,2],[6,7]])\n",
    "print(f'''Exemplo de array bidimensional:\n",
    "{array_matrix_2x2}''')\n",
    "\n",
    "print(\"-\" * 60)\n",
    "\n",
    "array_matrix_3x4 = np.array([[6,0,100],[17,16,54],[20,49,48],[45,79,24]])\n",
    "print(f'''Exemplo de array multidimensional:\n",
    "{array_matrix_3x4}''')"
   ]
  },
  {
   "attachments": {},
   "cell_type": "markdown",
   "metadata": {},
   "source": [
    "### Atributos de array"
   ]
  },
  {
   "cell_type": "code",
   "execution_count": 23,
   "metadata": {},
   "outputs": [
    {
     "name": "stdout",
     "output_type": "stream",
     "text": [
      "[['a' 'e' '0' 'True']\n",
      " ['1' '5' '6' 'False']]\n",
      "--------------------------------------------------      \n",
      "|  Atributos:                                    |\n",
      "| - Tamanho da matriz = (2, 4) ;                 |\n",
      "| - Tipo de dado da matriz = <U11 ;              |\n",
      "| - Número de dimensões = 2                      |\n",
      "--------------------------------------------------\n"
     ]
    }
   ],
   "source": [
    "arr = np.array([['a','e',0,True],['1',5,6,False]])\n",
    "\n",
    "# Tamanho do array\n",
    "tamanho_array = arr.shape\n",
    "\n",
    "# Tipo do Array\n",
    "tipo_array = arr.dtype\n",
    "\n",
    "# Memória armazenada\n",
    "ram_array = arr.data\n",
    "\n",
    "# Número de dimensões do array \n",
    "ndimensoes_array = array_matrix_3x4.ndim\n",
    "\n",
    "print(f'''{arr}\n",
    "--------------------------------------------------      \n",
    "|  Atributos:                                    |\n",
    "| - Tamanho da matriz = {tamanho_array} ;                 |\n",
    "| - Tipo de dado da matriz = {tipo_array} ;              |\n",
    "| - Número de dimensões = {ndimensoes_array}                      |\n",
    "--------------------------------------------------''')\n"
   ]
  },
  {
   "attachments": {},
   "cell_type": "markdown",
   "metadata": {},
   "source": [
    "### Funções universais"
   ]
  },
  {
   "attachments": {},
   "cell_type": "markdown",
   "metadata": {},
   "source": [
    "As funções universais no Numpy são funções matemáticas simples. É apenas um termo que demos às funções matemáticas na biblioteca Numpy, que cobrem uma ampla variedade de operações. Essas funções incluem funções trigonométricas padrão, funções para operações aritméticas, manipulação de números complexos, funções estatísticas, etc. Essas funções possuem como características principais:"
   ]
  },
  {
   "attachments": {},
   "cell_type": "markdown",
   "metadata": {},
   "source": [
    "Dentre as principais funções universais matemáticas estão:\n",
    "\n",
    "* `sin`, `cos`, `tan`: calcular seno, cosseno e tangente de ângulos."
   ]
  },
  {
   "cell_type": "code",
   "execution_count": 190,
   "metadata": {},
   "outputs": [
    {
     "name": "stdout",
     "output_type": "stream",
     "text": [
      "Seno, cosseno e tangente de 30 graus:  0.5 ,  0.87  e  0.58\n",
      "Seno, cosseno e tangente de 45 graus:  0.71 ,  0.71  e  1.0\n",
      "Seno, cosseno e tangente de 60 graus:  0.87 ,  0.5  e  1.73\n"
     ]
    }
   ],
   "source": [
    "angulos_notaveis_deg = np.array([30,45,60])\n",
    "angulos_notaveis_rad = np.deg2rad(angulos_notaveis_deg)\n",
    "\n",
    "# Calculando o seno, cosseno e tangente de cada ângulo radianos usando as funções np.sin(), np.cos() enp.tan().\n",
    "seno_notaveis = [np.round(elem,2) for elem in np.sin(angulos_notaveis_rad)]\n",
    "cosseno_notaveis = [np.round(elem,2) for elem in np.cos(angulos_notaveis_rad)]\n",
    "tangente_notaveis = [np.round(elem,2) for elem in np.tan(angulos_notaveis_rad)]\n",
    "\n",
    "print('Seno, cosseno e tangente de 30 graus: ',seno_notaveis[0],', ',cosseno_notaveis[0],' e ',tangente_notaveis[0])\n",
    "print('Seno, cosseno e tangente de 45 graus: ',seno_notaveis[1],', ',cosseno_notaveis[1],' e ',tangente_notaveis[1])\n",
    "print('Seno, cosseno e tangente de 60 graus: ',seno_notaveis[2],', ',cosseno_notaveis[2],' e ',tangente_notaveis[2])\n"
   ]
  },
  {
   "attachments": {},
   "cell_type": "markdown",
   "metadata": {},
   "source": [
    "* `hypot`: calcule a hipotenusa do triângulo retângulo dado."
   ]
  },
  {
   "cell_type": "code",
   "execution_count": 191,
   "metadata": {},
   "outputs": [
    {
     "name": "stdout",
     "output_type": "stream",
     "text": [
      "[6.70820393 8.94427191 5.        ]\n"
     ]
    }
   ],
   "source": [
    "x = np.array([3, 4, 3])\n",
    "y = np.array([6, 8, 4])\n",
    "\n",
    "hipotenusa = np.hypot(x, y)\n",
    "\n",
    "print(hipotenusa)"
   ]
  },
  {
   "attachments": {},
   "cell_type": "markdown",
   "metadata": {},
   "source": [
    "* `deg2rad`: converter grau em radianos.\n",
    "* `rad2deg`: converter radianos em graus."
   ]
  },
  {
   "cell_type": "code",
   "execution_count": 192,
   "metadata": {},
   "outputs": [
    {
     "name": "stdout",
     "output_type": "stream",
     "text": [
      "Ângulo em radianos: 0.7853981633974483\n",
      "Ângulo em graus: 45.0\n"
     ]
    }
   ],
   "source": [
    "angulo_graus = 45\n",
    "\n",
    "# Convertendo graus para radianos usando a função deg2rad\n",
    "angulo_radianos = np.deg2rad(angulo_graus)\n",
    "\n",
    "print(\"Ângulo em radianos:\", angulo_radianos)\n",
    "\n",
    "# Convertendo radianos para graus usando a função rad2deg\n",
    "angulo_graus_novo = np.rad2deg(angulo_radianos)\n",
    "\n",
    "print(\"Ângulo em graus:\", angulo_graus_novo)"
   ]
  },
  {
   "attachments": {},
   "cell_type": "markdown",
   "metadata": {},
   "source": [
    "Dentre as principais funções universais estatísticas estão:\n",
    "\n",
    "* `amin`, `amax`: retorna o mínimo ou máximo de um array ou ao longo de um eixo.\n"
   ]
  },
  {
   "cell_type": "code",
   "execution_count": 193,
   "metadata": {},
   "outputs": [
    {
     "name": "stdout",
     "output_type": "stream",
     "text": [
      "Array x =  [ 1  3  5  7 10]\n",
      "\n",
      "Mínimo de x =  1\n",
      "Máximo de x =  10\n"
     ]
    }
   ],
   "source": [
    "ex = np.array([1,3,5,7,10])\n",
    "\n",
    "print('Array x = ',ex)\n",
    "print('\\nMínimo de x = ',np.amin(ex))\n",
    "print('Máximo de x = ',np.amax(ex))\n"
   ]
  },
  {
   "attachments": {},
   "cell_type": "markdown",
   "metadata": {},
   "source": [
    "* `ptp`: retorna o intervalo de valores (máximo-mínimo) de um array ou ao longo de um eixo."
   ]
  },
  {
   "cell_type": "code",
   "execution_count": 100,
   "metadata": {},
   "outputs": [
    {
     "name": "stdout",
     "output_type": "stream",
     "text": [
      "Intervalo de x =  9\n"
     ]
    }
   ],
   "source": [
    "print('Intervalo de x = ',np.ptp(ex))"
   ]
  },
  {
   "attachments": {},
   "cell_type": "markdown",
   "metadata": {},
   "source": [
    "* `sum`: retorna a soma de valores de um array ao longo de um eixo."
   ]
  },
  {
   "cell_type": "code",
   "execution_count": 101,
   "metadata": {},
   "outputs": [
    {
     "name": "stdout",
     "output_type": "stream",
     "text": [
      "Soma de x =  26\n"
     ]
    }
   ],
   "source": [
    "print('Soma de x = ',np.sum(ex))"
   ]
  },
  {
   "attachments": {},
   "cell_type": "markdown",
   "metadata": {},
   "source": [
    "* `percentile(a, p, eixo)`: calcular o p-ésimo percentil da matriz ou ao longo do eixo especificado."
   ]
  },
  {
   "cell_type": "code",
   "execution_count": 102,
   "metadata": {},
   "outputs": [
    {
     "name": "stdout",
     "output_type": "stream",
     "text": [
      "Percentil 50: 5.0\n"
     ]
    }
   ],
   "source": [
    "percentil_50 = np.percentile(ex, 50)\n",
    "\n",
    "print(\"Percentil 50:\", percentil_50)"
   ]
  },
  {
   "attachments": {},
   "cell_type": "markdown",
   "metadata": {},
   "source": [
    "* `median`: calcular a mediana dos dados ao longo do eixo especificado.\n",
    "* `mean`: calcular a média dos dados ao longo do eixo especificado.\n",
    "* `var`: calcular a variância de dados ao longo do eixo especificado."
   ]
  },
  {
   "cell_type": "code",
   "execution_count": 104,
   "metadata": {},
   "outputs": [
    {
     "name": "stdout",
     "output_type": "stream",
     "text": [
      "Médiana de x =  5.0\n",
      "Média de x =  5.2\n",
      "Variância de x =  9.76\n"
     ]
    }
   ],
   "source": [
    "print('Médiana de x = ',np.median(ex))\n",
    "print('Média de x = ',np.mean(ex))\n",
    "print('Variância de x = ',np.var(ex))\n"
   ]
  },
  {
   "attachments": {},
   "cell_type": "markdown",
   "metadata": {},
   "source": [
    "* `log`: calcular o log dos dados ao longo do eixo especificado."
   ]
  },
  {
   "cell_type": "code",
   "execution_count": 106,
   "metadata": {},
   "outputs": [
    {
     "name": "stdout",
     "output_type": "stream",
     "text": [
      "Log de x =  [0.0, 1.1, 1.61, 1.95, 2.3]\n"
     ]
    }
   ],
   "source": [
    "print('Log de x = ',[np.round(elem,2) for elem in np.log(ex)])"
   ]
  },
  {
   "attachments": {},
   "cell_type": "markdown",
   "metadata": {},
   "source": [
    "## Arrays x Listas\n",
    "\n",
    "Vamos entender um pouco melhor a diferença de desempenho entre arrays e listas. Considere um array de vinte milhões de números inteiros e uma lista equivalente:"
   ]
  },
  {
   "cell_type": "code",
   "execution_count": 175,
   "metadata": {},
   "outputs": [],
   "source": [
    "array = np.arange(20000000) #20 milhões\n",
    "lista = list(range(20000000))"
   ]
  },
  {
   "attachments": {},
   "cell_type": "markdown",
   "metadata": {},
   "source": [
    "Agora vamos multiplicar, elemento a elemento, todos os números por 2 e salvar o resultado correspondente. Utilizaremos a função `time` do pacote `time` para fazer a medição do tempo utilizado pelos dois métodos."
   ]
  },
  {
   "cell_type": "code",
   "execution_count": 182,
   "metadata": {},
   "outputs": [],
   "source": [
    "import time \n",
    "\n",
    "# arrays\n",
    "inicio_array = time.time()\n",
    "array2 = array * 2\n",
    "fim_array   = time.time()\n",
    "\n",
    "\n",
    "# listas\n",
    "inicio_lista = time.time()\n",
    "lista2 = [x * 2 for x in lista]\n",
    "fim_lista   = time.time()\n",
    "\n",
    "tempo = (fim_lista - inicio_lista) / (fim_array - inicio_array)"
   ]
  },
  {
   "attachments": {},
   "cell_type": "markdown",
   "metadata": {},
   "source": [
    "Qual abordagem será que levou menos tempo?"
   ]
  },
  {
   "cell_type": "code",
   "execution_count": 183,
   "metadata": {},
   "outputs": [
    {
     "name": "stdout",
     "output_type": "stream",
     "text": [
      "Tempo necessário para a realização dos cálculos utilizando arrays: 0.0467 segundos\n",
      "Tempo necessário para a realização dos cálculos utilizando listas: 2.9641 segundos\n",
      "\n",
      "A abordagem de listas demorou 63x mais tempo! Esqueça listas e use arrays :)\n"
     ]
    }
   ],
   "source": [
    "print('Tempo necessário para a realização dos cálculos utilizando arrays: {:.4f} segundos'.format(fim_array - inicio_array))\n",
    "print('Tempo necessário para a realização dos cálculos utilizando listas: {:.4f} segundos'.format(fim_lista - inicio_lista))\n",
    "print('\\nA abordagem de listas demorou {:.0f}x mais tempo! Esqueça listas e use arrays :)'.format(tempo - 1))"
   ]
  },
  {
   "attachments": {},
   "cell_type": "markdown",
   "metadata": {},
   "source": [
    "## Solução de sistema de equações lineares\n",
    "\n",
    "Chega de exemplos vazios, vamos usar o NumPy para resolver um problema concreto e que nos é muito familiar: a solução de sistemas de equações lineares. Considere o sistema linear de equações dado por"
   ]
  },
  {
   "attachments": {},
   "cell_type": "markdown",
   "metadata": {},
   "source": [
    "A função `*np.linalg.solve*` é um método do NumPy que permite resolver sistemas de equações lineares do tipo Ax = B, onde A é uma matriz de coeficientes, x é o vetor de incógnitas que queremos encontrar e B é o vetor de constantes.\n",
    "\n",
    "A sintaxe é a seguinte: **X = np.linalg.solve(A, B)**\n",
    "\n",
    "A é a matriz de coeficientes do sistema de equações.\n",
    "\n",
    "B é o vetor de constantes do sistema de equações.\n",
    "\n",
    "X é o vetor de soluções, ou seja, as valores das incógnitas que satisfazem as equações."
   ]
  },
  {
   "cell_type": "code",
   "execution_count": 184,
   "metadata": {},
   "outputs": [
    {
     "name": "stdout",
     "output_type": "stream",
     "text": [
      "O valor das incógnitas é:\n",
      "x = 1.0\n",
      "y = 2.0\n",
      "z = 3.0\n"
     ]
    }
   ],
   "source": [
    "# Definindo as equações do sistema\n",
    "# x + 2y - z = 2\n",
    "# 2x - y + z = 3\n",
    "# x + y + z = 6\n",
    "\n",
    "# Coeficientes das incógnitas\n",
    "A = np.array([[1, 2, -1],\n",
    "              [2, -1, 1],\n",
    "              [1, 1, 1]])\n",
    "\n",
    "# Constantes dos termos independentes\n",
    "B = np.array([2, 3, 6])\n",
    "\n",
    "# Resolvendo o sistema de equações lineares\n",
    "X = np.linalg.solve(A, B)\n",
    "\n",
    "# Imprimindo a solução\n",
    "print(\"O valor das incógnitas é:\")\n",
    "print(\"x =\", X[0])\n",
    "print(\"y =\", X[1])\n",
    "print(\"z =\", X[2])\n"
   ]
  }
 ],
 "metadata": {
  "kernelspec": {
   "display_name": "Python 3",
   "language": "python",
   "name": "python3"
  },
  "language_info": {
   "codemirror_mode": {
    "name": "ipython",
    "version": 3
   },
   "file_extension": ".py",
   "mimetype": "text/x-python",
   "name": "python",
   "nbconvert_exporter": "python",
   "pygments_lexer": "ipython3",
   "version": "3.11.3"
  },
  "orig_nbformat": 4
 },
 "nbformat": 4,
 "nbformat_minor": 2
}
