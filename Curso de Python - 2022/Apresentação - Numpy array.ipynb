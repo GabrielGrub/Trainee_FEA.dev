{
 "cells": [
  {
   "attachments": {},
   "cell_type": "markdown",
   "metadata": {},
   "source": [
    "# **Biblioteca NumPy**\n",
    "\n",
    "## Introdução \n",
    "*Olá devers, beleza?*\n",
    "\n",
    "\n",
    "Hoje faremos uma introdução a biblioteca NumPy, explorando recursos básicos e conceitos da biblioteca utilizada na geração dos dados da **primeira imagem de um buraco negro!**\n",
    "\n",
    "\n",
    "Além disso, vamos abordar a aplicabilidade dessa biblioteca por meio de exemplos práticos e usos no cotidiano.\n",
    "<br><br>\n",
    "<div align=\"center\">\n",
    "    <img src=\"https://i.redd.it/791y1x3j2ou41.png\" alt=\"titulo\" width=\"300px\" />\n",
    "</div>\n"
   ]
  },
  {
   "attachments": {},
   "cell_type": "markdown",
   "metadata": {},
   "source": [
    "## **O que é o NumPy?**\n",
    "É uma biblioteca (conjunto de módulos,funções e classes pré-definidos) em Python que permite a manipulação de dados homogêneos dentro de um elemento conhecido como *Array*. \n",
    "\n",
    "*Pontos positivos:* \n",
    "- Apesar de realizar tarefas que já existem dentro do Python (que seriam feitas em iterables built-in), o numpy fornece maior velocidade e eficiência de processos numéricos, diminuindo o uso de loops no código em comparação aos códigos tradicionais, além de realizar operações vetorizadas.\n",
    "\n",
    "- Além disso possui integração com outras bibliotecas externas como o **Pandas**, **Seaborn** e **MatPlotLib**, facilitando a manipulação de dados.\n",
    "\n",
    "*Pontos negativos:*\n",
    "- Lida apenas com dados homogêneos, dificultando operações entre dados string, booleans e numéricos dentro de um vetor.\n",
    "\n",
    "- Não possui uma integração tão básica com funções built-in, sendo as vezes restringida as suas próprias funções internas.\n",
    "\n",
    "\n",
    "###### * Também traz um decréscimo no uso de memória RAM e processamento devido a ser uma biblioteca programada em C, uma linguagem de baixo nível.\n"
   ]
  },
  {
   "cell_type": "code",
   "execution_count": 3,
   "metadata": {},
   "outputs": [],
   "source": [
    "# Começaremos importando a biblioteca, como na imagem acima\n",
    "import numpy as np"
   ]
  },
  {
   "attachments": {},
   "cell_type": "markdown",
   "metadata": {},
   "source": [
    "### Array e dimensionamento:\n",
    "\n",
    "Um dos benefícios dessa biblioteca consiste na facilidade com trabalhar e operar \"listas\" de dados (arrays), principalmente os numéricos. Para isso começaremos entendendo como funciona a função np.array()"
   ]
  },
  {
   "cell_type": "code",
   "execution_count": 4,
   "metadata": {},
   "outputs": [
    {
     "name": "stdout",
     "output_type": "stream",
     "text": [
      " Exemplo de array com apenas uma linha:[1 6 7]\n",
      "------------------------------------------------------------\n",
      "Exemplo de array bidimensional:\n",
      "[[1 2]\n",
      " [6 7]]\n",
      "------------------------------------------------------------\n",
      "Exemplo de array multidimensional:\n",
      "[[  6   0 100]\n",
      " [ 17  16  54]\n",
      " [ 20  49  48]\n",
      " [ 45  79  24]]\n"
     ]
    }
   ],
   "source": [
    "array_lin_ex = np.array([1,6,7])\n",
    "print(f' Exemplo de array com apenas uma linha:{array_lin_ex}')\n",
    "\n",
    "print(\"-\" * 60)\n",
    "\n",
    "array_matrix_2x2 = np.array([[1,2],[6,7]])\n",
    "print(f'''Exemplo de array bidimensional:\n",
    "{array_matrix_2x2}''')\n",
    "\n",
    "print(\"-\" * 60)\n",
    "\n",
    "array_matrix_3x4 = np.array([[6,0,100],[17,16,54],[20,49,48],[45,79,24]])\n",
    "print(f'''Exemplo de array multidimensional:\n",
    "{array_matrix_3x4}''')"
   ]
  },
  {
   "attachments": {},
   "cell_type": "markdown",
   "metadata": {},
   "source": [
    "### Atributos de array"
   ]
  },
  {
   "cell_type": "code",
   "execution_count": 47,
   "metadata": {},
   "outputs": [
    {
     "name": "stdout",
     "output_type": "stream",
     "text": [
      "[['a' 'e' '0' 'True']\n",
      " ['1' '5' '6' 'False']]\n",
      "--------------------------------------------------      \n",
      "|  Atributos:                                    |\n",
      "| - Tamanho da matriz = (2, 4) ;                 |\n",
      "| - Tipo de dado da matriz = <U11 ;              |\n",
      "| - Número de dimensões = 2                      |\n",
      "--------------------------------------------------\n"
     ]
    }
   ],
   "source": [
    "arr = np.array([['a','e',0,True],['1',5,6,False]])\n",
    "\n",
    "# Tamanho do array\n",
    "tamanho_array = arr.shape\n",
    "\n",
    "# Tipo do Array\n",
    "tipo_array = arr.dtype\n",
    "\n",
    "# Memória armazenada\n",
    "ram_array = arr.data\n",
    "\n",
    "# Número de dimensões do array \n",
    "ndimensoes_array = array_matrix_3x4.ndim\n",
    "\n",
    "print(f'''{arr}\n",
    "--------------------------------------------------      \n",
    "|  Atributos:                                    |\n",
    "| - Tamanho da matriz = {tamanho_array} ;                 |\n",
    "| - Tipo de dado da matriz = {tipo_array} ;              |\n",
    "| - Número de dimensões = {ndimensoes_array}                      |\n",
    "--------------------------------------------------''')\n"
   ]
  }
 ],
 "metadata": {
  "kernelspec": {
   "display_name": "Python 3",
   "language": "python",
   "name": "python3"
  },
  "language_info": {
   "codemirror_mode": {
    "name": "ipython",
    "version": 3
   },
   "file_extension": ".py",
   "mimetype": "text/x-python",
   "name": "python",
   "nbconvert_exporter": "python",
   "pygments_lexer": "ipython3",
   "version": "3.10.4"
  },
  "orig_nbformat": 4
 },
 "nbformat": 4,
 "nbformat_minor": 2
}
