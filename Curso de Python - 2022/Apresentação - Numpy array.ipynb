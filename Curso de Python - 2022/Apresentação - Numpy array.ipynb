{
 "cells": [
  {
   "attachments": {},
   "cell_type": "markdown",
   "metadata": {},
   "source": [
    "# **Biblioteca NumPy**\n",
    "\n",
    "## Introdução \n",
    "*Olá devers, beleza?*\n",
    "\n",
    "\n",
    "Hoje faremos uma introdução a biblioteca NumPy, explorando recursos básicos e conceitos da biblioteca utilizada na geração dos dados da ***primeira imagem de um buraco negro!***\n",
    "\n",
    "\n",
    "Além disso, vamos abordar a aplicabilidade dessa biblioteca por meio de exemplos práticos e usos no cotidiano.\n",
    "<br><br>\n",
    "<div align=\"center\">\n",
    "    <img src=\"https://i.redd.it/791y1x3j2ou41.png\" alt=\"titulo\" width=\"300px\" />\n",
    "</div>\n"
   ]
  },
  {
   "cell_type": "code",
   "execution_count": 14,
   "metadata": {},
   "outputs": [],
   "source": [
    "# Começaremos importando a biblioteca, como na imagem acima\n",
    "import numpy as np"
   ]
  },
  {
   "attachments": {},
   "cell_type": "markdown",
   "metadata": {},
   "source": [
    "### Array e dimensionamento:\n",
    "\n",
    "Um dos benefícios dessa biblioteca consiste na facilidade com trabalhar e operar \"listas\" de dados (arrays), principalmente os numéricos. Para isso começaremos entendendo como funciona a função np.array(), o que é isso e as dimensões distintas de array."
   ]
  },
  {
   "cell_type": "code",
   "execution_count": 17,
   "metadata": {},
   "outputs": [
    {
     "name": "stdout",
     "output_type": "stream",
     "text": [
      " Exemplo de array com apenas uma linha:[1 6 7]\n",
      "------------------------------------------------------------\n",
      "Exemplo de array bidimensional:\n",
      "[[1 2]\n",
      " [6 7]]\n",
      "------------------------------------------------------------\n",
      "Exemplo de array multidimensional:\n",
      "[[  6   0 100]\n",
      " [ 17  16  54]\n",
      " [ 20  49  48]\n",
      " [ 45  79  24]]\n"
     ]
    }
   ],
   "source": [
    "array_lin_ex = np.array([1,6,7])\n",
    "print(f' Exemplo de array com apenas uma linha:{array_lin_ex}')\n",
    "\n",
    "print(\"-\" * 60)\n",
    "\n",
    "array_matrix_2x2 = np.array([[1,2],[6,7]])\n",
    "print(f'''Exemplo de array bidimensional:\n",
    "{array_matrix_2x2}''')\n",
    "\n",
    "print(\"-\" * 60)\n",
    "\n",
    "array_matrix_3x4 = np.array([[6,0,100],[17,16,54],[20,49,48],[45,79,24]])\n",
    "print(f'''Exemplo de array multidimensional:\n",
    "{array_matrix_3x4}''')"
   ]
  },
  {
   "attachments": {},
   "cell_type": "markdown",
   "metadata": {},
   "source": [
    "Operações com arrays"
   ]
  },
  {
   "attachments": {},
   "cell_type": "markdown",
   "metadata": {},
   "source": [
    "arrays --> tipo de dado homogeneo, explicar o array\n",
    "-se tentar heterogeneo converte todos para o mesmo tipo\n",
    "- pode se realizar operações com arrays de tipo numérico\n",
    "- array vs lista\n",
    "-- listas permitem dados heterogeneos\n",
    "-- array são mais rápidos, menor armazenamento e maior flexibilidade nos cálculos matemáticos\n",
    "-- é possível fazer cálculos com o array como se fosse um número (altera a lista por inteiro)\n"
   ]
  },
  {
   "cell_type": "code",
   "execution_count": 5,
   "metadata": {},
   "outputs": [
    {
     "data": {
      "text/plain": [
       "array([[1., 0., 0., 0.],\n",
       "       [0., 1., 0., 0.],\n",
       "       [0., 0., 1., 0.],\n",
       "       [0., 0., 0., 1.]])"
      ]
     },
     "execution_count": 5,
     "metadata": {},
     "output_type": "execute_result"
    }
   ],
   "source": [
    "np.zeros(5)\n",
    "np.ones(4)\n",
    "#aleatório\n",
    "np.empty(3)\n",
    "#sequencial\n",
    "np.arange(10)\n",
    "np.arange(0,10,5) #inicio, fim e step\n",
    "# array sequencial espaçado linearmente\n",
    "np.linspace(0,22, num=5)\n",
    "#array aleatório bidimensional\n",
    "np.random.random((2,4))\n",
    "# array identidade\n",
    "np.identity(4)\n"
   ]
  },
  {
   "cell_type": "code",
   "execution_count": null,
   "metadata": {},
   "outputs": [],
   "source": [
    "# Precisa ter o mesmo número de colunas\n",
    "array_a = np.array([4,3,1])\n",
    "array_b = np.array([6,4,1])\n",
    "c = np.concatenate((a,b))\n",
    "x = np.sort(c)"
   ]
  },
  {
   "cell_type": "code",
   "execution_count": null,
   "metadata": {},
   "outputs": [],
   "source": [
    "# filtrando numeros divisiveis por 2\n",
    "c_crescente[(x % 2 == 0)]\n",
    "# filtrando numeros divisiveis por 2 e por 5\n",
    "c_crescente[(x % 2 == 0)] & [(x%5 ==0)]\n",
    "# substituir números que não são divisíveis por 3 pelo número 0\n",
    "np.where(c_crescente % 3 ==0,c_crescente,0)\n"
   ]
  },
  {
   "cell_type": "code",
   "execution_count": 8,
   "metadata": {},
   "outputs": [
    {
     "name": "stdout",
     "output_type": "stream",
     "text": [
      "[873 526 854 ... 265  63 513]\n",
      "resultado calculado em 0.0 minutos e 0.01600170135498047 segundos.\n"
     ]
    }
   ],
   "source": [
    "# teste de eficiência\n",
    "import time\n",
    "start_time = time.time()\n",
    "\n",
    "array_100000 = np.random.randint(0,1001,size=100_000)\n",
    "\n",
    "end_time = time.time()\n",
    "\n",
    "print(f'resultado calculado em {(end_time-start_time)//60} minutos e {(end_time-start_time)%60} segundos.')"
   ]
  },
  {
   "cell_type": "code",
   "execution_count": null,
   "metadata": {},
   "outputs": [],
   "source": [
    "# Operações com array\n",
    "array_100000.shape\n",
    "array_100000[0:100]\n",
    "array_100000.min()\n",
    "array_100000.max()\n",
    "array_100000.sum()\n",
    "array_100000.mean()\n",
    "array_100000.var()\n",
    "array_100000.std()\n"
   ]
  },
  {
   "cell_type": "code",
   "execution_count": 14,
   "metadata": {},
   "outputs": [
    {
     "name": "stdout",
     "output_type": "stream",
     "text": [
      "[[ 1  7]\n",
      " [24 12]\n",
      " [80 33]\n",
      " [57 99]\n",
      " [ 6 60]] (5, 2)\n",
      "----------------------------------------\n",
      "[ 1  7 24 12 80 33 57 99  6 60]\n",
      "----------------------------------------\n",
      "[[ 1  7 24 12 80]\n",
      " [33 57 99  6 60]]\n"
     ]
    }
   ],
   "source": [
    "g = np.array([[1,7],[24,12],[80,33],[57,99],[6,60]]) #cada vírgula entre [],[] separa em linhas distintas e vírgula dentro do [,] separa em coluna \n",
    "# esse array tem 5 linhas e 2 colunas\n",
    "print(g,g.shape)\n",
    "g_flat = g.flatten()\n",
    "print(\"-\"*40)\n",
    "print(g_flat)\n",
    "print(\"-\"*40)\n",
    "g_reshape = g.reshape(2,5) #linha coluna\n",
    "print(g_reshape)"
   ]
  },
  {
   "cell_type": "code",
   "execution_count": 25,
   "metadata": {},
   "outputs": [
    {
     "data": {
      "text/plain": [
       "array([1., 3., 5.], dtype=float32)"
      ]
     },
     "execution_count": 25,
     "metadata": {},
     "output_type": "execute_result"
    }
   ],
   "source": [
    "# conversão de array\n",
    "g = np.array([1,3,5],dtype=np.float32)\n",
    "g"
   ]
  }
 ],
 "metadata": {
  "kernelspec": {
   "display_name": "Python 3",
   "language": "python",
   "name": "python3"
  },
  "language_info": {
   "codemirror_mode": {
    "name": "ipython",
    "version": 3
   },
   "file_extension": ".py",
   "mimetype": "text/x-python",
   "name": "python",
   "nbconvert_exporter": "python",
   "pygments_lexer": "ipython3",
   "version": "3.10.4"
  },
  "orig_nbformat": 4
 },
 "nbformat": 4,
 "nbformat_minor": 2
}
