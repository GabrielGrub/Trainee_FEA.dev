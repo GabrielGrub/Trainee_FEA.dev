{
 "cells": [
  {
   "cell_type": "markdown",
   "metadata": {},
   "source": [
    "# Futebol brasileiro (brasileirão/copa/liberta) - GRUPO 1"
   ]
  },
  {
   "cell_type": "markdown",
   "metadata": {},
   "source": [
    "**Membros do Grupo 01:**\n",
    "- Amanda Yamasaki\n",
    "- Gabriel Grub\n",
    "- Maria Dulce Matos\n",
    "- Paulo Sergio\n",
    "- Theo Borten"
   ]
  },
  {
   "cell_type": "markdown",
   "metadata": {},
   "source": [
    "###  Projeto"
   ]
  },
  {
   "cell_type": "markdown",
   "metadata": {},
   "source": [
    "**Hipóteses:**\n",
    "\n",
    "1- O horário da partida influencia significativamente a dinâmica do jogo, demonstrando uma relação entre o horário de início e a quantidade de gols marcados.\n",
    "\n",
    "2- Existe uma correlação positiva entre a classificação dos clubes nos campeonatos da Libertadores, Brasileirão e Copa do Brasil, indicando uma tendência consistente de desempenho entre essas competições.\n",
    "\n",
    "3- Há uma correlação positiva entre o desempenho recente de um clube, medido pelos resultados dos três jogos anteriores, e o desempenho no jogo subsequente.\n",
    "\n",
    "\n",
    "**Resumo:**\n",
    "\n",
    "**Motivação:** \n",
    "\n",
    "Ao contrário de loterias numéricas ou jogos com dados (cujos dados são justos), a “loteria esportiva” do futebol não é caracterizada por seus números equiprováveis. No futebol, jogos costumeiramente têm times favoritos e fatores internos e externos não quantificados no cálculo de probabilidades - como o emocional dos jogadores e as condições do ambiente da partida. Levando essa subjetividade em consideração, pode-se dizer que há uma distribuição de probabilidade desigual entre os possíveis resultados. É com este tipo de problema que nos deparamos ao tentar tratar o Campeonato Brasileiro probabilisticamente, e então, realizamos hipóteses para verificar correlações e padrões-ocultos entre dados coletados sobre torneios dos últimos anos no Brasil. Logo, temos como objetivo destrinchar os inúmeros fatores que influenciam nas probabilidades de resultado de um jogo de futebol, e sobretudo analisar como esses detalhes se revelam através dos dados numéricos sobre torneios no Brasil."
   ]
  },
  {
   "cell_type": "markdown",
   "metadata": {},
   "source": [
    "### Importando as bibliotecas necessárias e carregando a base de dados para utilização no Python"
   ]
  },
  {
   "cell_type": "code",
   "execution_count": 412,
   "metadata": {},
   "outputs": [],
   "source": [
    "import pandas as pd\n",
    "import matplotlib.pyplot as plt\n",
    "import numpy as np\n",
    "import seaborn as sn\n",
    "from datetime import datetime\n",
    "import plotly.graph_objects as go\n",
    "import plotly.express as px\n",
    "\n",
    "brasileirao = pd.read_csv('brasileirao.csv')\n",
    "copa_do_brasil = pd.read_csv(\"copa_do_brasil.csv\")\n",
    "libertadores = pd.read_csv(\"libertadores.csv\")"
   ]
  },
  {
   "cell_type": "markdown",
   "metadata": {},
   "source": [
    "### Descrição das bases de dados e suas principais características."
   ]
  },
  {
   "cell_type": "markdown",
   "metadata": {},
   "source": [
    "#### Brasileirão"
   ]
  },
  {
   "cell_type": "code",
   "execution_count": 413,
   "metadata": {},
   "outputs": [
    {
     "name": "stdout",
     "output_type": "stream",
     "text": [
      "<class 'pandas.core.frame.DataFrame'>\n",
      "RangeIndex: 4180 entries, 0 to 4179\n",
      "Data columns (total 9 columns):\n",
      " #   Column           Non-Null Count  Dtype  \n",
      "---  ------           --------------  -----  \n",
      " 0   datetime         4180 non-null   object \n",
      " 1   home_team        4180 non-null   object \n",
      " 2   home_team_state  4180 non-null   object \n",
      " 3   away_team        4180 non-null   object \n",
      " 4   away_team_state  4180 non-null   object \n",
      " 5   home_goal        4098 non-null   float64\n",
      " 6   away_goal        4098 non-null   float64\n",
      " 7   season           4180 non-null   int64  \n",
      " 8   round            4180 non-null   int64  \n",
      "dtypes: float64(2), int64(2), object(5)\n",
      "memory usage: 294.0+ KB\n"
     ]
    }
   ],
   "source": [
    "brasileirao.info() # Pegando informações da base de dados "
   ]
  },
  {
   "cell_type": "markdown",
   "metadata": {},
   "source": [
    "***Número de linhas:*** 4180\n",
    "\n",
    "***Número de colunas:*** 9\n",
    "\n",
    "***Memória alocada para a base de dados:*** 294.0+ KB\n",
    "\n",
    "***Tipos de dados:***\n",
    "\n",
    "- inteiro(2)\n",
    "\n",
    "- ponto flutuante(2)\n",
    "\n",
    "- objeto(5)\n",
    "\n",
    "***Tipo de dado de cada coluna:***\n",
    "\n",
    "- Coluna 1: Data e hora (data)\n",
    "\n",
    "- Coluna 2: Time da casa (string)\n",
    "\n",
    "- Coluna 3: Estado do time da casa (string)\n",
    "\n",
    "- Coluna 4: Time visitante (string)\n",
    "\n",
    "- Coluna 5: Estado do time visitante (string)\n",
    "\n",
    "- Coluna 6: Gol em casa (ponto flutuante)\n",
    "\n",
    "- Coluna 7: Gol fora de casa (ponto flutuante)\n",
    "\n",
    "- Coluna 8: Temporada (inteiro)\n",
    "\n",
    "- Coluna 9: Rodada (inteiro)"
   ]
  },
  {
   "cell_type": "markdown",
   "metadata": {},
   "source": [
    "**Distribuição dos valores das principais variáveis categóricas/strings**"
   ]
  },
  {
   "cell_type": "code",
   "execution_count": 414,
   "metadata": {},
   "outputs": [
    {
     "name": "stdout",
     "output_type": "stream",
     "text": [
      "Temporadas: [2012 2013 2014 2015 2016 2017 2018 2019 2020 2021 2022]\n",
      "Todos os clubes: 36\n"
     ]
    }
   ],
   "source": [
    "print(f'Temporadas: {brasileirao[\"season\"].unique()}') #Temporadas a que se referem os dados\n",
    "\n",
    "print(f'Todos os clubes: {brasileirao[\"home_team\"].nunique()}') #Números de clubes que jogaram na Copa do Brasil ao longo desses anos"
   ]
  },
  {
   "cell_type": "markdown",
   "metadata": {},
   "source": [
    "#### Copa do Brasil"
   ]
  },
  {
   "cell_type": "code",
   "execution_count": 415,
   "metadata": {},
   "outputs": [
    {
     "name": "stdout",
     "output_type": "stream",
     "text": [
      "<class 'pandas.core.frame.DataFrame'>\n",
      "RangeIndex: 1337 entries, 0 to 1336\n",
      "Data columns (total 7 columns):\n",
      " #   Column     Non-Null Count  Dtype  \n",
      "---  ------     --------------  -----  \n",
      " 0   round      1337 non-null   int64  \n",
      " 1   datetime   1337 non-null   object \n",
      " 2   home_team  1337 non-null   object \n",
      " 3   away_team  1337 non-null   object \n",
      " 4   home_goal  1321 non-null   float64\n",
      " 5   away_goal  1321 non-null   float64\n",
      " 6   season     1337 non-null   int64  \n",
      "dtypes: float64(2), int64(2), object(3)\n",
      "memory usage: 73.2+ KB\n"
     ]
    }
   ],
   "source": [
    "copa_do_brasil.info() # Pegando algumas informações da base de dados "
   ]
  },
  {
   "cell_type": "markdown",
   "metadata": {},
   "source": [
    "***Número de linhas:*** 1337\n",
    "\n",
    "***Número de colunas:*** 7\n",
    "\n",
    "***Memória alocada para a base de dados:*** 73.2+ KB\n",
    "\n",
    "***Tipos de dados:***\n",
    "\n",
    "- inteiro(2)\n",
    "\n",
    "- ponto flutuante(2)\n",
    "\n",
    "- objeto(3)\n",
    "\n",
    "***Tipo de dado de cada coluna:***\n",
    "\n",
    "- Coluna 1: Rodada (inteiro)\n",
    "\n",
    "- Coluna 2: Data e hora (data)\n",
    "\n",
    "- Coluna 3: Time da casa (string)\n",
    "\n",
    "- Coluna 4: Time visitante (string)\n",
    "\n",
    "- Coluna 5: Gol em casa (ponto flutuante)\n",
    "\n",
    "- Coluna 6: Gol fora de casa (ponto flutuante)\n",
    "\n",
    "- Coluna 7: Temporada (inteiro)"
   ]
  },
  {
   "cell_type": "markdown",
   "metadata": {},
   "source": [
    "**Distribuição dos valores das principais variáveis categóricas/strings**"
   ]
  },
  {
   "cell_type": "code",
   "execution_count": 416,
   "metadata": {},
   "outputs": [
    {
     "name": "stdout",
     "output_type": "stream",
     "text": [
      "Temporadas: [2012 2013 2014 2015 2016 2017 2018 2019 2020 2021]\n",
      "Todos os clubes: 275\n"
     ]
    }
   ],
   "source": [
    "print(f'Temporadas: {copa_do_brasil[\"season\"].unique()}') #Temporadas a que se referem os dados\n",
    "\n",
    "print(f'Todos os clubes: {copa_do_brasil[\"home_team\"].nunique()}') #Números de clubes que jogaram na Copa do Brasil ao longo desses anos"
   ]
  },
  {
   "cell_type": "markdown",
   "metadata": {},
   "source": [
    "#### Libertadores"
   ]
  },
  {
   "cell_type": "code",
   "execution_count": 417,
   "metadata": {},
   "outputs": [
    {
     "name": "stdout",
     "output_type": "stream",
     "text": [
      "<class 'pandas.core.frame.DataFrame'>\n",
      "RangeIndex: 1255 entries, 0 to 1254\n",
      "Data columns (total 7 columns):\n",
      " #   Column     Non-Null Count  Dtype  \n",
      "---  ------     --------------  -----  \n",
      " 0   datetime   1254 non-null   object \n",
      " 1   home_team  1255 non-null   object \n",
      " 2   away_team  1255 non-null   object \n",
      " 3   home_goal  1255 non-null   object \n",
      " 4   away_goal  1255 non-null   object \n",
      " 5   season     1254 non-null   float64\n",
      " 6   stage      1255 non-null   object \n",
      "dtypes: float64(1), object(6)\n",
      "memory usage: 68.8+ KB\n"
     ]
    }
   ],
   "source": [
    "libertadores.info() # Pegando algumas informações da base de dados "
   ]
  },
  {
   "cell_type": "markdown",
   "metadata": {},
   "source": [
    "***Número de linhas:*** 1255\n",
    "\n",
    "***Número de colunas:*** 7\n",
    "\n",
    "***Memória alocada para a base de dados:*** 68.8+ KB\n",
    "\n",
    "***Tipos de dados:***\n",
    "\n",
    "- ponto flutuante(1)\n",
    "\n",
    "- objeto(6)\n",
    "\n",
    "***Tipo de dado de cada coluna:***\n",
    "\n",
    "- Coluna 2: Data e hora (data)\n",
    "\n",
    "- Coluna 3: Time da casa (string)\n",
    "\n",
    "- Coluna 4: Time visitante (string)\n",
    "\n",
    "- Coluna 5: Gol em casa (int)\n",
    "\n",
    "- Coluna 6: Gol fora de casa (int)\n",
    "\n",
    "- Coluna 7: Temporada (ponto flutuante)\n",
    "\n",
    "- Coluna 7: Etapas do campeonato (string)"
   ]
  },
  {
   "cell_type": "markdown",
   "metadata": {},
   "source": [
    "**Distribuição dos valores das principais variáveis categóricas/strings**"
   ]
  },
  {
   "cell_type": "code",
   "execution_count": 418,
   "metadata": {},
   "outputs": [
    {
     "name": "stdout",
     "output_type": "stream",
     "text": [
      "Temporadas: [2013. 2014. 2015. 2016. 2017. 2018. 2019. 2020. 2021. 2022.   nan]\n",
      "Etapas do campeonato: ['group stage' 'final' 'semifinals' 'quarterfinals' 'round of 16']\n",
      "Total de clubes: 114\n"
     ]
    }
   ],
   "source": [
    "print(f'Temporadas: {libertadores[\"season\"].unique()}') #Temporadas a que se referem os dados\n",
    "\n",
    "print(f'Etapas do campeonato: {libertadores[\"stage\"].unique()}') #Etapas do campeonato\n",
    "\n",
    "print(f'Total de clubes: {libertadores[\"home_team\"].nunique()}') #Números de clubes que jogaram a libertadores ao longo desses anos"
   ]
  },
  {
   "cell_type": "markdown",
   "metadata": {},
   "source": [
    "### Filtrando os dados"
   ]
  },
  {
   "cell_type": "code",
   "execution_count": 419,
   "metadata": {},
   "outputs": [],
   "source": [
    "valor_indesejado = 2022\n",
    "libertadores = libertadores.drop(libertadores[libertadores['season'] == valor_indesejado].index)\n",
    "\n",
    "valor_indesejado = 2012\n",
    "copa_do_brasil = copa_do_brasil.drop(copa_do_brasil[copa_do_brasil['season'] == valor_indesejado].index)\n",
    "\n",
    "valor_indesejado = 2012\n",
    "brasileirao = brasileirao.drop(brasileirao[brasileirao['season'] == valor_indesejado].index)\n",
    "\n",
    "valor_indesejado = 2022\n",
    "brasileirao = brasileirao.drop(brasileirao[brasileirao['season'] == valor_indesejado].index)"
   ]
  },
  {
   "cell_type": "code",
   "execution_count": 420,
   "metadata": {},
   "outputs": [
    {
     "name": "stdout",
     "output_type": "stream",
     "text": [
      "Temporadas: [2013. 2014. 2015. 2016. 2017. 2018. 2019. 2020. 2021.   nan]\n",
      "Temporadas: [2013 2014 2015 2016 2017 2018 2019 2020 2021]\n",
      "Temporadas: [2013 2014 2015 2016 2017 2018 2019 2020 2021]\n"
     ]
    }
   ],
   "source": [
    "print(f'Temporadas: {libertadores[\"season\"].unique()}')\n",
    "print(f'Temporadas: {copa_do_brasil[\"season\"].unique()}')\n",
    "print(f'Temporadas: {brasileirao[\"season\"].unique()}')"
   ]
  },
  {
   "cell_type": "markdown",
   "metadata": {},
   "source": [
    "### Limpando os dados"
   ]
  },
  {
   "cell_type": "markdown",
   "metadata": {},
   "source": [
    "#### Libertadores"
   ]
  },
  {
   "cell_type": "code",
   "execution_count": 421,
   "metadata": {},
   "outputs": [
    {
     "name": "stdout",
     "output_type": "stream",
     "text": [
      "Valores nulos nos dados da Libertadores inicialmente: \n",
      "datetime     1\n",
      "home_team    0\n",
      "away_team    0\n",
      "home_goal    0\n",
      "away_goal    0\n",
      "season       1\n",
      "stage        0\n",
      "dtype: int64\n",
      "\n",
      "Valores nulos nos dados da Libertadores após a limpeza: \n",
      "datetime     0\n",
      "home_team    0\n",
      "away_team    0\n",
      "home_goal    0\n",
      "away_goal    0\n",
      "season       0\n",
      "stage        0\n",
      "dtype: int64\n",
      "\n"
     ]
    }
   ],
   "source": [
    "print(f'Valores nulos nos dados da Libertadores inicialmente: \\n{libertadores.isna().sum()}\\n')\n",
    "\n",
    "libertadores.iloc[363, libertadores.columns.get_loc('home_goal')] = 0\n",
    "libertadores.iloc[363, libertadores.columns.get_loc('away_goal')] = 3\n",
    "libertadores.iloc[363, libertadores.columns.get_loc('home_goal')] = 0\n",
    "libertadores.drop(index = 1254, inplace=True)\n",
    "\n",
    "print(f'Valores nulos nos dados da Libertadores após a limpeza: \\n{libertadores.isna().sum()}\\n')"
   ]
  },
  {
   "cell_type": "markdown",
   "metadata": {},
   "source": [
    "#### Brasileirão"
   ]
  },
  {
   "cell_type": "code",
   "execution_count": 422,
   "metadata": {},
   "outputs": [
    {
     "name": "stdout",
     "output_type": "stream",
     "text": [
      "Valores nulos nos dados do Brasileirão: \n",
      "datetime           0\n",
      "home_team          0\n",
      "home_team_state    0\n",
      "away_team          0\n",
      "away_team_state    0\n",
      "home_goal          1\n",
      "away_goal          1\n",
      "season             0\n",
      "round              0\n",
      "dtype: int64\n",
      "\n",
      "Valores nulos nos dados do Brasileirão: \n",
      "datetime           0\n",
      "home_team          0\n",
      "home_team_state    0\n",
      "away_team          0\n",
      "away_team_state    0\n",
      "home_goal          0\n",
      "away_goal          0\n",
      "season             0\n",
      "round              0\n",
      "dtype: int64\n",
      "\n"
     ]
    }
   ],
   "source": [
    "print(f'Valores nulos nos dados do Brasileirão: \\n{brasileirao.isna().sum()}\\n')\n",
    "\n",
    "brasileirao.iloc[1517, brasileirao.columns.get_loc('home_goal')] = 1\n",
    "brasileirao.iloc[1517, brasileirao.columns.get_loc('away_goal')] = 3\n",
    "\n",
    "print(f'Valores nulos nos dados do Brasileirão: \\n{brasileirao.isna().sum()}\\n')"
   ]
  },
  {
   "cell_type": "markdown",
   "metadata": {},
   "source": [
    "#### Copa do Brasil"
   ]
  },
  {
   "cell_type": "code",
   "execution_count": 423,
   "metadata": {},
   "outputs": [
    {
     "name": "stdout",
     "output_type": "stream",
     "text": [
      "Valores nulos nos dados do Copa do Brasil: \n",
      "round         0\n",
      "datetime      0\n",
      "home_team     0\n",
      "away_team     0\n",
      "home_goal    16\n",
      "away_goal    16\n",
      "season        0\n",
      "dtype: int64\n",
      "Valores nulos nos dados do Copa do Brasil: \n",
      "round        0\n",
      "datetime     0\n",
      "home_team    0\n",
      "away_team    0\n",
      "home_goal    0\n",
      "away_goal    0\n",
      "season       0\n",
      "dtype: int64\n"
     ]
    }
   ],
   "source": [
    "print(f'Valores nulos nos dados do Copa do Brasil: \\n{copa_do_brasil.isna().sum()}')\n",
    "\n",
    "copa_do_brasil.drop(index=range(1321, 1337), inplace=True)\n",
    "\n",
    "print(f'Valores nulos nos dados do Copa do Brasil: \\n{copa_do_brasil.isna().sum()}')"
   ]
  },
  {
   "cell_type": "markdown",
   "metadata": {},
   "source": [
    "### Análise dos dados"
   ]
  },
  {
   "cell_type": "markdown",
   "metadata": {},
   "source": [
    "**Matriz de Correlação - Libertadores**"
   ]
  },
  {
   "cell_type": "code",
   "execution_count": 424,
   "metadata": {},
   "outputs": [
    {
     "data": {
      "text/plain": [
       "<Axes: >"
      ]
     },
     "execution_count": 424,
     "metadata": {},
     "output_type": "execute_result"
    },
    {
     "data": {
      "image/png": "[encoded data removed]",
      "text/plain": [
       "<Figure size 640x480 with 2 Axes>"
      ]
     },
     "metadata": {},
     "output_type": "display_data"
    }
   ],
   "source": [
    "libertadores.replace('-', float('nan'), inplace=True)\n",
    "\n",
    "libertadores['datetime'] = pd.to_datetime(libertadores['datetime']).astype('int64')\n",
    "libertadores['home_goal'] = pd.to_numeric(libertadores['home_goal'])\n",
    "libertadores['away_goal'] = pd.to_numeric(libertadores['away_goal'])\n",
    "\n",
    "numericos_libertadores = libertadores.select_dtypes(include='number')\n",
    "\n",
    "matriz_correlacao_libertadores = numericos_libertadores.corr()\n",
    "\n",
    "plot = sn.heatmap(matriz_correlacao_libertadores, annot = True, fmt=\".1f\", linewidths=.6)\n",
    "\n",
    "plot"
   ]
  },
  {
   "cell_type": "code",
   "execution_count": 425,
   "metadata": {},
   "outputs": [
    {
     "data": {
      "text/plain": [
       "<Axes: >"
      ]
     },
     "execution_count": 425,
     "metadata": {},
     "output_type": "execute_result"
    },
    {
     "data": {
      "image/png": "[encoded data removed]",
      "text/plain": [
       "<Figure size 640x480 with 2 Axes>"
      ]
     },
     "metadata": {},
     "output_type": "display_data"
    }
   ],
   "source": [
    "copa_do_brasil.replace('-', float('nan'), inplace=True)\n",
    "\n",
    "copa_do_brasil['datetime'] = pd.to_datetime(copa_do_brasil['datetime']).astype('int64')\n",
    "copa_do_brasil['home_goal'] = pd.to_numeric(copa_do_brasil['home_goal'])\n",
    "copa_do_brasil['away_goal'] = pd.to_numeric(copa_do_brasil['away_goal'])\n",
    "\n",
    "numericos_copa_do_brasil = copa_do_brasil.select_dtypes(include='number')\n",
    "\n",
    "matriz_correlacao_copa_do_brasil = numericos_copa_do_brasil.corr()\n",
    "\n",
    "plot = sn.heatmap(matriz_correlacao_copa_do_brasil, annot = True, fmt=\".1f\", linewidths=.6)\n",
    "\n",
    "plot"
   ]
  },
  {
   "cell_type": "code",
   "execution_count": 426,
   "metadata": {},
   "outputs": [
    {
     "data": {
      "text/plain": [
       "<Axes: >"
      ]
     },
     "execution_count": 426,
     "metadata": {},
     "output_type": "execute_result"
    },
    {
     "data": {
      "image/png": "[encoded data removed]",
      "text/plain": [
       "<Figure size 640x480 with 2 Axes>"
      ]
     },
     "metadata": {},
     "output_type": "display_data"
    }
   ],
   "source": [
    "brasileirao.replace('-', float('nan'), inplace=True) #Trocando as \"-\" por \"Nan\"\n",
    "\n",
    "brasileirao['datetime'] = pd.to_datetime(brasileirao['datetime']).astype('int64')\n",
    "brasileirao['home_goal'] = pd.to_numeric(brasileirao['home_goal'])\n",
    "brasileirao['away_goal'] = pd.to_numeric(brasileirao['away_goal'])\n",
    "\n",
    "numericos_brasileirao = brasileirao.select_dtypes(include='number')\n",
    "\n",
    "matriz_correlacao_brasileirao = numericos_brasileirao.corr()\n",
    "\n",
    "plot = sn.heatmap(matriz_correlacao_brasileirao, annot = True, fmt=\".1f\", linewidths=.6)\n",
    "\n",
    "plot"
   ]
  },
  {
   "cell_type": "markdown",
   "metadata": {},
   "source": [
    "### Funções"
   ]
  },
  {
   "cell_type": "code",
   "execution_count": 427,
   "metadata": {},
   "outputs": [
    {
     "data": {
      "text/plain": [
       "{'Flamengo-RJ': 581,\n",
       " 'Atletico-MG': 566,\n",
       " 'Gremio-RS': 542,\n",
       " 'Corinthians-SP': 535,\n",
       " 'Santos-SP': 530,\n",
       " 'Sao Paulo-SP': 524,\n",
       " 'Palmeiras-SP': 514,\n",
       " 'Atletico-PR': 498,\n",
       " 'Internacional-RS': 464,\n",
       " 'Fluminense-RJ': 460,\n",
       " 'Cruzeiro-MG': 408,\n",
       " 'Botafogo-RJ': 328,\n",
       " 'Sport-PE': 325,\n",
       " 'Bahia-BA': 319,\n",
       " 'Chapecoense-SC': 287,\n",
       " 'Vasco da Gama-RJ': 274,\n",
       " 'Coritiba-PR': 259,\n",
       " 'Goias-GO': 233,\n",
       " 'Vitoria-BA': 222,\n",
       " 'Ceara-CE': 185,\n",
       " 'Ponte Preta-SP': 180,\n",
       " 'Fortaleza-CE': 152,\n",
       " 'Atletico-GO': 139,\n",
       " 'Figueirense-SC': 127,\n",
       " 'America-MG': 121,\n",
       " 'Red Bull Bragantino-SP': 109,\n",
       " 'Avai-SC': 105,\n",
       " 'Criciuma-SC': 78,\n",
       " 'Portuguesa-SP': 48,\n",
       " 'Cuiaba-MT': 47,\n",
       " 'Juventude-RS': 46,\n",
       " 'Csa-AL': 32,\n",
       " 'Joinville-SC': 31,\n",
       " 'Santa Cruz-PE': 31,\n",
       " 'Parana-PR': 23,\n",
       " 'Nautico-PE': 20}"
      ]
     },
     "execution_count": 427,
     "metadata": {},
     "output_type": "execute_result"
    }
   ],
   "source": [
    "\n",
    "def won_match(team1, team2, result1, result2):\n",
    "    \"\"\"Recebe dois times, e os gols feitos por cada um no jogo, e retorna o nome do vencedor, e o empate caso não tenha\"\"\"\n",
    "    if result1 == result2:  # draw\n",
    "        return \"Draw\"\n",
    "    if result2 > result1:  # result 2 ganha\n",
    "        return team2\n",
    "    else:\n",
    "        return team1  # result 1 ganha\n",
    "\n",
    "teams = brasileirao[\"home_team\"].unique()\n",
    "# mudar para listas?\n",
    "\n",
    "def classificação(data_frame):\n",
    "    tabela = teams  # trabalhar com dicionarios)\n",
    "    tabela = {team: 0 for team in tabela}\n",
    "    for _, row in data_frame.iterrows():\n",
    "        result = won_match(\n",
    "            row[\"home_team\"],\n",
    "            row[\"away_team\"],\n",
    "            row[\"home_goal\"],\n",
    "            row[\"away_goal\"],\n",
    "        )\n",
    "        if result != \"Draw\":\n",
    "            tabela[result] += 3\n",
    "        else:\n",
    "            tabela[row[\"home_team\"]] += 1\n",
    "            tabela[row[\"away_team\"]] += 1\n",
    "\n",
    "    tabela = dict(\n",
    "        sorted(tabela.items(), key=lambda x: x[1], reverse=True)\n",
    "    )  # sort dos dados para ficar em ordem\n",
    "    return tabela\n",
    "\n",
    "classificação(brasileirao)\n"
   ]
  },
  {
   "cell_type": "code",
   "execution_count": 428,
   "metadata": {},
   "outputs": [],
   "source": [
    "#display(brasileirao)\n",
    "\n",
    "#brasileirao = brasileirao.drop('datetime', axis=1)\n",
    "\n",
    "#brasileirao.dtypes\n",
    "\n",
    "#print(brasileirao.shape)\n",
    "\n",
    "#brasileirao.isnull().sum()\n",
    "\n",
    "#brasileirao.dropna(inplace = True)\n",
    "#print(brasileirao.shape)\n",
    "\n",
    "#duplicados = brasileirao[brasileirao.duplicated(keep = 'first')]\n",
    "#print(duplicados)\n",
    "\n",
    "#brasileirao.drop_duplicates(inplace=True)\n",
    "#brasileirao.duplicated().sum()\n",
    "\n",
    "\n",
    "#brasileirao_datetime = brasileirao.iloc[:,0]\n",
    "#brasileirao_datetime"
   ]
  },
  {
   "cell_type": "code",
   "execution_count": 429,
   "metadata": {},
   "outputs": [],
   "source": [
    "#texto = '2017-07-23 16:00:00'\n",
    "\n",
    "#texto[12:]\n",
    "\n",
    "#brasileirao['Date'] = brasileirao.datetime.str[:10]\n",
    "#brasileirao['Time'] = brasileirao.datetime.str[11:]\n",
    "\n",
    "\n",
    "#brasileirao.head()"
   ]
  },
  {
   "cell_type": "code",
   "execution_count": 430,
   "metadata": {},
   "outputs": [],
   "source": [
    "#brasileirao = brasileirao.sort_values(by ='Time')\n",
    "#print(brasileirao.head(20))"
   ]
  },
  {
   "cell_type": "code",
   "execution_count": 431,
   "metadata": {},
   "outputs": [],
   "source": [
    "#br_grafico = sns.boxplot(x=\"home_goal\", y=\"Time\", \n",
    "#                    data=brasileirao)\n",
    "#plt.show()"
   ]
  },
  {
   "cell_type": "code",
   "execution_count": 432,
   "metadata": {},
   "outputs": [],
   "source": [
    "#br_grafico = sns.boxplot(x=\"away_goal\", y=\"Time\", \n",
    "#                    data=brasileirao)\n",
    "#plt.show()"
   ]
  },
  {
   "cell_type": "markdown",
   "metadata": {},
   "source": [
    "### 1º Hipótese "
   ]
  },
  {
   "cell_type": "code",
   "execution_count": 433,
   "metadata": {},
   "outputs": [],
   "source": [
    "# Formatando a coluna \"datetime\" para exibir apenas as horas e minutos\n",
    "brasileirao['datetime'] = pd.to_datetime(brasileirao['datetime'])\n",
    "brasileirao['time'] = brasileirao['datetime'].dt.strftime('%H:%M')\n",
    "\n",
    "libertadores['datetime'] = pd.to_datetime(libertadores['datetime'])\n",
    "libertadores['time'] = libertadores['datetime'].dt.strftime('%H:%M')\n",
    "\n",
    "copa_do_brasil['datetime'] = pd.to_datetime(copa_do_brasil['datetime'])\n",
    "copa_do_brasil['time'] = copa_do_brasil['datetime'].dt.strftime('%H:%M')"
   ]
  },
  {
   "cell_type": "code",
   "execution_count": 434,
   "metadata": {},
   "outputs": [
    {
     "data": {
      "image/png": "[encoded data removed]",
      "text/plain": [
       "<Figure size 640x480 with 1 Axes>"
      ]
     },
     "metadata": {},
     "output_type": "display_data"
    }
   ],
   "source": [
    "# Agrupando o DataFrame 'brasileirao' por time e calculando a média dos gols feitos em casa (home_goal) e fora de casa (away_goal) para cada time\n",
    "horarios = brasileirao.groupby('time')[[\"home_goal\",\"away_goal\"]].mean()\n",
    "\n",
    "# Agrupando o DataFrame 'brasileirao' por time e contando o tamanho de cada grupo, ou seja, a quantidade de jogos disputados por cada time\n",
    "tamanho_grupos = brasileirao.groupby('time').size()\n",
    "\n",
    "# Selecionando apenas os times que têm 30 ou mais jogos disputados\n",
    "times_mais_de_30 = tamanho_grupos[tamanho_grupos >= 200].index\n",
    "\n",
    "# Filtrando o DataFrame 'horarios' para conter apenas as médias de gols dos times que têm 100 ou mais jogos disputados\n",
    "horarios_filtrados_brasileirao = horarios.loc[times_mais_de_30]\n",
    "\n",
    "# Plotando um gráfico de barras para visualizar as médias de gols dos times que têm 30 ou mais jogos disputados\n",
    "ax = horarios_filtrados_brasileirao.plot(kind='bar', color=['Indigo', 'OrangeRed'])\n",
    "\n",
    "# Personalizando o gráfico com legendas nos eixos\n",
    "plt.xlabel('Horário do jogo') \n",
    "plt.ylabel('Média de Gols')\n",
    "plt.title('Gols na partida por hórario -  Brasileirão')\n",
    "plt.xticks(rotation=0)  # Rotação dos rótulos para que sejam exibidos na horizontal\n",
    "\n",
    "ax.legend([\"Gols em casa\", \"Gols fora de casa\"], bbox_to_anchor=(1.05, 1), loc='upper left')\n",
    "\n",
    "# Adicionando linhas de marcação horizontais\n",
    "plt.axhline(y=1.4, color='gray', linestyle='--', lw=0.3)\n",
    "plt.axhline(y=1, color='gray', linestyle='--', lw=0.3)\n",
    "plt.axhline(y=0.8, color='gray', linestyle='--', lw=0.3) \n",
    "plt.axhline(y=1.2, color='gray', linestyle='--', lw=0.3)\n",
    "\n",
    "# Exibindo o gráfico\n",
    "plt.show()"
   ]
  },
  {
   "cell_type": "code",
   "execution_count": 435,
   "metadata": {},
   "outputs": [
    {
     "data": {
      "image/png": "[encoded data removed]",
      "text/plain": [
       "<Figure size 640x480 with 1 Axes>"
      ]
     },
     "metadata": {},
     "output_type": "display_data"
    }
   ],
   "source": [
    "# Agrupando o DataFrame 'brasileirao' por time e calculando a média dos gols feitos em casa (home_goal) e fora de casa (away_goal) para cada time\n",
    "horarios = libertadores.groupby('time')[[\"home_goal\",\"away_goal\"]].mean()\n",
    "\n",
    "# Agrupando o DataFrame 'brasileirao' por time e contando o tamanho de cada grupo, ou seja, a quantidade de jogos disputados por cada time\n",
    "tamanho_grupos = libertadores.groupby('time').size()\n",
    "\n",
    "# Selecionando apenas os times que têm 30 ou mais jogos disputados\n",
    "times_mais_de_30 = tamanho_grupos[tamanho_grupos >=  100].index\n",
    "\n",
    "# Filtrando o DataFrame 'horarios' para conter apenas as médias de gols dos times que têm 100 ou mais jogos disputados\n",
    "horarios_filtrados_libertadores = horarios.loc[times_mais_de_30]\n",
    "\n",
    "# Plotando um gráfico de barras para visualizar as médias de gols dos times que têm 30 ou mais jogos disputados\n",
    "ax = horarios_filtrados_libertadores.plot(kind='bar', color=['Indigo', 'OrangeRed'])\n",
    "\n",
    "# Personalizando o gráfico com legendas nos eixos\n",
    "plt.xlabel('Horário do jogo') \n",
    "plt.ylabel('Média de Gols')\n",
    "plt.title('Gols na partida por hórario -  Libertadores')\n",
    "plt.xticks(rotation=0)  # Rotação dos rótulos para que sejam exibidos na horizontal\n",
    "\n",
    "ax.legend([\"Gols em casa\", \"Gols fora de casa\"], bbox_to_anchor=(1.05, 1), loc='upper left')\n",
    "\n",
    "# Adicionando linhas de marcação horizontais\n",
    "plt.axhline(y=1.4, color='gray', linestyle='--', lw=0.3)\n",
    "plt.axhline(y=1, color='gray', linestyle='--', lw=0.3)\n",
    "plt.axhline(y=0.8, color='gray', linestyle='--', lw=0.3) \n",
    "plt.axhline(y=1.2, color='gray', linestyle='--', lw=0.3)\n",
    "\n",
    "# Exibindo o gráfico\n",
    "plt.show()"
   ]
  },
  {
   "cell_type": "code",
   "execution_count": 436,
   "metadata": {},
   "outputs": [
    {
     "data": {
      "image/png": "[encoded data removed]",
      "text/plain": [
       "<Figure size 640x480 with 1 Axes>"
      ]
     },
     "metadata": {},
     "output_type": "display_data"
    }
   ],
   "source": [
    "# Agrupando o DataFrame 'brasileirao' por time e calculando a média dos gols feitos em casa (home_goal) e fora de casa (away_goal) para cada time\n",
    "horarios = copa_do_brasil.groupby('time')[[\"home_goal\",\"away_goal\"]].mean()\n",
    "\n",
    "# Agrupando o DataFrame 'brasileirao' por time e contando o tamanho de cada grupo, ou seja, a quantidade de jogos disputados por cada time\n",
    "tamanho_grupos = copa_do_brasil.groupby('time').size()\n",
    "\n",
    "# Selecionando apenas os times que têm 30 ou mais jogos disputados\n",
    "times_mais_de_30 = tamanho_grupos[tamanho_grupos >= 100].index\n",
    "\n",
    "# Filtrando o DataFrame 'horarios' para conter apenas as médias de gols dos times que têm 100 ou mais jogos disputados\n",
    "horarios_filtrados_copa = horarios.loc[times_mais_de_30]\n",
    "\n",
    "# Plotando um gráfico de barras para visualizar as médias de gols dos times que têm 30 ou mais jogos disputados\n",
    "ax = horarios_filtrados_copa.plot(kind='bar', color=['Indigo', 'OrangeRed'])\n",
    "\n",
    "# Personalizando o gráfico com legendas nos eixos\n",
    "plt.xlabel('Horário do jogo') \n",
    "plt.ylabel('Média de Gols')\n",
    "plt.title('Gols na partida por hórario - Copa do Brasil')\n",
    "plt.xticks(rotation=0)  # Rotação dos rótulos para que sejam exibidos na horizontal\n",
    "\n",
    "ax.legend([\"Gols em casa\", \"Gols fora de casa\"], bbox_to_anchor=(1.05, 1), loc='upper left')\n",
    "\n",
    "# Adicionando linhas de marcação horizontais\n",
    "plt.axhline(y=1.4, color='gray', linestyle='--', lw=0.3)\n",
    "plt.axhline(y=1, color='gray', linestyle='--', lw=0.3)\n",
    "plt.axhline(y=0.8, color='gray', linestyle='--', lw=0.3) \n",
    "plt.axhline(y=1.2, color='gray', linestyle='--', lw=0.3)\n",
    "\n",
    "# Exibindo o gráfico\n",
    "plt.show()"
   ]
  },
  {
   "cell_type": "code",
   "execution_count": 437,
   "metadata": {},
   "outputs": [
    {
     "data": {
      "image/png": "[encoded data removed]",
      "text/plain": [
       "<Figure size 1500x600 with 3 Axes>"
      ]
     },
     "metadata": {},
     "output_type": "display_data"
    }
   ],
   "source": [
    "fig, axes = plt.subplots(nrows=1, ncols=3, figsize=(15, 6))\n",
    "\n",
    "bar_width = 0.7\n",
    "\n",
    "horarios_filtrados_copa.plot(kind='bar', color=['Indigo', 'OrangeRed'], ax=axes[0], width=bar_width)\n",
    "horarios_filtrados_libertadores.plot(kind='bar', color=['Indigo', 'OrangeRed'], ax=axes[1], width=bar_width)\n",
    "horarios_filtrados_brasileirao.plot(kind='bar', color=['Indigo', 'OrangeRed'], ax=axes[2], width=bar_width)\n",
    "\n",
    "\n",
    "plt.tight_layout()\n",
    "\n",
    "plt.show()\n"
   ]
  },
  {
   "cell_type": "code",
   "execution_count": 464,
   "metadata": {},
   "outputs": [],
   "source": [
    "x = pd.DataFrame(brasileirao.groupby('home_team_state')[[\"home_goal\",\"away_goal\"]].mean())\n",
    "\n",
    "#x.plot(kind='bar', color=['Indigo', 'OrangeRed'])\n",
    "\n",
    "x['total_gols'] = x['home_goal'] + x['away_goal']\n",
    "\n",
    "x = x.drop(['home_goal', 'away_goal'], axis=1)\n",
    "x = x.drop(['AL', 'MT'], axis=0)"
   ]
  },
  {
   "cell_type": "code",
   "execution_count": 455,
   "metadata": {},
   "outputs": [],
   "source": [
    "geo_json_data = 'https://raw.githubusercontent.com/giuliano-oliveira/geodata-br-states/main/geojson/br_states.json'"
   ]
  },
  {
   "cell_type": "code",
   "execution_count": 471,
   "metadata": {},
   "outputs": [
    {
     "data": {
      "application/vnd.plotly.v1+json": {
       "config": {
        "plotlyServerURL": "https://plot.ly"
       },
       "data": [
        {
         "coloraxis": "coloraxis",
         "featureidkey": "properties.SIGLA",
         "geojson": "https://raw.githubusercontent.com/giuliano-oliveira/geodata-br-states/main/geojson/br_states.json",
         "hovertemplate": "<b>%{hovertext}</b><br><br>home_team_state=%{location}<br>total_gols=%{z}<extra></extra>",
         "hovertext": [
          "BA",
          "CE",
          "GO",
          "MG",
          "PE",
          "PR",
          "RJ",
          "RS",
          "SC",
          "SP"
         ],
         "locations": [
          "BA",
          "CE",
          "GO",
          "MG",
          "PE",
          "PR",
          "RJ",
          "RS",
          "SC",
          "SP"
         ],
         "name": "",
         "subplot": "mapbox",
         "type": "choroplethmapbox",
         "z": [
          2.442982456140351,
          2.0977443609022557,
          2.2631578947368425,
          2.5069252077562325,
          2.2865497076023393,
          2.1809210526315788,
          2.4176570458404076,
          2.3596491228070176,
          2.1644736842105265,
          2.398496240601504
         ]
        }
       ],
       "layout": {
        "coloraxis": {
         "cmax": 2.5069252077562325,
         "cmin": 2.0977443609022557,
         "colorbar": {
          "title": {
           "text": "total_gols"
          }
         },
         "colorscale": [
          [
           0,
           "rgb(255,245,240)"
          ],
          [
           0.125,
           "rgb(254,224,210)"
          ],
          [
           0.25,
           "rgb(252,187,161)"
          ],
          [
           0.375,
           "rgb(252,146,114)"
          ],
          [
           0.5,
           "rgb(251,106,74)"
          ],
          [
           0.625,
           "rgb(239,59,44)"
          ],
          [
           0.75,
           "rgb(203,24,29)"
          ],
          [
           0.875,
           "rgb(165,15,21)"
          ],
          [
           1,
           "rgb(103,0,13)"
          ]
         ]
        },
        "legend": {
         "tracegroupgap": 0
        },
        "mapbox": {
         "center": {
          "lat": -15.7801,
          "lon": -47.9292
         },
         "domain": {
          "x": [
           0,
           1
          ],
          "y": [
           0,
           1
          ]
         },
         "style": "carto-positron",
         "zoom": 3
        },
        "template": {
         "data": {
          "bar": [
           {
            "error_x": {
             "color": "#2a3f5f"
            },
            "error_y": {
             "color": "#2a3f5f"
            },
            "marker": {
             "line": {
              "color": "#E5ECF6",
              "width": 0.5
             },
             "pattern": {
              "fillmode": "overlay",
              "size": 10,
              "solidity": 0.2
             }
            },
            "type": "bar"
           }
          ],
          "barpolar": [
           {
            "marker": {
             "line": {
              "color": "#E5ECF6",
              "width": 0.5
             },
             "pattern": {
              "fillmode": "overlay",
              "size": 10,
              "solidity": 0.2
             }
            },
            "type": "barpolar"
           }
          ],
          "carpet": [
           {
            "aaxis": {
             "endlinecolor": "#2a3f5f",
             "gridcolor": "white",
             "linecolor": "white",
             "minorgridcolor": "white",
             "startlinecolor": "#2a3f5f"
            },
            "baxis": {
             "endlinecolor": "#2a3f5f",
             "gridcolor": "white",
             "linecolor": "white",
             "minorgridcolor": "white",
             "startlinecolor": "#2a3f5f"
            },
            "type": "carpet"
           }
          ],
          "choropleth": [
           {
            "colorbar": {
             "outlinewidth": 0,
             "ticks": ""
            },
            "type": "choropleth"
           }
          ],
          "contour": [
           {
            "colorbar": {
             "outlinewidth": 0,
             "ticks": ""
            },
            "colorscale": [
             [
              0,
              "#0d0887"
             ],
             [
              0.1111111111111111,
              "#46039f"
             ],
             [
              0.2222222222222222,
              "#7201a8"
             ],
             [
              0.3333333333333333,
              "#9c179e"
             ],
             [
              0.4444444444444444,
              "#bd3786"
             ],
             [
              0.5555555555555556,
              "#d8576b"
             ],
             [
              0.6666666666666666,
              "#ed7953"
             ],
             [
              0.7777777777777778,
              "#fb9f3a"
             ],
             [
              0.8888888888888888,
              "#fdca26"
             ],
             [
              1,
              "#f0f921"
             ]
            ],
            "type": "contour"
           }
          ],
          "contourcarpet": [
           {
            "colorbar": {
             "outlinewidth": 0,
             "ticks": ""
            },
            "type": "contourcarpet"
           }
          ],
          "heatmap": [
           {
            "colorbar": {
             "outlinewidth": 0,
             "ticks": ""
            },
            "colorscale": [
             [
              0,
              "#0d0887"
             ],
             [
              0.1111111111111111,
              "#46039f"
             ],
             [
              0.2222222222222222,
              "#7201a8"
             ],
             [
              0.3333333333333333,
              "#9c179e"
             ],
             [
              0.4444444444444444,
              "#bd3786"
             ],
             [
              0.5555555555555556,
              "#d8576b"
             ],
             [
              0.6666666666666666,
              "#ed7953"
             ],
             [
              0.7777777777777778,
              "#fb9f3a"
             ],
             [
              0.8888888888888888,
              "#fdca26"
             ],
             [
              1,
              "#f0f921"
             ]
            ],
            "type": "heatmap"
           }
          ],
          "heatmapgl": [
           {
            "colorbar": {
             "outlinewidth": 0,
             "ticks": ""
            },
            "colorscale": [
             [
              0,
              "#0d0887"
             ],
             [
              0.1111111111111111,
              "#46039f"
             ],
             [
              0.2222222222222222,
              "#7201a8"
             ],
             [
              0.3333333333333333,
              "#9c179e"
             ],
             [
              0.4444444444444444,
              "#bd3786"
             ],
             [
              0.5555555555555556,
              "#d8576b"
             ],
             [
              0.6666666666666666,
              "#ed7953"
             ],
             [
              0.7777777777777778,
              "#fb9f3a"
             ],
             [
              0.8888888888888888,
              "#fdca26"
             ],
             [
              1,
              "#f0f921"
             ]
            ],
            "type": "heatmapgl"
           }
          ],
          "histogram": [
           {
            "marker": {
             "pattern": {
              "fillmode": "overlay",
              "size": 10,
              "solidity": 0.2
             }
            },
            "type": "histogram"
           }
          ],
          "histogram2d": [
           {
            "colorbar": {
             "outlinewidth": 0,
             "ticks": ""
            },
            "colorscale": [
             [
              0,
              "#0d0887"
             ],
             [
              0.1111111111111111,
              "#46039f"
             ],
             [
              0.2222222222222222,
              "#7201a8"
             ],
             [
              0.3333333333333333,
              "#9c179e"
             ],
             [
              0.4444444444444444,
              "#bd3786"
             ],
             [
              0.5555555555555556,
              "#d8576b"
             ],
             [
              0.6666666666666666,
              "#ed7953"
             ],
             [
              0.7777777777777778,
              "#fb9f3a"
             ],
             [
              0.8888888888888888,
              "#fdca26"
             ],
             [
              1,
              "#f0f921"
             ]
            ],
            "type": "histogram2d"
           }
          ],
          "histogram2dcontour": [
           {
            "colorbar": {
             "outlinewidth": 0,
             "ticks": ""
            },
            "colorscale": [
             [
              0,
              "#0d0887"
             ],
             [
              0.1111111111111111,
              "#46039f"
             ],
             [
              0.2222222222222222,
              "#7201a8"
             ],
             [
              0.3333333333333333,
              "#9c179e"
             ],
             [
              0.4444444444444444,
              "#bd3786"
             ],
             [
              0.5555555555555556,
              "#d8576b"
             ],
             [
              0.6666666666666666,
              "#ed7953"
             ],
             [
              0.7777777777777778,
              "#fb9f3a"
             ],
             [
              0.8888888888888888,
              "#fdca26"
             ],
             [
              1,
              "#f0f921"
             ]
            ],
            "type": "histogram2dcontour"
           }
          ],
          "mesh3d": [
           {
            "colorbar": {
             "outlinewidth": 0,
             "ticks": ""
            },
            "type": "mesh3d"
           }
          ],
          "parcoords": [
           {
            "line": {
             "colorbar": {
              "outlinewidth": 0,
              "ticks": ""
             }
            },
            "type": "parcoords"
           }
          ],
          "pie": [
           {
            "automargin": true,
            "type": "pie"
           }
          ],
          "scatter": [
           {
            "fillpattern": {
             "fillmode": "overlay",
             "size": 10,
             "solidity": 0.2
            },
            "type": "scatter"
           }
          ],
          "scatter3d": [
           {
            "line": {
             "colorbar": {
              "outlinewidth": 0,
              "ticks": ""
             }
            },
            "marker": {
             "colorbar": {
              "outlinewidth": 0,
              "ticks": ""
             }
            },
            "type": "scatter3d"
           }
          ],
          "scattercarpet": [
           {
            "marker": {
             "colorbar": {
              "outlinewidth": 0,
              "ticks": ""
             }
            },
            "type": "scattercarpet"
           }
          ],
          "scattergeo": [
           {
            "marker": {
             "colorbar": {
              "outlinewidth": 0,
              "ticks": ""
             }
            },
            "type": "scattergeo"
           }
          ],
          "scattergl": [
           {
            "marker": {
             "colorbar": {
              "outlinewidth": 0,
              "ticks": ""
             }
            },
            "type": "scattergl"
           }
          ],
          "scattermapbox": [
           {
            "marker": {
             "colorbar": {
              "outlinewidth": 0,
              "ticks": ""
             }
            },
            "type": "scattermapbox"
           }
          ],
          "scatterpolar": [
           {
            "marker": {
             "colorbar": {
              "outlinewidth": 0,
              "ticks": ""
             }
            },
            "type": "scatterpolar"
           }
          ],
          "scatterpolargl": [
           {
            "marker": {
             "colorbar": {
              "outlinewidth": 0,
              "ticks": ""
             }
            },
            "type": "scatterpolargl"
           }
          ],
          "scatterternary": [
           {
            "marker": {
             "colorbar": {
              "outlinewidth": 0,
              "ticks": ""
             }
            },
            "type": "scatterternary"
           }
          ],
          "surface": [
           {
            "colorbar": {
             "outlinewidth": 0,
             "ticks": ""
            },
            "colorscale": [
             [
              0,
              "#0d0887"
             ],
             [
              0.1111111111111111,
              "#46039f"
             ],
             [
              0.2222222222222222,
              "#7201a8"
             ],
             [
              0.3333333333333333,
              "#9c179e"
             ],
             [
              0.4444444444444444,
              "#bd3786"
             ],
             [
              0.5555555555555556,
              "#d8576b"
             ],
             [
              0.6666666666666666,
              "#ed7953"
             ],
             [
              0.7777777777777778,
              "#fb9f3a"
             ],
             [
              0.8888888888888888,
              "#fdca26"
             ],
             [
              1,
              "#f0f921"
             ]
            ],
            "type": "surface"
           }
          ],
          "table": [
           {
            "cells": {
             "fill": {
              "color": "#EBF0F8"
             },
             "line": {
              "color": "white"
             }
            },
            "header": {
             "fill": {
              "color": "#C8D4E3"
             },
             "line": {
              "color": "white"
             }
            },
            "type": "table"
           }
          ]
         },
         "layout": {
          "annotationdefaults": {
           "arrowcolor": "#2a3f5f",
           "arrowhead": 0,
           "arrowwidth": 1
          },
          "autotypenumbers": "strict",
          "coloraxis": {
           "colorbar": {
            "outlinewidth": 0,
            "ticks": ""
           }
          },
          "colorscale": {
           "diverging": [
            [
             0,
             "#8e0152"
            ],
            [
             0.1,
             "#c51b7d"
            ],
            [
             0.2,
             "#de77ae"
            ],
            [
             0.3,
             "#f1b6da"
            ],
            [
             0.4,
             "#fde0ef"
            ],
            [
             0.5,
             "#f7f7f7"
            ],
            [
             0.6,
             "#e6f5d0"
            ],
            [
             0.7,
             "#b8e186"
            ],
            [
             0.8,
             "#7fbc41"
            ],
            [
             0.9,
             "#4d9221"
            ],
            [
             1,
             "#276419"
            ]
           ],
           "sequential": [
            [
             0,
             "#0d0887"
            ],
            [
             0.1111111111111111,
             "#46039f"
            ],
            [
             0.2222222222222222,
             "#7201a8"
            ],
            [
             0.3333333333333333,
             "#9c179e"
            ],
            [
             0.4444444444444444,
             "#bd3786"
            ],
            [
             0.5555555555555556,
             "#d8576b"
            ],
            [
             0.6666666666666666,
             "#ed7953"
            ],
            [
             0.7777777777777778,
             "#fb9f3a"
            ],
            [
             0.8888888888888888,
             "#fdca26"
            ],
            [
             1,
             "#f0f921"
            ]
           ],
           "sequentialminus": [
            [
             0,
             "#0d0887"
            ],
            [
             0.1111111111111111,
             "#46039f"
            ],
            [
             0.2222222222222222,
             "#7201a8"
            ],
            [
             0.3333333333333333,
             "#9c179e"
            ],
            [
             0.4444444444444444,
             "#bd3786"
            ],
            [
             0.5555555555555556,
             "#d8576b"
            ],
            [
             0.6666666666666666,
             "#ed7953"
            ],
            [
             0.7777777777777778,
             "#fb9f3a"
            ],
            [
             0.8888888888888888,
             "#fdca26"
            ],
            [
             1,
             "#f0f921"
            ]
           ]
          },
          "colorway": [
           "#636efa",
           "#EF553B",
           "#00cc96",
           "#ab63fa",
           "#FFA15A",
           "#19d3f3",
           "#FF6692",
           "#B6E880",
           "#FF97FF",
           "#FECB52"
          ],
          "font": {
           "color": "#2a3f5f"
          },
          "geo": {
           "bgcolor": "white",
           "lakecolor": "white",
           "landcolor": "#E5ECF6",
           "showlakes": true,
           "showland": true,
           "subunitcolor": "white"
          },
          "hoverlabel": {
           "align": "left"
          },
          "hovermode": "closest",
          "mapbox": {
           "style": "light"
          },
          "paper_bgcolor": "white",
          "plot_bgcolor": "#E5ECF6",
          "polar": {
           "angularaxis": {
            "gridcolor": "white",
            "linecolor": "white",
            "ticks": ""
           },
           "bgcolor": "#E5ECF6",
           "radialaxis": {
            "gridcolor": "white",
            "linecolor": "white",
            "ticks": ""
           }
          },
          "scene": {
           "xaxis": {
            "backgroundcolor": "#E5ECF6",
            "gridcolor": "white",
            "gridwidth": 2,
            "linecolor": "white",
            "showbackground": true,
            "ticks": "",
            "zerolinecolor": "white"
           },
           "yaxis": {
            "backgroundcolor": "#E5ECF6",
            "gridcolor": "white",
            "gridwidth": 2,
            "linecolor": "white",
            "showbackground": true,
            "ticks": "",
            "zerolinecolor": "white"
           },
           "zaxis": {
            "backgroundcolor": "#E5ECF6",
            "gridcolor": "white",
            "gridwidth": 2,
            "linecolor": "white",
            "showbackground": true,
            "ticks": "",
            "zerolinecolor": "white"
           }
          },
          "shapedefaults": {
           "line": {
            "color": "#2a3f5f"
           }
          },
          "ternary": {
           "aaxis": {
            "gridcolor": "white",
            "linecolor": "white",
            "ticks": ""
           },
           "baxis": {
            "gridcolor": "white",
            "linecolor": "white",
            "ticks": ""
           },
           "bgcolor": "#E5ECF6",
           "caxis": {
            "gridcolor": "white",
            "linecolor": "white",
            "ticks": ""
           }
          },
          "title": {
           "x": 0.05
          },
          "xaxis": {
           "automargin": true,
           "gridcolor": "white",
           "linecolor": "white",
           "ticks": "",
           "title": {
            "standoff": 15
           },
           "zerolinecolor": "white",
           "zerolinewidth": 2
          },
          "yaxis": {
           "automargin": true,
           "gridcolor": "white",
           "linecolor": "white",
           "ticks": "",
           "title": {
            "standoff": 15
           },
           "zerolinecolor": "white",
           "zerolinewidth": 2
          }
         }
        },
        "title": {
         "text": "Média de gols por Estado"
        }
       }
      }
     },
     "metadata": {},
     "output_type": "display_data"
    }
   ],
   "source": [
    "fig1 = px.choropleth_mapbox(\n",
    "    x,\n",
    "    geojson=geo_json_data,\n",
    "    locations=x.index,\n",
    "    featureidkey='properties.SIGLA',\n",
    "    color='total_gols',\n",
    "    color_continuous_scale='Reds',\n",
    "    range_color=(x['total_gols'].min(), x['total_gols'].max()),\n",
    "    mapbox_style='carto-positron',\n",
    "    center={\"lat\": -15.7801, \"lon\": -47.9292},\n",
    "    zoom=3,\n",
    "    hover_name=x.index,\n",
    "    title = 'Média de gols por Estado'\n",
    ")\n",
    "\n",
    "fig1.show()"
   ]
  },
  {
   "cell_type": "code",
   "execution_count": 472,
   "metadata": {},
   "outputs": [
    {
     "data": {
      "text/html": [
       "<div>\n",
       "<style scoped>\n",
       "    .dataframe tbody tr th:only-of-type {\n",
       "        vertical-align: middle;\n",
       "    }\n",
       "\n",
       "    .dataframe tbody tr th {\n",
       "        vertical-align: top;\n",
       "    }\n",
       "\n",
       "    .dataframe thead th {\n",
       "        text-align: right;\n",
       "    }\n",
       "</style>\n",
       "<table border=\"1\" class=\"dataframe\">\n",
       "  <thead>\n",
       "    <tr style=\"text-align: right;\">\n",
       "      <th></th>\n",
       "      <th>datetime</th>\n",
       "      <th>home_team</th>\n",
       "      <th>home_team_state</th>\n",
       "      <th>away_team</th>\n",
       "      <th>away_team_state</th>\n",
       "      <th>home_goal</th>\n",
       "      <th>away_goal</th>\n",
       "      <th>season</th>\n",
       "      <th>round</th>\n",
       "      <th>time</th>\n",
       "    </tr>\n",
       "  </thead>\n",
       "  <tbody>\n",
       "    <tr>\n",
       "      <th>380</th>\n",
       "      <td>2013-05-25 18:30:00</td>\n",
       "      <td>Vasco da Gama-RJ</td>\n",
       "      <td>RJ</td>\n",
       "      <td>Portuguesa-SP</td>\n",
       "      <td>SP</td>\n",
       "      <td>1.0</td>\n",
       "      <td>0.0</td>\n",
       "      <td>2013</td>\n",
       "      <td>1</td>\n",
       "      <td>18:30</td>\n",
       "    </tr>\n",
       "    <tr>\n",
       "      <th>381</th>\n",
       "      <td>2013-05-25 18:30:00</td>\n",
       "      <td>Vitoria-BA</td>\n",
       "      <td>BA</td>\n",
       "      <td>Internacional-RS</td>\n",
       "      <td>RS</td>\n",
       "      <td>2.0</td>\n",
       "      <td>2.0</td>\n",
       "      <td>2013</td>\n",
       "      <td>1</td>\n",
       "      <td>18:30</td>\n",
       "    </tr>\n",
       "    <tr>\n",
       "      <th>382</th>\n",
       "      <td>2013-05-25 21:00:00</td>\n",
       "      <td>Corinthians-SP</td>\n",
       "      <td>SP</td>\n",
       "      <td>Botafogo-RJ</td>\n",
       "      <td>RJ</td>\n",
       "      <td>1.0</td>\n",
       "      <td>1.0</td>\n",
       "      <td>2013</td>\n",
       "      <td>1</td>\n",
       "      <td>21:00</td>\n",
       "    </tr>\n",
       "    <tr>\n",
       "      <th>383</th>\n",
       "      <td>2013-05-26 16:00:00</td>\n",
       "      <td>Gremio-RS</td>\n",
       "      <td>RS</td>\n",
       "      <td>Nautico-PE</td>\n",
       "      <td>PE</td>\n",
       "      <td>2.0</td>\n",
       "      <td>0.0</td>\n",
       "      <td>2013</td>\n",
       "      <td>1</td>\n",
       "      <td>16:00</td>\n",
       "    </tr>\n",
       "    <tr>\n",
       "      <th>384</th>\n",
       "      <td>2013-05-26 16:00:00</td>\n",
       "      <td>Ponte Preta-SP</td>\n",
       "      <td>SP</td>\n",
       "      <td>Sao Paulo-SP</td>\n",
       "      <td>SP</td>\n",
       "      <td>0.0</td>\n",
       "      <td>2.0</td>\n",
       "      <td>2013</td>\n",
       "      <td>1</td>\n",
       "      <td>16:00</td>\n",
       "    </tr>\n",
       "  </tbody>\n",
       "</table>\n",
       "</div>"
      ],
      "text/plain": [
       "               datetime         home_team home_team_state         away_team  \\\n",
       "380 2013-05-25 18:30:00  Vasco da Gama-RJ              RJ     Portuguesa-SP   \n",
       "381 2013-05-25 18:30:00        Vitoria-BA              BA  Internacional-RS   \n",
       "382 2013-05-25 21:00:00    Corinthians-SP              SP       Botafogo-RJ   \n",
       "383 2013-05-26 16:00:00         Gremio-RS              RS        Nautico-PE   \n",
       "384 2013-05-26 16:00:00    Ponte Preta-SP              SP      Sao Paulo-SP   \n",
       "\n",
       "    away_team_state  home_goal  away_goal  season  round   time  \n",
       "380              SP        1.0        0.0    2013      1  18:30  \n",
       "381              RS        2.0        2.0    2013      1  18:30  \n",
       "382              RJ        1.0        1.0    2013      1  21:00  \n",
       "383              PE        2.0        0.0    2013      1  16:00  \n",
       "384              SP        0.0        2.0    2013      1  16:00  "
      ]
     },
     "execution_count": 472,
     "metadata": {},
     "output_type": "execute_result"
    }
   ],
   "source": [
    "brasileirao.head()"
   ]
  }
 ],
 "metadata": {
  "kernelspec": {
   "display_name": "Python 3",
   "language": "python",
   "name": "python3"
  },
  "language_info": {
   "codemirror_mode": {
    "name": "ipython",
    "version": 3
   },
   "file_extension": ".py",
   "mimetype": "text/x-python",
   "name": "python",
   "nbconvert_exporter": "python",
   "pygments_lexer": "ipython3",
   "version": "3.11.3"
  },
  "orig_nbformat": 4
 },
 "nbformat": 4,
 "nbformat_minor": 2
}
