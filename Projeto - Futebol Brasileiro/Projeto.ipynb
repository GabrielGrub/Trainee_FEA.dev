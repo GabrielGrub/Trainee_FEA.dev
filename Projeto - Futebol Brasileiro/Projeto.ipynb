{
 "cells": [
  {
   "cell_type": "markdown",
   "metadata": {},
   "source": [
    "# Futebol brasileiro (brasileirão/copa/liberta)"
   ]
  },
  {
   "cell_type": "markdown",
   "metadata": {},
   "source": [
    "- Amanda Yamasaki\n",
    "- Gabriel Grub\n",
    "- Maria Dulce Matos\n",
    "- Paulo Sergio\n",
    "- Theo Borten"
   ]
  },
  {
   "cell_type": "markdown",
   "metadata": {},
   "source": [
    "###  Pesquisa\n",
    "\n",
    "**Hipótese:** \n",
    "\n",
    "\n",
    "**Resumo:** \n",
    "\n",
    "\n",
    "**Palavras chave:**\n",
    "\n",
    "\n",
    "**Motivação:** "
   ]
  },
  {
   "cell_type": "markdown",
   "metadata": {},
   "source": [
    "### Importando as bibliotecas necessárias e carregando a base de dados para utilização no Python"
   ]
  },
  {
   "cell_type": "code",
   "execution_count": 48,
   "metadata": {},
   "outputs": [],
   "source": [
    "import pandas as pd\n",
    "import matplotlib.pyplot as plt\n",
    "import numpy as np\n",
    "import seaborn as sn\n",
    "\n",
    "brasileirao = pd.read_csv('brasileirao.csv')\n",
    "copa_do_brasil = pd.read_csv(\"copa_do_brasil.csv\")\n",
    "libertadores = pd.read_csv(\"libertadores.csv\")"
   ]
  },
  {
   "cell_type": "markdown",
   "metadata": {},
   "source": [
    "### Descrição das bases de dados e suas principais características."
   ]
  },
  {
   "cell_type": "markdown",
   "metadata": {},
   "source": [
    "#### Brasileirão"
   ]
  },
  {
   "cell_type": "code",
   "execution_count": 61,
   "metadata": {},
   "outputs": [
    {
     "name": "stdout",
     "output_type": "stream",
     "text": [
      "<class 'pandas.core.frame.DataFrame'>\n",
      "RangeIndex: 4180 entries, 0 to 4179\n",
      "Data columns (total 9 columns):\n",
      " #   Column           Non-Null Count  Dtype  \n",
      "---  ------           --------------  -----  \n",
      " 0   datetime         4180 non-null   object \n",
      " 1   home_team        4180 non-null   object \n",
      " 2   home_team_state  4180 non-null   object \n",
      " 3   away_team        4180 non-null   object \n",
      " 4   away_team_state  4180 non-null   object \n",
      " 5   home_goal        4098 non-null   float64\n",
      " 6   away_goal        4098 non-null   float64\n",
      " 7   season           4180 non-null   int64  \n",
      " 8   round            4180 non-null   int64  \n",
      "dtypes: float64(2), int64(2), object(5)\n",
      "memory usage: 294.0+ KB\n"
     ]
    }
   ],
   "source": [
    "brasileirao.info()"
   ]
  },
  {
   "cell_type": "markdown",
   "metadata": {},
   "source": [
    "***Número de linhas:*** 4180\n",
    "\n",
    "***Número de colunas:*** 9\n",
    "\n",
    "***Memória alocada para a base de dados:*** 294.0+ KB\n",
    "\n",
    "***Tipos de dados:***\n",
    "\n",
    "- inteiro(2)\n",
    "\n",
    "- ponto flutuante(2)\n",
    "\n",
    "- objeto(5)\n",
    "\n",
    "***Tipo de dado de cada coluna:***\n",
    "\n",
    "- Coluna 1: Data e hora (object)\n",
    "\n",
    "- Coluna 2: Time da casa (objeto)\n",
    "\n",
    "- Coluna 3: Estado do time da casa (objeto)\n",
    "\n",
    "- Coluna 4: Time visitante (objeto)\n",
    "\n",
    "- Coluna 5: Estado do time visitante (objeto)\n",
    "\n",
    "- Coluna 6: Gol em casa (ponto flutuante)\n",
    "\n",
    "- Coluna 7: Gol fora de casa (ponto flutuante)\n",
    "\n",
    "- Coluna 8: Temporada (inteiro)\n",
    "\n",
    "- Coluna 9: Rodada (inteiro)"
   ]
  },
  {
   "cell_type": "markdown",
   "metadata": {},
   "source": [
    "**Distribuição dos valores das principais variáveis categóricas/strings**"
   ]
  },
  {
   "cell_type": "code",
   "execution_count": 65,
   "metadata": {},
   "outputs": [
    {
     "data": {
      "text/plain": [
       "array([2012, 2013, 2014, 2015, 2016, 2017, 2018, 2019, 2020, 2021, 2022],\n",
       "      dtype=int64)"
      ]
     },
     "execution_count": 65,
     "metadata": {},
     "output_type": "execute_result"
    }
   ],
   "source": [
    "brasileirao['season'].unique()"
   ]
  },
  {
   "cell_type": "markdown",
   "metadata": {},
   "source": [
    "#### Copa do Brasil"
   ]
  },
  {
   "cell_type": "code",
   "execution_count": 44,
   "metadata": {},
   "outputs": [
    {
     "name": "stdout",
     "output_type": "stream",
     "text": [
      "<class 'pandas.core.frame.DataFrame'>\n",
      "RangeIndex: 1337 entries, 0 to 1336\n",
      "Data columns (total 7 columns):\n",
      " #   Column     Non-Null Count  Dtype  \n",
      "---  ------     --------------  -----  \n",
      " 0   round      1337 non-null   int64  \n",
      " 1   datetime   1337 non-null   object \n",
      " 2   home_team  1337 non-null   object \n",
      " 3   away_team  1337 non-null   object \n",
      " 4   home_goal  1321 non-null   float64\n",
      " 5   away_goal  1321 non-null   float64\n",
      " 6   season     1337 non-null   int64  \n",
      "dtypes: float64(2), int64(2), object(3)\n",
      "memory usage: 73.2+ KB\n"
     ]
    }
   ],
   "source": [
    "copa_do_brasil.info()\n"
   ]
  },
  {
   "cell_type": "markdown",
   "metadata": {},
   "source": [
    "***Número de linhas:*** 1337\n",
    "\n",
    "***Número de colunas:*** 7\n",
    "\n",
    "***Memória alocada para a base de dados:*** 73.2+ KB\n",
    "\n",
    "***Tipos de dados:***\n",
    "\n",
    "- inteiro(2)\n",
    "\n",
    "- ponto flutuante(2)\n",
    "\n",
    "- objeto(3)\n",
    "\n",
    "***Tipo de dado de cada coluna:***\n",
    "\n",
    "- Coluna 1: Rodada (inteiro)\n",
    "\n",
    "- Coluna 2: Data e hora (object)\n",
    "\n",
    "- Coluna 3: Time da casa (objeto)\n",
    "\n",
    "- Coluna 4: Time visitante (objeto)\n",
    "\n",
    "- Coluna 5: Gol em casa (ponto flutuante)\n",
    "\n",
    "- Coluna 6: Gol fora de casa (ponto flutuante)\n",
    "\n",
    "- Coluna 7: Temporada (inteiro)"
   ]
  },
  {
   "cell_type": "markdown",
   "metadata": {},
   "source": [
    "**Distribuição dos valores das principais variáveis categóricas/strings**"
   ]
  },
  {
   "cell_type": "code",
   "execution_count": 66,
   "metadata": {},
   "outputs": [
    {
     "data": {
      "text/plain": [
       "array([2012, 2013, 2014, 2015, 2016, 2017, 2018, 2019, 2020, 2021],\n",
       "      dtype=int64)"
      ]
     },
     "execution_count": 66,
     "metadata": {},
     "output_type": "execute_result"
    }
   ],
   "source": [
    "copa_do_brasil['season'].unique()"
   ]
  },
  {
   "cell_type": "markdown",
   "metadata": {},
   "source": [
    "#### Libertadores"
   ]
  },
  {
   "cell_type": "code",
   "execution_count": 59,
   "metadata": {},
   "outputs": [
    {
     "name": "stdout",
     "output_type": "stream",
     "text": [
      "<class 'pandas.core.frame.DataFrame'>\n",
      "RangeIndex: 1255 entries, 0 to 1254\n",
      "Data columns (total 7 columns):\n",
      " #   Column     Non-Null Count  Dtype  \n",
      "---  ------     --------------  -----  \n",
      " 0   datetime   1254 non-null   object \n",
      " 1   home_team  1255 non-null   object \n",
      " 2   away_team  1255 non-null   object \n",
      " 3   home_goal  1255 non-null   object \n",
      " 4   away_goal  1255 non-null   object \n",
      " 5   season     1254 non-null   float64\n",
      " 6   stage      1255 non-null   object \n",
      "dtypes: float64(1), object(6)\n",
      "memory usage: 68.8+ KB\n"
     ]
    }
   ],
   "source": [
    "libertadores.info()"
   ]
  },
  {
   "cell_type": "markdown",
   "metadata": {},
   "source": [
    "***Número de linhas:*** 1255\n",
    "\n",
    "***Número de colunas:*** 7\n",
    "\n",
    "***Memória alocada para a base de dados:*** 68.8+ KB\n",
    "\n",
    "***Tipos de dados:***\n",
    "\n",
    "- ponto flutuante(1)\n",
    "\n",
    "- objeto(6)\n",
    "\n",
    "***Tipo de dado de cada coluna:***\n",
    "\n",
    "- Coluna 2: Data e hora (object)\n",
    "\n",
    "- Coluna 3: Time da casa (objeto)\n",
    "\n",
    "- Coluna 4: Time visitante (objeto)\n",
    "\n",
    "- Coluna 5: Gol em casa (objeto)\n",
    "\n",
    "- Coluna 6: Gol fora de casa (objeto)\n",
    "\n",
    "- Coluna 7: Temporada (ponto flutuante)\n",
    "\n",
    "- Coluna 7: Estágio (objeto)"
   ]
  },
  {
   "cell_type": "markdown",
   "metadata": {},
   "source": [
    "**Distribuição dos valores das principais variáveis categóricas/strings**"
   ]
  },
  {
   "cell_type": "code",
   "execution_count": 67,
   "metadata": {},
   "outputs": [
    {
     "data": {
      "text/plain": [
       "array([2013., 2014., 2015., 2016., 2017., 2018., 2019., 2020., 2021.,\n",
       "       2022.,   nan])"
      ]
     },
     "execution_count": 67,
     "metadata": {},
     "output_type": "execute_result"
    }
   ],
   "source": [
    "libertadores['season'].unique()"
   ]
  }
 ],
 "metadata": {
  "kernelspec": {
   "display_name": "Python 3",
   "language": "python",
   "name": "python3"
  },
  "language_info": {
   "codemirror_mode": {
    "name": "ipython",
    "version": 3
   },
   "file_extension": ".py",
   "mimetype": "text/x-python",
   "name": "python",
   "nbconvert_exporter": "python",
   "pygments_lexer": "ipython3",
   "version": "3.11.3"
  },
  "orig_nbformat": 4
 },
 "nbformat": 4,
 "nbformat_minor": 2
}
