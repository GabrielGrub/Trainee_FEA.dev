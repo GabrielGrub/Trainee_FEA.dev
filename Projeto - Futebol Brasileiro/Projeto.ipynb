{
 "cells": [
  {
   "cell_type": "markdown",
   "metadata": {},
   "source": [
    "# Futebol brasileiro (brasileirão/copa/liberta) - GRUPO 1"
   ]
  },
  {
   "cell_type": "markdown",
   "metadata": {},
   "source": [
    "###  Projeto"
   ]
  },
  {
   "cell_type": "markdown",
   "metadata": {},
   "source": [
    "**Membros do Grupo 01:**\n",
    "- Amanda Yamasaki\n",
    "- Gabriel Grub\n",
    "- Maria Dulce Matos\n",
    "- Paulo Sergio\n",
    "- Theo Borten"
   ]
  },
  {
   "cell_type": "markdown",
   "metadata": {},
   "source": [
    "**Hipóteses:**\n",
    "\n",
    "1- O horário da partida influencia significativamente a dinâmica do jogo, demonstrando uma relação entre o horário de início e a quantidade de gols marcados.\n",
    "\n",
    "2- Existe uma correlação positiva entre a classificação dos clubes nos campeonatos da Libertadores, Brasileirão e Copa do Brasil, indicando uma tendência consistente de desempenho entre essas competições.\n",
    "\n",
    "3- Há uma correlação positiva entre o desempenho recente de um clube, medido pelos resultados dos três jogos anteriores, e o desempenho no jogo subsequente.\n",
    "\n",
    "\n",
    "**Resumo:**\n",
    "\n",
    "**Motivação:** \n",
    "\n",
    "Ao contrário de loterias numéricas ou jogos com dados (cujos dados são justos), a “loteria esportiva” do futebol não é caracterizada por seus números equiprováveis. No futebol, jogos costumeiramente têm times favoritos e fatores internos e externos não quantificados no cálculo de probabilidades - como o emocional dos jogadores e as condições do ambiente da partida. Levando essa subjetividade em consideração, pode-se dizer que há uma distribuição de probabilidade desigual entre os possíveis resultados. É com este tipo de problema que nos deparamos ao tentar tratar o Campeonato Brasileiro probabilisticamente, e então, realizamos hipóteses para verificar correlações e padrões-ocultos entre dados coletados sobre torneios dos últimos anos no Brasil. Logo, temos como objetivo destrinchar os inúmeros fatores que influenciam nas probabilidades de resultado de um jogo de futebol, e sobretudo analisar como esses detalhes se revelam através dos dados numéricos sobre torneios no Brasil."
   ]
  },
  {
   "cell_type": "markdown",
   "metadata": {},
   "source": [
    "### Importando as bibliotecas necessárias e carregando a base de dados para utilização no Python"
   ]
  },
  {
   "cell_type": "code",
   "execution_count": 1264,
   "metadata": {},
   "outputs": [],
   "source": [
    "import pandas as pd\n",
    "import matplotlib.pyplot as plt\n",
    "import numpy as np\n",
    "import seaborn as sn\n",
    "from datetime import datetime\n",
    "import plotly.graph_objects as go\n",
    "import plotly.express as px\n",
    "\n",
    "brasileirao = pd.read_csv('brasileirao.csv')\n",
    "copa_do_brasil = pd.read_csv(\"copa_do_brasil.csv\")\n",
    "libertadores = pd.read_csv(\"libertadores.csv\")"
   ]
  },
  {
   "cell_type": "markdown",
   "metadata": {},
   "source": [
    "### Descrição das bases de dados e suas principais características."
   ]
  },
  {
   "cell_type": "markdown",
   "metadata": {},
   "source": [
    "#### Brasileirão"
   ]
  },
  {
   "cell_type": "code",
   "execution_count": 1265,
   "metadata": {},
   "outputs": [
    {
     "name": "stdout",
     "output_type": "stream",
     "text": [
      "<class 'pandas.core.frame.DataFrame'>\n",
      "RangeIndex: 4180 entries, 0 to 4179\n",
      "Data columns (total 9 columns):\n",
      " #   Column           Non-Null Count  Dtype  \n",
      "---  ------           --------------  -----  \n",
      " 0   datetime         4180 non-null   object \n",
      " 1   home_team        4180 non-null   object \n",
      " 2   home_team_state  4180 non-null   object \n",
      " 3   away_team        4180 non-null   object \n",
      " 4   away_team_state  4180 non-null   object \n",
      " 5   home_goal        4098 non-null   float64\n",
      " 6   away_goal        4098 non-null   float64\n",
      " 7   season           4180 non-null   int64  \n",
      " 8   round            4180 non-null   int64  \n",
      "dtypes: float64(2), int64(2), object(5)\n",
      "memory usage: 294.0+ KB\n"
     ]
    }
   ],
   "source": [
    "brasileirao.info() # Pegando informações da base de dados "
   ]
  },
  {
   "cell_type": "markdown",
   "metadata": {},
   "source": [
    "***Número de linhas:*** 4180\n",
    "\n",
    "***Número de colunas:*** 9\n",
    "\n",
    "***Memória alocada para a base de dados:*** 294.0+ KB\n",
    "\n",
    "***Tipos de dados:***\n",
    "\n",
    "- inteiro(2)\n",
    "\n",
    "- ponto flutuante(2)\n",
    "\n",
    "- objeto(5)\n",
    "\n",
    "***Tipo de dado de cada coluna:***\n",
    "\n",
    "- Coluna 1: Data e hora (data)\n",
    "\n",
    "- Coluna 2: Time da casa (string)\n",
    "\n",
    "- Coluna 3: Estado do time da casa (string)\n",
    "\n",
    "- Coluna 4: Time visitante (string)\n",
    "\n",
    "- Coluna 5: Estado do time visitante (string)\n",
    "\n",
    "- Coluna 6: Gol em casa (ponto flutuante)\n",
    "\n",
    "- Coluna 7: Gol fora de casa (ponto flutuante)\n",
    "\n",
    "- Coluna 8: Temporada (inteiro)\n",
    "\n",
    "- Coluna 9: Rodada (inteiro)"
   ]
  },
  {
   "cell_type": "markdown",
   "metadata": {},
   "source": [
    "**Distribuição dos valores das principais variáveis categóricas/strings**"
   ]
  },
  {
   "cell_type": "code",
   "execution_count": 1266,
   "metadata": {},
   "outputs": [
    {
     "name": "stdout",
     "output_type": "stream",
     "text": [
      "Temporadas: [2012 2013 2014 2015 2016 2017 2018 2019 2020 2021 2022]\n",
      "Todos os clubes: 36\n"
     ]
    }
   ],
   "source": [
    "print(f'Temporadas: {brasileirao[\"season\"].unique()}') #Temporadas a que se referem os dados\n",
    "\n",
    "print(f'Todos os clubes: {brasileirao[\"home_team\"].nunique()}') #Números de clubes que jogaram na Copa do Brasil ao longo desses anos"
   ]
  },
  {
   "cell_type": "markdown",
   "metadata": {},
   "source": [
    "#### Copa do Brasil"
   ]
  },
  {
   "cell_type": "code",
   "execution_count": 1267,
   "metadata": {},
   "outputs": [
    {
     "name": "stdout",
     "output_type": "stream",
     "text": [
      "<class 'pandas.core.frame.DataFrame'>\n",
      "RangeIndex: 1337 entries, 0 to 1336\n",
      "Data columns (total 7 columns):\n",
      " #   Column     Non-Null Count  Dtype  \n",
      "---  ------     --------------  -----  \n",
      " 0   round      1337 non-null   int64  \n",
      " 1   datetime   1337 non-null   object \n",
      " 2   home_team  1337 non-null   object \n",
      " 3   away_team  1337 non-null   object \n",
      " 4   home_goal  1321 non-null   float64\n",
      " 5   away_goal  1321 non-null   float64\n",
      " 6   season     1337 non-null   int64  \n",
      "dtypes: float64(2), int64(2), object(3)\n",
      "memory usage: 73.2+ KB\n"
     ]
    }
   ],
   "source": [
    "copa_do_brasil.info() # Pegando algumas informações da base de dados "
   ]
  },
  {
   "cell_type": "markdown",
   "metadata": {},
   "source": [
    "***Número de linhas:*** 1337\n",
    "\n",
    "***Número de colunas:*** 7\n",
    "\n",
    "***Memória alocada para a base de dados:*** 73.2+ KB\n",
    "\n",
    "***Tipos de dados:***\n",
    "\n",
    "- inteiro(2)\n",
    "\n",
    "- ponto flutuante(2)\n",
    "\n",
    "- objeto(3)\n",
    "\n",
    "***Tipo de dado de cada coluna:***\n",
    "\n",
    "- Coluna 1: Rodada (inteiro)\n",
    "\n",
    "- Coluna 2: Data e hora (data)\n",
    "\n",
    "- Coluna 3: Time da casa (string)\n",
    "\n",
    "- Coluna 4: Time visitante (string)\n",
    "\n",
    "- Coluna 5: Gol em casa (ponto flutuante)\n",
    "\n",
    "- Coluna 6: Gol fora de casa (ponto flutuante)\n",
    "\n",
    "- Coluna 7: Temporada (inteiro)"
   ]
  },
  {
   "cell_type": "markdown",
   "metadata": {},
   "source": [
    "**Distribuição dos valores das principais variáveis categóricas/strings**"
   ]
  },
  {
   "cell_type": "code",
   "execution_count": 1268,
   "metadata": {},
   "outputs": [
    {
     "name": "stdout",
     "output_type": "stream",
     "text": [
      "Temporadas: [2012 2013 2014 2015 2016 2017 2018 2019 2020 2021]\n",
      "Todos os clubes: 275\n"
     ]
    }
   ],
   "source": [
    "print(f'Temporadas: {copa_do_brasil[\"season\"].unique()}') #Temporadas a que se referem os dados\n",
    "\n",
    "print(f'Todos os clubes: {copa_do_brasil[\"home_team\"].nunique()}') #Números de clubes que jogaram na Copa do Brasil ao longo desses anos"
   ]
  },
  {
   "cell_type": "markdown",
   "metadata": {},
   "source": [
    "#### Libertadores"
   ]
  },
  {
   "cell_type": "code",
   "execution_count": 1269,
   "metadata": {},
   "outputs": [
    {
     "name": "stdout",
     "output_type": "stream",
     "text": [
      "<class 'pandas.core.frame.DataFrame'>\n",
      "RangeIndex: 1255 entries, 0 to 1254\n",
      "Data columns (total 7 columns):\n",
      " #   Column     Non-Null Count  Dtype  \n",
      "---  ------     --------------  -----  \n",
      " 0   datetime   1254 non-null   object \n",
      " 1   home_team  1255 non-null   object \n",
      " 2   away_team  1255 non-null   object \n",
      " 3   home_goal  1255 non-null   object \n",
      " 4   away_goal  1255 non-null   object \n",
      " 5   season     1254 non-null   float64\n",
      " 6   stage      1255 non-null   object \n",
      "dtypes: float64(1), object(6)\n",
      "memory usage: 68.8+ KB\n"
     ]
    }
   ],
   "source": [
    "libertadores.info() # Pegando algumas informações da base de dados "
   ]
  },
  {
   "cell_type": "markdown",
   "metadata": {},
   "source": [
    "***Número de linhas:*** 1255\n",
    "\n",
    "***Número de colunas:*** 7\n",
    "\n",
    "***Memória alocada para a base de dados:*** 68.8+ KB\n",
    "\n",
    "***Tipos de dados:***\n",
    "\n",
    "- ponto flutuante(1)\n",
    "\n",
    "- objeto(6)\n",
    "\n",
    "***Tipo de dado de cada coluna:***\n",
    "\n",
    "- Coluna 2: Data e hora (data)\n",
    "\n",
    "- Coluna 3: Time da casa (string)\n",
    "\n",
    "- Coluna 4: Time visitante (string)\n",
    "\n",
    "- Coluna 5: Gol em casa (int)\n",
    "\n",
    "- Coluna 6: Gol fora de casa (int)\n",
    "\n",
    "- Coluna 7: Temporada (ponto flutuante)\n",
    "\n",
    "- Coluna 7: Etapas do campeonato (string)"
   ]
  },
  {
   "cell_type": "markdown",
   "metadata": {},
   "source": [
    "**Distribuição dos valores das principais variáveis categóricas/strings**"
   ]
  },
  {
   "cell_type": "code",
   "execution_count": 1270,
   "metadata": {},
   "outputs": [
    {
     "name": "stdout",
     "output_type": "stream",
     "text": [
      "Temporadas: [2013. 2014. 2015. 2016. 2017. 2018. 2019. 2020. 2021. 2022.   nan]\n",
      "Etapas do campeonato: ['group stage' 'final' 'semifinals' 'quarterfinals' 'round of 16']\n",
      "Total de clubes: 114\n"
     ]
    }
   ],
   "source": [
    "print(f'Temporadas: {libertadores[\"season\"].unique()}') #Temporadas a que se referem os dados\n",
    "\n",
    "print(f'Etapas do campeonato: {libertadores[\"stage\"].unique()}') #Etapas do campeonato\n",
    "\n",
    "print(f'Total de clubes: {libertadores[\"home_team\"].nunique()}') #Números de clubes que jogaram a libertadores ao longo desses anos"
   ]
  },
  {
   "cell_type": "markdown",
   "metadata": {},
   "source": [
    "### Filtro dos dados"
   ]
  },
  {
   "cell_type": "code",
   "execution_count": 1271,
   "metadata": {},
   "outputs": [],
   "source": [
    "valor_indesejado = 2021\n",
    "\n",
    "copa_do_brasil = copa_do_brasil.drop(copa_do_brasil[copa_do_brasil['season'] == valor_indesejado].index)\n"
   ]
  },
  {
   "cell_type": "code",
   "execution_count": 1272,
   "metadata": {},
   "outputs": [
    {
     "name": "stdout",
     "output_type": "stream",
     "text": [
      "Temporadas: [2013. 2014. 2015. 2016. 2017. 2018. 2019. 2020. 2021. 2022.   nan]\n",
      "Temporadas: [2012 2013 2014 2015 2016 2017 2018 2019 2020]\n",
      "Temporadas: [2012 2013 2014 2015 2016 2017 2018 2019 2020 2021 2022]\n"
     ]
    }
   ],
   "source": [
    "print(f'Temporadas: {libertadores[\"season\"].unique()}')\n",
    "print(f'Temporadas: {copa_do_brasil[\"season\"].unique()}')\n",
    "print(f'Temporadas: {brasileirao[\"season\"].unique()}')"
   ]
  },
  {
   "cell_type": "markdown",
   "metadata": {},
   "source": [
    "### Limpeza dos dados"
   ]
  },
  {
   "cell_type": "markdown",
   "metadata": {},
   "source": [
    "#### Libertadores"
   ]
  },
  {
   "cell_type": "code",
   "execution_count": 1273,
   "metadata": {},
   "outputs": [
    {
     "name": "stdout",
     "output_type": "stream",
     "text": [
      "Valores nulos nos dados da Libertadores inicialmente: \n",
      "datetime     1\n",
      "home_team    0\n",
      "away_team    0\n",
      "home_goal    0\n",
      "away_goal    0\n",
      "season       1\n",
      "stage        0\n",
      "dtype: int64\n",
      "\n",
      "Valores nulos nos dados da Libertadores após a limpeza: \n",
      "datetime     0\n",
      "home_team    0\n",
      "away_team    0\n",
      "home_goal    0\n",
      "away_goal    0\n",
      "season       0\n",
      "stage        0\n",
      "dtype: int64\n",
      "\n"
     ]
    }
   ],
   "source": [
    "print(f'Valores nulos nos dados da Libertadores inicialmente: \\n{libertadores.isna().sum()}\\n')\n",
    "\n",
    "libertadores.iloc[363, libertadores.columns.get_loc('home_goal')] = 0\n",
    "libertadores.iloc[363, libertadores.columns.get_loc('away_goal')] = 3\n",
    "libertadores.iloc[363, libertadores.columns.get_loc('home_goal')] = 0\n",
    "libertadores.drop(index = 1254, inplace=True)\n",
    "\n",
    "print(f'Valores nulos nos dados da Libertadores após a limpeza: \\n{libertadores.isna().sum()}\\n')"
   ]
  },
  {
   "cell_type": "markdown",
   "metadata": {},
   "source": [
    "#### Brasileirão"
   ]
  },
  {
   "cell_type": "code",
   "execution_count": 1274,
   "metadata": {},
   "outputs": [
    {
     "name": "stdout",
     "output_type": "stream",
     "text": [
      "Valores nulos nos dados do Brasileirão: \n",
      "datetime            0\n",
      "home_team           0\n",
      "home_team_state     0\n",
      "away_team           0\n",
      "away_team_state     0\n",
      "home_goal          82\n",
      "away_goal          82\n",
      "season              0\n",
      "round               0\n",
      "dtype: int64\n",
      "\n",
      "Valores nulos nos dados do Brasileirão: \n",
      "datetime            0\n",
      "home_team           0\n",
      "home_team_state     0\n",
      "away_team           0\n",
      "away_team_state     0\n",
      "home_goal          82\n",
      "away_goal          82\n",
      "season              0\n",
      "round               0\n",
      "dtype: int64\n",
      "\n"
     ]
    }
   ],
   "source": [
    "print(f'Valores nulos nos dados do Brasileirão: \\n{brasileirao.isna().sum()}\\n')\n",
    "\n",
    "brasileirao.iloc[1517, brasileirao.columns.get_loc('home_goal')] = 1\n",
    "brasileirao.iloc[1517, brasileirao.columns.get_loc('away_goal')] = 3\n",
    "\n",
    "print(f'Valores nulos nos dados do Brasileirão: \\n{brasileirao.isna().sum()}\\n')"
   ]
  },
  {
   "cell_type": "markdown",
   "metadata": {},
   "source": [
    "#### Copa do Brasil"
   ]
  },
  {
   "cell_type": "code",
   "execution_count": 1275,
   "metadata": {},
   "outputs": [
    {
     "name": "stdout",
     "output_type": "stream",
     "text": [
      "Valores nulos nos dados do Copa do Brasil: \n",
      "round        0\n",
      "datetime     0\n",
      "home_team    0\n",
      "away_team    0\n",
      "home_goal    0\n",
      "away_goal    0\n",
      "season       0\n",
      "dtype: int64\n"
     ]
    }
   ],
   "source": [
    "print(f'Valores nulos nos dados do Copa do Brasil: \\n{copa_do_brasil.isna().sum()}')"
   ]
  },
  {
   "cell_type": "markdown",
   "metadata": {},
   "source": [
    "### Análise dos dados"
   ]
  },
  {
   "cell_type": "markdown",
   "metadata": {},
   "source": [
    "**Matriz de Correlação - Libertadores**"
   ]
  },
  {
   "cell_type": "code",
   "execution_count": 1276,
   "metadata": {},
   "outputs": [
    {
     "data": {
      "text/plain": [
       "<Axes: >"
      ]
     },
     "execution_count": 1276,
     "metadata": {},
     "output_type": "execute_result"
    },
    {
     "data": {
      "image/png": "[encoded data removed]",
      "text/plain": [
       "<Figure size 640x480 with 2 Axes>"
      ]
     },
     "metadata": {},
     "output_type": "display_data"
    }
   ],
   "source": [
    "libertadores.replace('-', float('nan'), inplace=True)\n",
    "\n",
    "libertadores['datetime'] = pd.to_datetime(libertadores['datetime']).astype('int64')\n",
    "libertadores['home_goal'] = pd.to_numeric(libertadores['home_goal'])\n",
    "libertadores['away_goal'] = pd.to_numeric(libertadores['away_goal'])\n",
    "\n",
    "numericos_libertadores = libertadores.select_dtypes(include='number')\n",
    "\n",
    "matriz_correlacao_libertadores = numericos_libertadores.corr()\n",
    "\n",
    "plot = sn.heatmap(matriz_correlacao_libertadores, annot = True, fmt=\".1f\", linewidths=.6)\n",
    "\n",
    "plot"
   ]
  },
  {
   "cell_type": "code",
   "execution_count": 1277,
   "metadata": {},
   "outputs": [
    {
     "data": {
      "text/plain": [
       "<Axes: >"
      ]
     },
     "execution_count": 1277,
     "metadata": {},
     "output_type": "execute_result"
    },
    {
     "data": {
      "image/png": "[encoded data removed]",
      "text/plain": [
       "<Figure size 640x480 with 2 Axes>"
      ]
     },
     "metadata": {},
     "output_type": "display_data"
    }
   ],
   "source": [
    "copa_do_brasil.replace('-', float('nan'), inplace=True)\n",
    "\n",
    "copa_do_brasil['datetime'] = pd.to_datetime(copa_do_brasil['datetime']).astype('int64')\n",
    "copa_do_brasil['home_goal'] = pd.to_numeric(copa_do_brasil['home_goal'])\n",
    "copa_do_brasil['away_goal'] = pd.to_numeric(copa_do_brasil['away_goal'])\n",
    "\n",
    "numericos_copa_do_brasil = copa_do_brasil.select_dtypes(include='number')\n",
    "\n",
    "matriz_correlacao_copa_do_brasil = numericos_copa_do_brasil.corr()\n",
    "\n",
    "plot = sn.heatmap(matriz_correlacao_copa_do_brasil, annot = True, fmt=\".1f\", linewidths=.6)\n",
    "\n",
    "plot"
   ]
  },
  {
   "cell_type": "code",
   "execution_count": 1278,
   "metadata": {},
   "outputs": [
    {
     "data": {
      "text/plain": [
       "<Axes: >"
      ]
     },
     "execution_count": 1278,
     "metadata": {},
     "output_type": "execute_result"
    },
    {
     "data": {
      "image/png": "[encoded data removed]",
      "text/plain": [
       "<Figure size 640x480 with 2 Axes>"
      ]
     },
     "metadata": {},
     "output_type": "display_data"
    }
   ],
   "source": [
    "brasileirao.replace('-', float('nan'), inplace=True) #Trocando as \"-\" por \"Nan\"\n",
    "\n",
    "brasileirao['datetime'] = pd.to_datetime(brasileirao['datetime']).astype('int64')\n",
    "brasileirao['home_goal'] = pd.to_numeric(brasileirao['home_goal'])\n",
    "brasileirao['away_goal'] = pd.to_numeric(brasileirao['away_goal'])\n",
    "\n",
    "numericos_brasileirao = brasileirao.select_dtypes(include='number')\n",
    "\n",
    "matriz_correlacao_brasileirao = numericos_brasileirao.corr()\n",
    "\n",
    "plot = sn.heatmap(matriz_correlacao_brasileirao, annot = True, fmt=\".1f\", linewidths=.6)\n",
    "\n",
    "plot"
   ]
  },
  {
   "cell_type": "markdown",
   "metadata": {},
   "source": [
    "### Funções"
   ]
  },
  {
   "cell_type": "code",
   "execution_count": 1279,
   "metadata": {},
   "outputs": [],
   "source": [
    "\n",
    "def won_match(team1, team2, result1, result2):\n",
    "    \"\"\"Recebe dois times, e os gols feitos por cada um no jogo, e retorna o nome do vencedor, e o empate caso não tenha\"\"\"\n",
    "    if result1 == result2:  # draw\n",
    "        return \"Draw\"\n",
    "    if result2 > result1:  # result 2 ganha\n",
    "        return team2\n",
    "    else:\n",
    "        return team1  # result 1 ganha\n",
    "\n",
    "teams = brasileirao[\"home_team\"].unique()\n",
    "# mudar para listas?\n",
    "\n",
    "def classificação(data_frame):\n",
    "    tabela = teams  # trabalhar com dicionarios)\n",
    "    tabela = {team: 0 for team in tabela}\n",
    "    for _, row in data_frame.iterrows():\n",
    "        result = won_match(\n",
    "            row[\"home_team\"],\n",
    "            row[\"away_team\"],\n",
    "            row[\"home_goal\"],\n",
    "            row[\"away_goal\"],\n",
    "        )\n",
    "        if result != \"Draw\":\n",
    "            tabela[result] += 3\n",
    "        else:\n",
    "            tabela[row[\"home_team\"]] += 1\n",
    "            tabela[row[\"away_team\"]] += 1\n",
    "\n",
    "    tabela = dict(\n",
    "        sorted(tabela.items(), key=lambda x: x[1], reverse=True)\n",
    "    )  # sort dos dados para ficar em ordem\n",
    "    return tabela\n"
   ]
  },
  {
   "cell_type": "markdown",
   "metadata": {},
   "source": [
    "### Visualização dos dados"
   ]
  },
  {
   "cell_type": "markdown",
   "metadata": {},
   "source": [
    "#### 1º Hipótese "
   ]
  },
  {
   "cell_type": "markdown",
   "metadata": {},
   "source": [
    "##### Organizando os dados dos dataframes"
   ]
  },
  {
   "cell_type": "code",
   "execution_count": 1280,
   "metadata": {},
   "outputs": [],
   "source": [
    "# Formatando a coluna \"datetime\" para exibir apenas as horas e minutos\n",
    "brasileirao['datetime'] = pd.to_datetime(brasileirao['datetime'])\n",
    "brasileirao['time'] = brasileirao['datetime'].dt.strftime('%H:%M')\n",
    "\n",
    "libertadores['datetime'] = pd.to_datetime(libertadores['datetime'])\n",
    "libertadores['time'] = libertadores['datetime'].dt.strftime('%H:%M')\n",
    "\n",
    "copa_do_brasil['datetime'] = pd.to_datetime(copa_do_brasil['datetime'])\n",
    "copa_do_brasil['time'] = copa_do_brasil['datetime'].dt.strftime('%H:%M')"
   ]
  },
  {
   "cell_type": "code",
   "execution_count": 1281,
   "metadata": {},
   "outputs": [],
   "source": [
    "# Agrupando o DataFrame 'brasileirao' por time e calculando a média dos gols\n",
    "horarios = brasileirao.groupby('time')[[\"home_goal\",\"away_goal\"]].mean()\n",
    "\n",
    "# Agrupando o DataFrame 'brasileirao' por time e contando o tamanho de cada grupo\n",
    "tamanho_grupos = brasileirao.groupby('time').size()\n",
    "\n",
    "# Selecionando apenas os times que têm 200 ou mais jogos disputados\n",
    "times_mais_de_200 = tamanho_grupos[tamanho_grupos >= 200].index\n",
    "\n",
    "# Filtrando o DataFrame 'horarios' para conter apenas as médias de gols dos times que têm 200 ou mais jogos disputados\n",
    "horarios_filtrados_brasileirao = horarios.loc[times_mais_de_200]\n"
   ]
  },
  {
   "cell_type": "code",
   "execution_count": 1282,
   "metadata": {},
   "outputs": [],
   "source": [
    "# Agrupando o DataFrame 'libertadores' por time e calculando a média dos gols\n",
    "horarios = libertadores.groupby('time')[[\"home_goal\",\"away_goal\"]].mean()\n",
    "\n",
    "# Agrupando o DataFrame 'libertadores' por time e contando o tamanho de cada grupo\n",
    "tamanho_grupos = libertadores.groupby('time').size()\n",
    "\n",
    "# Selecionando apenas os times que têm 100 ou mais jogos disputados\n",
    "times_mais_de_100 = tamanho_grupos[tamanho_grupos >=  100].index\n",
    "\n",
    "# Filtrando o DataFrame 'horarios' para conter apenas as médias de gols dos times que têm 100 ou mais jogos disputados\n",
    "horarios_filtrados_libertadores = horarios.loc[times_mais_de_100]\n"
   ]
  },
  {
   "cell_type": "code",
   "execution_count": 1283,
   "metadata": {},
   "outputs": [],
   "source": [
    "# Agrupando o DataFrame 'copa_do_brasil' por time e calculando a média dos gols\n",
    "horarios = copa_do_brasil.groupby('time')[[\"home_goal\",\"away_goal\"]].mean()\n",
    "\n",
    "# Agrupando o DataFrame 'brasileirao' por time e contando o tamanho de cada grupo\n",
    "tamanho_grupos = copa_do_brasil.groupby('time').size()\n",
    "\n",
    "# Selecionando apenas os times que têm 100 ou mais jogos disputados\n",
    "times_mais_de_100 = tamanho_grupos[tamanho_grupos >= 100].index\n",
    "\n",
    "# Filtrando o DataFrame 'horarios' para conter apenas as médias de gols dos times que têm 100 ou mais jogos disputados\n",
    "horarios_filtrados_copa = horarios.loc[times_mais_de_100]"
   ]
  },
  {
   "cell_type": "markdown",
   "metadata": {},
   "source": [
    "##### Plotando os gráficos"
   ]
  },
  {
   "cell_type": "code",
   "execution_count": 1284,
   "metadata": {},
   "outputs": [
    {
     "data": {
      "image/png": "[encoded data removed]",
      "text/plain": [
       "<Figure size 1500x600 with 3 Axes>"
      ]
     },
     "metadata": {},
     "output_type": "display_data"
    }
   ],
   "source": [
    "fig, axes = plt.subplots(nrows=1, ncols=3, figsize=(15, 6))\n",
    "\n",
    "bar_width = 0.7\n",
    "\n",
    "\n",
    "horarios_filtrados_copa.plot(kind='bar', color=['Indigo', 'OrangeRed'], ax=axes[0], width=bar_width, legend=False)\n",
    "horarios_filtrados_libertadores.plot(kind='bar', color=['Indigo', 'OrangeRed'], ax=axes[1], width=bar_width, legend=False)\n",
    "horarios_filtrados_brasileirao.plot(kind='bar', color=['Indigo', 'OrangeRed'], ax=axes[2], width=bar_width, legend=False)\n",
    "\n",
    "# Definindo as legendas do eixo x\n",
    "axes[0].set_xlabel(\"Horário do jogo\")\n",
    "axes[1].set_xlabel(\"Horário do jogo\")\n",
    "axes[2].set_xlabel(\"Horário do jogo\")\n",
    "\n",
    "# Definindo as legendas do eixo x\n",
    "axes[0].set_ylabel(\"Média de Gols\")\n",
    "axes[1].set_ylabel(\"Média de Gols\")\n",
    "axes[2].set_ylabel(\"Média de Gols\")\n",
    "\n",
    "# Rotacionando os valores do eixo x em 45 graus\n",
    "axes[0].set_xticklabels(horarios_filtrados_copa.index, rotation=0)\n",
    "axes[1].set_xticklabels(horarios_filtrados_libertadores.index, rotation=0)\n",
    "axes[2].set_xticklabels(horarios_filtrados_brasileirao.index, rotation=0)\n",
    "\n",
    "# Adicionando títulos individuais para cada subplot\n",
    "axes[0].set_title(\"Copa do Brasil\")\n",
    "axes[1].set_title(\"Libertadores\")\n",
    "axes[2].set_title(\"Brasileirão\")\n",
    "\n",
    "# Adicionando os valores das barras acima de cada barra\n",
    "for ax in axes:\n",
    "    for p in ax.patches:\n",
    "        ax.annotate(\"{:.1f}\".format(p.get_height()), (p.get_x() + p.get_width() / 2., p.get_height()),\n",
    "                    ha='center', va='center', xytext=(0, 5), textcoords='offset points')\n",
    "\n",
    "# Posicionando a legenda fora do gráfico para o terceiro gráfico (Brasileirão)\n",
    "axes[2].legend([\"gols em casa\", \"gols fora de casa\"], bbox_to_anchor=(1.05, 1), loc='upper left')\n",
    "\n",
    "\n",
    "plt.tight_layout()\n",
    "plt.show()\n"
   ]
  },
  {
   "cell_type": "markdown",
   "metadata": {},
   "source": [
    "#### 2º Hipótese"
   ]
  },
  {
   "cell_type": "code",
   "execution_count": 1285,
   "metadata": {},
   "outputs": [],
   "source": [
    "x = pd.DataFrame(brasileirao.groupby('home_team_state')[[\"home_goal\",\"away_goal\"]].mean())\n",
    "\n",
    "#x.plot(kind='bar', color=['Indigo', 'OrangeRed'])\n",
    "\n",
    "x['total_gols'] = x['home_goal'] + x['away_goal']\n",
    "\n",
    "x = x.drop(['home_goal', 'away_goal'], axis=1)\n",
    "x = x.drop(['AL', 'MT'], axis=0)"
   ]
  },
  {
   "cell_type": "code",
   "execution_count": 1286,
   "metadata": {},
   "outputs": [],
   "source": [
    "geo_json_data = 'https://raw.githubusercontent.com/giuliano-oliveira/geodata-br-states/main/geojson/br_states.json'"
   ]
  },
  {
   "cell_type": "code",
   "execution_count": 1287,
   "metadata": {},
   "outputs": [
    {
     "data": {
      "application/vnd.plotly.v1+json": {
       "config": {
        "plotlyServerURL": "https://plot.ly"
       },
       "data": [
        {
         "coloraxis": "coloraxis",
         "featureidkey": "properties.SIGLA",
         "geojson": "https://raw.githubusercontent.com/giuliano-oliveira/geodata-br-states/main/geojson/br_states.json",
         "hovertemplate": "<b>%{hovertext}</b><br><br>home_team_state=%{location}<br>total_gols=%{z}<extra></extra>",
         "hovertext": [
          "BA",
          "CE",
          "GO",
          "MG",
          "PE",
          "PR",
          "RJ",
          "RS",
          "SC",
          "SP"
         ],
         "locations": [
          "BA",
          "CE",
          "GO",
          "MG",
          "PE",
          "PR",
          "RJ",
          "RS",
          "SC",
          "SP"
         ],
         "name": "",
         "subplot": "mapbox",
         "type": "choroplethmapbox",
         "z": [
          2.3846153846153846,
          2.061349693251534,
          2.3034825870646767,
          2.5128205128205128,
          2.3062200956937797,
          2.223796033994334,
          2.447887323943662,
          2.3634146341463413,
          2.21301775147929,
          2.4016227180527383
         ]
        }
       ],
       "layout": {
        "coloraxis": {
         "cmax": 2.5128205128205128,
         "cmin": 2.061349693251534,
         "colorbar": {
          "title": {
           "text": "total_gols"
          }
         },
         "colorscale": [
          [
           0,
           "rgb(255,245,240)"
          ],
          [
           0.125,
           "rgb(254,224,210)"
          ],
          [
           0.25,
           "rgb(252,187,161)"
          ],
          [
           0.375,
           "rgb(252,146,114)"
          ],
          [
           0.5,
           "rgb(251,106,74)"
          ],
          [
           0.625,
           "rgb(239,59,44)"
          ],
          [
           0.75,
           "rgb(203,24,29)"
          ],
          [
           0.875,
           "rgb(165,15,21)"
          ],
          [
           1,
           "rgb(103,0,13)"
          ]
         ]
        },
        "legend": {
         "tracegroupgap": 0
        },
        "mapbox": {
         "center": {
          "lat": -15.7801,
          "lon": -47.9292
         },
         "domain": {
          "x": [
           0,
           1
          ],
          "y": [
           0,
           1
          ]
         },
         "style": "carto-positron",
         "zoom": 3
        },
        "template": {
         "data": {
          "bar": [
           {
            "error_x": {
             "color": "#2a3f5f"
            },
            "error_y": {
             "color": "#2a3f5f"
            },
            "marker": {
             "line": {
              "color": "#E5ECF6",
              "width": 0.5
             },
             "pattern": {
              "fillmode": "overlay",
              "size": 10,
              "solidity": 0.2
             }
            },
            "type": "bar"
           }
          ],
          "barpolar": [
           {
            "marker": {
             "line": {
              "color": "#E5ECF6",
              "width": 0.5
             },
             "pattern": {
              "fillmode": "overlay",
              "size": 10,
              "solidity": 0.2
             }
            },
            "type": "barpolar"
           }
          ],
          "carpet": [
           {
            "aaxis": {
             "endlinecolor": "#2a3f5f",
             "gridcolor": "white",
             "linecolor": "white",
             "minorgridcolor": "white",
             "startlinecolor": "#2a3f5f"
            },
            "baxis": {
             "endlinecolor": "#2a3f5f",
             "gridcolor": "white",
             "linecolor": "white",
             "minorgridcolor": "white",
             "startlinecolor": "#2a3f5f"
            },
            "type": "carpet"
           }
          ],
          "choropleth": [
           {
            "colorbar": {
             "outlinewidth": 0,
             "ticks": ""
            },
            "type": "choropleth"
           }
          ],
          "contour": [
           {
            "colorbar": {
             "outlinewidth": 0,
             "ticks": ""
            },
            "colorscale": [
             [
              0,
              "#0d0887"
             ],
             [
              0.1111111111111111,
              "#46039f"
             ],
             [
              0.2222222222222222,
              "#7201a8"
             ],
             [
              0.3333333333333333,
              "#9c179e"
             ],
             [
              0.4444444444444444,
              "#bd3786"
             ],
             [
              0.5555555555555556,
              "#d8576b"
             ],
             [
              0.6666666666666666,
              "#ed7953"
             ],
             [
              0.7777777777777778,
              "#fb9f3a"
             ],
             [
              0.8888888888888888,
              "#fdca26"
             ],
             [
              1,
              "#f0f921"
             ]
            ],
            "type": "contour"
           }
          ],
          "contourcarpet": [
           {
            "colorbar": {
             "outlinewidth": 0,
             "ticks": ""
            },
            "type": "contourcarpet"
           }
          ],
          "heatmap": [
           {
            "colorbar": {
             "outlinewidth": 0,
             "ticks": ""
            },
            "colorscale": [
             [
              0,
              "#0d0887"
             ],
             [
              0.1111111111111111,
              "#46039f"
             ],
             [
              0.2222222222222222,
              "#7201a8"
             ],
             [
              0.3333333333333333,
              "#9c179e"
             ],
             [
              0.4444444444444444,
              "#bd3786"
             ],
             [
              0.5555555555555556,
              "#d8576b"
             ],
             [
              0.6666666666666666,
              "#ed7953"
             ],
             [
              0.7777777777777778,
              "#fb9f3a"
             ],
             [
              0.8888888888888888,
              "#fdca26"
             ],
             [
              1,
              "#f0f921"
             ]
            ],
            "type": "heatmap"
           }
          ],
          "heatmapgl": [
           {
            "colorbar": {
             "outlinewidth": 0,
             "ticks": ""
            },
            "colorscale": [
             [
              0,
              "#0d0887"
             ],
             [
              0.1111111111111111,
              "#46039f"
             ],
             [
              0.2222222222222222,
              "#7201a8"
             ],
             [
              0.3333333333333333,
              "#9c179e"
             ],
             [
              0.4444444444444444,
              "#bd3786"
             ],
             [
              0.5555555555555556,
              "#d8576b"
             ],
             [
              0.6666666666666666,
              "#ed7953"
             ],
             [
              0.7777777777777778,
              "#fb9f3a"
             ],
             [
              0.8888888888888888,
              "#fdca26"
             ],
             [
              1,
              "#f0f921"
             ]
            ],
            "type": "heatmapgl"
           }
          ],
          "histogram": [
           {
            "marker": {
             "pattern": {
              "fillmode": "overlay",
              "size": 10,
              "solidity": 0.2
             }
            },
            "type": "histogram"
           }
          ],
          "histogram2d": [
           {
            "colorbar": {
             "outlinewidth": 0,
             "ticks": ""
            },
            "colorscale": [
             [
              0,
              "#0d0887"
             ],
             [
              0.1111111111111111,
              "#46039f"
             ],
             [
              0.2222222222222222,
              "#7201a8"
             ],
             [
              0.3333333333333333,
              "#9c179e"
             ],
             [
              0.4444444444444444,
              "#bd3786"
             ],
             [
              0.5555555555555556,
              "#d8576b"
             ],
             [
              0.6666666666666666,
              "#ed7953"
             ],
             [
              0.7777777777777778,
              "#fb9f3a"
             ],
             [
              0.8888888888888888,
              "#fdca26"
             ],
             [
              1,
              "#f0f921"
             ]
            ],
            "type": "histogram2d"
           }
          ],
          "histogram2dcontour": [
           {
            "colorbar": {
             "outlinewidth": 0,
             "ticks": ""
            },
            "colorscale": [
             [
              0,
              "#0d0887"
             ],
             [
              0.1111111111111111,
              "#46039f"
             ],
             [
              0.2222222222222222,
              "#7201a8"
             ],
             [
              0.3333333333333333,
              "#9c179e"
             ],
             [
              0.4444444444444444,
              "#bd3786"
             ],
             [
              0.5555555555555556,
              "#d8576b"
             ],
             [
              0.6666666666666666,
              "#ed7953"
             ],
             [
              0.7777777777777778,
              "#fb9f3a"
             ],
             [
              0.8888888888888888,
              "#fdca26"
             ],
             [
              1,
              "#f0f921"
             ]
            ],
            "type": "histogram2dcontour"
           }
          ],
          "mesh3d": [
           {
            "colorbar": {
             "outlinewidth": 0,
             "ticks": ""
            },
            "type": "mesh3d"
           }
          ],
          "parcoords": [
           {
            "line": {
             "colorbar": {
              "outlinewidth": 0,
              "ticks": ""
             }
            },
            "type": "parcoords"
           }
          ],
          "pie": [
           {
            "automargin": true,
            "type": "pie"
           }
          ],
          "scatter": [
           {
            "fillpattern": {
             "fillmode": "overlay",
             "size": 10,
             "solidity": 0.2
            },
            "type": "scatter"
           }
          ],
          "scatter3d": [
           {
            "line": {
             "colorbar": {
              "outlinewidth": 0,
              "ticks": ""
             }
            },
            "marker": {
             "colorbar": {
              "outlinewidth": 0,
              "ticks": ""
             }
            },
            "type": "scatter3d"
           }
          ],
          "scattercarpet": [
           {
            "marker": {
             "colorbar": {
              "outlinewidth": 0,
              "ticks": ""
             }
            },
            "type": "scattercarpet"
           }
          ],
          "scattergeo": [
           {
            "marker": {
             "colorbar": {
              "outlinewidth": 0,
              "ticks": ""
             }
            },
            "type": "scattergeo"
           }
          ],
          "scattergl": [
           {
            "marker": {
             "colorbar": {
              "outlinewidth": 0,
              "ticks": ""
             }
            },
            "type": "scattergl"
           }
          ],
          "scattermapbox": [
           {
            "marker": {
             "colorbar": {
              "outlinewidth": 0,
              "ticks": ""
             }
            },
            "type": "scattermapbox"
           }
          ],
          "scatterpolar": [
           {
            "marker": {
             "colorbar": {
              "outlinewidth": 0,
              "ticks": ""
             }
            },
            "type": "scatterpolar"
           }
          ],
          "scatterpolargl": [
           {
            "marker": {
             "colorbar": {
              "outlinewidth": 0,
              "ticks": ""
             }
            },
            "type": "scatterpolargl"
           }
          ],
          "scatterternary": [
           {
            "marker": {
             "colorbar": {
              "outlinewidth": 0,
              "ticks": ""
             }
            },
            "type": "scatterternary"
           }
          ],
          "surface": [
           {
            "colorbar": {
             "outlinewidth": 0,
             "ticks": ""
            },
            "colorscale": [
             [
              0,
              "#0d0887"
             ],
             [
              0.1111111111111111,
              "#46039f"
             ],
             [
              0.2222222222222222,
              "#7201a8"
             ],
             [
              0.3333333333333333,
              "#9c179e"
             ],
             [
              0.4444444444444444,
              "#bd3786"
             ],
             [
              0.5555555555555556,
              "#d8576b"
             ],
             [
              0.6666666666666666,
              "#ed7953"
             ],
             [
              0.7777777777777778,
              "#fb9f3a"
             ],
             [
              0.8888888888888888,
              "#fdca26"
             ],
             [
              1,
              "#f0f921"
             ]
            ],
            "type": "surface"
           }
          ],
          "table": [
           {
            "cells": {
             "fill": {
              "color": "#EBF0F8"
             },
             "line": {
              "color": "white"
             }
            },
            "header": {
             "fill": {
              "color": "#C8D4E3"
             },
             "line": {
              "color": "white"
             }
            },
            "type": "table"
           }
          ]
         },
         "layout": {
          "annotationdefaults": {
           "arrowcolor": "#2a3f5f",
           "arrowhead": 0,
           "arrowwidth": 1
          },
          "autotypenumbers": "strict",
          "coloraxis": {
           "colorbar": {
            "outlinewidth": 0,
            "ticks": ""
           }
          },
          "colorscale": {
           "diverging": [
            [
             0,
             "#8e0152"
            ],
            [
             0.1,
             "#c51b7d"
            ],
            [
             0.2,
             "#de77ae"
            ],
            [
             0.3,
             "#f1b6da"
            ],
            [
             0.4,
             "#fde0ef"
            ],
            [
             0.5,
             "#f7f7f7"
            ],
            [
             0.6,
             "#e6f5d0"
            ],
            [
             0.7,
             "#b8e186"
            ],
            [
             0.8,
             "#7fbc41"
            ],
            [
             0.9,
             "#4d9221"
            ],
            [
             1,
             "#276419"
            ]
           ],
           "sequential": [
            [
             0,
             "#0d0887"
            ],
            [
             0.1111111111111111,
             "#46039f"
            ],
            [
             0.2222222222222222,
             "#7201a8"
            ],
            [
             0.3333333333333333,
             "#9c179e"
            ],
            [
             0.4444444444444444,
             "#bd3786"
            ],
            [
             0.5555555555555556,
             "#d8576b"
            ],
            [
             0.6666666666666666,
             "#ed7953"
            ],
            [
             0.7777777777777778,
             "#fb9f3a"
            ],
            [
             0.8888888888888888,
             "#fdca26"
            ],
            [
             1,
             "#f0f921"
            ]
           ],
           "sequentialminus": [
            [
             0,
             "#0d0887"
            ],
            [
             0.1111111111111111,
             "#46039f"
            ],
            [
             0.2222222222222222,
             "#7201a8"
            ],
            [
             0.3333333333333333,
             "#9c179e"
            ],
            [
             0.4444444444444444,
             "#bd3786"
            ],
            [
             0.5555555555555556,
             "#d8576b"
            ],
            [
             0.6666666666666666,
             "#ed7953"
            ],
            [
             0.7777777777777778,
             "#fb9f3a"
            ],
            [
             0.8888888888888888,
             "#fdca26"
            ],
            [
             1,
             "#f0f921"
            ]
           ]
          },
          "colorway": [
           "#636efa",
           "#EF553B",
           "#00cc96",
           "#ab63fa",
           "#FFA15A",
           "#19d3f3",
           "#FF6692",
           "#B6E880",
           "#FF97FF",
           "#FECB52"
          ],
          "font": {
           "color": "#2a3f5f"
          },
          "geo": {
           "bgcolor": "white",
           "lakecolor": "white",
           "landcolor": "#E5ECF6",
           "showlakes": true,
           "showland": true,
           "subunitcolor": "white"
          },
          "hoverlabel": {
           "align": "left"
          },
          "hovermode": "closest",
          "mapbox": {
           "style": "light"
          },
          "paper_bgcolor": "white",
          "plot_bgcolor": "#E5ECF6",
          "polar": {
           "angularaxis": {
            "gridcolor": "white",
            "linecolor": "white",
            "ticks": ""
           },
           "bgcolor": "#E5ECF6",
           "radialaxis": {
            "gridcolor": "white",
            "linecolor": "white",
            "ticks": ""
           }
          },
          "scene": {
           "xaxis": {
            "backgroundcolor": "#E5ECF6",
            "gridcolor": "white",
            "gridwidth": 2,
            "linecolor": "white",
            "showbackground": true,
            "ticks": "",
            "zerolinecolor": "white"
           },
           "yaxis": {
            "backgroundcolor": "#E5ECF6",
            "gridcolor": "white",
            "gridwidth": 2,
            "linecolor": "white",
            "showbackground": true,
            "ticks": "",
            "zerolinecolor": "white"
           },
           "zaxis": {
            "backgroundcolor": "#E5ECF6",
            "gridcolor": "white",
            "gridwidth": 2,
            "linecolor": "white",
            "showbackground": true,
            "ticks": "",
            "zerolinecolor": "white"
           }
          },
          "shapedefaults": {
           "line": {
            "color": "#2a3f5f"
           }
          },
          "ternary": {
           "aaxis": {
            "gridcolor": "white",
            "linecolor": "white",
            "ticks": ""
           },
           "baxis": {
            "gridcolor": "white",
            "linecolor": "white",
            "ticks": ""
           },
           "bgcolor": "#E5ECF6",
           "caxis": {
            "gridcolor": "white",
            "linecolor": "white",
            "ticks": ""
           }
          },
          "title": {
           "x": 0.05
          },
          "xaxis": {
           "automargin": true,
           "gridcolor": "white",
           "linecolor": "white",
           "ticks": "",
           "title": {
            "standoff": 15
           },
           "zerolinecolor": "white",
           "zerolinewidth": 2
          },
          "yaxis": {
           "automargin": true,
           "gridcolor": "white",
           "linecolor": "white",
           "ticks": "",
           "title": {
            "standoff": 15
           },
           "zerolinecolor": "white",
           "zerolinewidth": 2
          }
         }
        },
        "title": {
         "text": "Média de gols por Estado"
        }
       }
      }
     },
     "metadata": {},
     "output_type": "display_data"
    }
   ],
   "source": [
    "fig1 = px.choropleth_mapbox(\n",
    "    x,\n",
    "    geojson=geo_json_data,\n",
    "    locations=x.index,\n",
    "    featureidkey='properties.SIGLA',\n",
    "    color='total_gols',\n",
    "    color_continuous_scale='Reds',\n",
    "    range_color=(x['total_gols'].min(), x['total_gols'].max()),\n",
    "    mapbox_style='carto-positron',\n",
    "    center={\"lat\": -15.7801, \"lon\": -47.9292},\n",
    "    zoom=3,\n",
    "    hover_name=x.index,\n",
    "    title = 'Média de gols por Estado'\n",
    ")\n",
    "\n",
    "fig1.show()"
   ]
  },
  {
   "cell_type": "code",
   "execution_count": 1288,
   "metadata": {},
   "outputs": [
    {
     "data": {
      "text/html": [
       "<div>\n",
       "<style scoped>\n",
       "    .dataframe tbody tr th:only-of-type {\n",
       "        vertical-align: middle;\n",
       "    }\n",
       "\n",
       "    .dataframe tbody tr th {\n",
       "        vertical-align: top;\n",
       "    }\n",
       "\n",
       "    .dataframe thead th {\n",
       "        text-align: right;\n",
       "    }\n",
       "</style>\n",
       "<table border=\"1\" class=\"dataframe\">\n",
       "  <thead>\n",
       "    <tr style=\"text-align: right;\">\n",
       "      <th></th>\n",
       "      <th>datetime</th>\n",
       "      <th>home_team</th>\n",
       "      <th>home_team_state</th>\n",
       "      <th>away_team</th>\n",
       "      <th>away_team_state</th>\n",
       "      <th>home_goal</th>\n",
       "      <th>away_goal</th>\n",
       "      <th>season</th>\n",
       "      <th>round</th>\n",
       "      <th>time</th>\n",
       "    </tr>\n",
       "  </thead>\n",
       "  <tbody>\n",
       "    <tr>\n",
       "      <th>0</th>\n",
       "      <td>2012-05-19 18:30:00</td>\n",
       "      <td>Palmeiras-SP</td>\n",
       "      <td>SP</td>\n",
       "      <td>Portuguesa-SP</td>\n",
       "      <td>SP</td>\n",
       "      <td>1.0</td>\n",
       "      <td>1.0</td>\n",
       "      <td>2012</td>\n",
       "      <td>1</td>\n",
       "      <td>18:30</td>\n",
       "    </tr>\n",
       "    <tr>\n",
       "      <th>1</th>\n",
       "      <td>2012-05-19 18:30:00</td>\n",
       "      <td>Sport-PE</td>\n",
       "      <td>PE</td>\n",
       "      <td>Flamengo-RJ</td>\n",
       "      <td>RJ</td>\n",
       "      <td>1.0</td>\n",
       "      <td>1.0</td>\n",
       "      <td>2012</td>\n",
       "      <td>1</td>\n",
       "      <td>18:30</td>\n",
       "    </tr>\n",
       "    <tr>\n",
       "      <th>2</th>\n",
       "      <td>2012-05-19 21:00:00</td>\n",
       "      <td>Figueirense-SC</td>\n",
       "      <td>SC</td>\n",
       "      <td>Nautico-PE</td>\n",
       "      <td>PE</td>\n",
       "      <td>2.0</td>\n",
       "      <td>1.0</td>\n",
       "      <td>2012</td>\n",
       "      <td>1</td>\n",
       "      <td>21:00</td>\n",
       "    </tr>\n",
       "    <tr>\n",
       "      <th>3</th>\n",
       "      <td>2012-05-20 16:00:00</td>\n",
       "      <td>Ponte Preta-SP</td>\n",
       "      <td>SP</td>\n",
       "      <td>Atletico-MG</td>\n",
       "      <td>MG</td>\n",
       "      <td>0.0</td>\n",
       "      <td>1.0</td>\n",
       "      <td>2012</td>\n",
       "      <td>1</td>\n",
       "      <td>16:00</td>\n",
       "    </tr>\n",
       "    <tr>\n",
       "      <th>4</th>\n",
       "      <td>2012-05-20 16:00:00</td>\n",
       "      <td>Corinthians-SP</td>\n",
       "      <td>SP</td>\n",
       "      <td>Fluminense-RJ</td>\n",
       "      <td>RJ</td>\n",
       "      <td>0.0</td>\n",
       "      <td>1.0</td>\n",
       "      <td>2012</td>\n",
       "      <td>1</td>\n",
       "      <td>16:00</td>\n",
       "    </tr>\n",
       "  </tbody>\n",
       "</table>\n",
       "</div>"
      ],
      "text/plain": [
       "             datetime       home_team home_team_state      away_team  \\\n",
       "0 2012-05-19 18:30:00    Palmeiras-SP              SP  Portuguesa-SP   \n",
       "1 2012-05-19 18:30:00        Sport-PE              PE    Flamengo-RJ   \n",
       "2 2012-05-19 21:00:00  Figueirense-SC              SC     Nautico-PE   \n",
       "3 2012-05-20 16:00:00  Ponte Preta-SP              SP    Atletico-MG   \n",
       "4 2012-05-20 16:00:00  Corinthians-SP              SP  Fluminense-RJ   \n",
       "\n",
       "  away_team_state  home_goal  away_goal  season  round   time  \n",
       "0              SP        1.0        1.0    2012      1  18:30  \n",
       "1              RJ        1.0        1.0    2012      1  18:30  \n",
       "2              PE        2.0        1.0    2012      1  21:00  \n",
       "3              MG        0.0        1.0    2012      1  16:00  \n",
       "4              RJ        0.0        1.0    2012      1  16:00  "
      ]
     },
     "execution_count": 1288,
     "metadata": {},
     "output_type": "execute_result"
    }
   ],
   "source": [
    "brasileirao.head()"
   ]
  },
  {
   "cell_type": "markdown",
   "metadata": {},
   "source": [
    "#### Mais hipóteses"
   ]
  },
  {
   "cell_type": "code",
   "execution_count": 1289,
   "metadata": {},
   "outputs": [
    {
     "data": {
      "image/png": "[encoded data removed]",
      "text/plain": [
       "<Figure size 1500x600 with 3 Axes>"
      ]
     },
     "metadata": {},
     "output_type": "display_data"
    }
   ],
   "source": [
    "temporadas_brasileirao = brasileirao.groupby('season')[[\"home_goal\",\"away_goal\"]].mean()\n",
    "temporada_libertadores = libertadores.groupby('season')[[\"home_goal\",\"away_goal\"]].mean()\n",
    "temporada_copa = copa_do_brasil.groupby('season')[[\"home_goal\",\"away_goal\"]].mean()\n",
    "\n",
    "fig, axes = plt.subplots(nrows=1, ncols=3, figsize=(15, 6))\n",
    "\n",
    "bar_width = 0.7\n",
    "\n",
    "temporadas_brasileirao.plot(kind='line', color=['Indigo', 'OrangeRed'], ax=axes[0], legend=False)\n",
    "temporada_libertadores.plot(kind='line', color=['Indigo', 'OrangeRed'], ax=axes[1], legend=False)\n",
    "temporada_copa.plot(kind='line', color=['Indigo', 'OrangeRed'], ax=axes[2], legend=False)\n",
    "\n",
    "# Definindo as legendas do eixo x\n",
    "axes[0].set_xlabel(\"Temporadas\")\n",
    "axes[1].set_xlabel(\"Temporadas\")\n",
    "axes[2].set_xlabel(\"Temporadas\")\n",
    "\n",
    "# Definindo as legendas do eixo x\n",
    "axes[0].set_ylabel(\"Média de Gols\")\n",
    "axes[1].set_ylabel(\"Média de Gols\")\n",
    "axes[2].set_ylabel(\"Média de Gols\")\n",
    "\n",
    "# Adicionando títulos individuais para cada subplot\n",
    "axes[0].set_title(\"Brasileirão\")\n",
    "axes[1].set_title(\"Libertadores\")\n",
    "axes[2].set_title(\"Copa do Brasil\")\n",
    "\n",
    "# Posicionando a legenda fora do gráfico para o terceiro gráfico (Brasileirão)\n",
    "axes[2].legend([\"gols em casa\", \"gols fora de casa\"], bbox_to_anchor=(1.05, 1), loc='upper left')\n",
    "\n",
    "plt.tight_layout()\n",
    "plt.show()"
   ]
  }
 ],
 "metadata": {
  "kernelspec": {
   "display_name": "Python 3",
   "language": "python",
   "name": "python3"
  },
  "language_info": {
   "codemirror_mode": {
    "name": "ipython",
    "version": 3
   },
   "file_extension": ".py",
   "mimetype": "text/x-python",
   "name": "python",
   "nbconvert_exporter": "python",
   "pygments_lexer": "ipython3",
   "version": "3.11.3"
  },
  "orig_nbformat": 4
 },
 "nbformat": 4,
 "nbformat_minor": 2
}
