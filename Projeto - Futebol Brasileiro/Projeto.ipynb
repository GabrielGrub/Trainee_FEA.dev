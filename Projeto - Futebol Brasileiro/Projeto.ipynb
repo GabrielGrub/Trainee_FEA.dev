{
 "cells": [
  {
   "attachments": {},
   "cell_type": "markdown",
   "metadata": {},
   "source": [
    "# Futebol brasileiro - GRUPO 1"
   ]
  },
  {
   "attachments": {},
   "cell_type": "markdown",
   "metadata": {},
   "source": [
    "## Contextualização"
   ]
  },
  {
   "attachments": {},
   "cell_type": "markdown",
   "metadata": {},
   "source": [
    "**Membros do Grupo 01:**\n",
    "- Amanda Yamasaki\n",
    "- Gabriel Grub\n",
    "- Maria Dulce Matos\n",
    "- Paulo Sergio\n",
    "- Theo Borten"
   ]
  },
  {
   "attachments": {},
   "cell_type": "markdown",
   "metadata": {},
   "source": [
    "\n",
    "**Resumo:**\n",
    "\n",
    "**Motivação:** \n",
    "\n",
    "Ao contrário de loterias numéricas ou jogos com dados (cujos dados são justos), a “loteria esportiva” do futebol não é caracterizada por seus números equiprováveis. No futebol, jogos costumeiramente têm times favoritos e fatores internos e externos não quantificados no cálculo de probabilidades - como o emocional dos jogadores e as condições do ambiente da partida. Levando essa subjetividade em consideração, pode-se dizer que há uma distribuição de probabilidade desigual entre os possíveis resultados. É com este tipo de problema que nos deparamos ao tentar tratar o Campeonato Brasileiro probabilisticamente, e então, realizamos hipóteses para verificar correlações e padrões-ocultos entre dados coletados sobre torneios dos últimos anos no Brasil. Logo, temos como objetivo destrinchar os inúmeros fatores que influenciam nas probabilidades de resultado de um jogo de futebol, e sobretudo analisar como esses detalhes se revelam através dos dados numéricos sobre torneios no Brasil."
   ]
  },
  {
   "attachments": {},
   "cell_type": "markdown",
   "metadata": {},
   "source": [
    "## Hipóteses"
   ]
  },
  {
   "attachments": {},
   "cell_type": "markdown",
   "metadata": {},
   "source": [
    "**Hipóteses:**\n",
    "\n",
    "1- O horário da partida influencia significativamente a dinâmica do jogo, demonstrando uma relação entre o horário de início e a quantidade de gols marcados.\n",
    "\n",
    "2- Existe uma correlação positiva entre a classificação dos clubes nos campeonatos da Libertadores, Brasileirão e Copa do Brasil, indicando uma tendência consistente de desempenho entre essas competições.\n",
    "\n",
    "3- Há uma correlação positiva entre o desempenho recente de um clube, medido pelos resultados dos três jogos anteriores, e o desempenho no jogo subsequente.\n"
   ]
  },
  {
   "attachments": {},
   "cell_type": "markdown",
   "metadata": {},
   "source": [
    "## Tratamento"
   ]
  },
  {
   "attachments": {},
   "cell_type": "markdown",
   "metadata": {},
   "source": [
    "### Importando as bibliotecas necessárias"
   ]
  },
  {
   "cell_type": "code",
   "execution_count": 1158,
   "metadata": {},
   "outputs": [],
   "source": [
    "import pandas as pd\n",
    "import matplotlib.pyplot as plt\n",
    "import numpy as np\n",
    "import seaborn as sn\n",
    "from datetime import datetime\n",
    "import plotly.graph_objects as go\n",
    "import plotly.express as px\n"
   ]
  },
  {
   "attachments": {},
   "cell_type": "markdown",
   "metadata": {},
   "source": [
    "### Carregando as bases de dados"
   ]
  },
  {
   "cell_type": "code",
   "execution_count": 1192,
   "metadata": {},
   "outputs": [],
   "source": [
    "brasileirao = pd.read_csv('brasileirao.csv')\n",
    "copa_do_brasil = pd.read_csv(\"copa_do_brasil.csv\")\n",
    "libertadores = pd.read_csv(\"libertadores.csv\")\n",
    "brasileirao_gols = pd.read_csv(\"campeonato-brasileiro-gols.csv\")\n",
    "brasileirao_estatisticas = pd.read_csv(\"campeonato-brasileiro-estatisticas-full.csv\")\n",
    "brasileirao_full = pd.read_csv(\"campeonato-brasileiro-full.csv\")"
   ]
  },
  {
   "attachments": {},
   "cell_type": "markdown",
   "metadata": {},
   "source": [
    "### Descrição das bases de dados"
   ]
  },
  {
   "attachments": {},
   "cell_type": "markdown",
   "metadata": {},
   "source": [
    "#### Brasileirão"
   ]
  },
  {
   "cell_type": "code",
   "execution_count": 1160,
   "metadata": {},
   "outputs": [
    {
     "name": "stdout",
     "output_type": "stream",
     "text": [
      "<class 'pandas.core.frame.DataFrame'>\n",
      "RangeIndex: 4180 entries, 0 to 4179\n",
      "Data columns (total 9 columns):\n",
      " #   Column           Non-Null Count  Dtype  \n",
      "---  ------           --------------  -----  \n",
      " 0   datetime         4180 non-null   object \n",
      " 1   home_team        4180 non-null   object \n",
      " 2   home_team_state  4180 non-null   object \n",
      " 3   away_team        4180 non-null   object \n",
      " 4   away_team_state  4180 non-null   object \n",
      " 5   home_goal        4098 non-null   float64\n",
      " 6   away_goal        4098 non-null   float64\n",
      " 7   season           4180 non-null   int64  \n",
      " 8   round            4180 non-null   int64  \n",
      "dtypes: float64(2), int64(2), object(5)\n",
      "memory usage: 294.0+ KB\n"
     ]
    }
   ],
   "source": [
    "brasileirao.info() # Pegando informações da base de dados "
   ]
  },
  {
   "attachments": {},
   "cell_type": "markdown",
   "metadata": {},
   "source": [
    "***Número de linhas:*** 4180\n",
    "\n",
    "***Número de colunas:*** 9\n",
    "\n",
    "***Memória alocada para a base de dados:*** 294.0+ KB\n",
    "\n",
    "***Tipos de dados:***\n",
    "\n",
    "- inteiro(2)\n",
    "\n",
    "- ponto flutuante(2)\n",
    "\n",
    "- objeto(5)\n",
    "\n",
    "***Tipo de dado de cada coluna:***\n",
    "\n",
    "- Coluna 1: Data e hora (data)\n",
    "\n",
    "- Coluna 2: Time da casa (string)\n",
    "\n",
    "- Coluna 3: Estado do time da casa (string)\n",
    "\n",
    "- Coluna 4: Time visitante (string)\n",
    "\n",
    "- Coluna 5: Estado do time visitante (string)\n",
    "\n",
    "- Coluna 6: Gol em casa (ponto flutuante)\n",
    "\n",
    "- Coluna 7: Gol fora de casa (ponto flutuante)\n",
    "\n",
    "- Coluna 8: Temporada (inteiro)\n",
    "\n",
    "- Coluna 9: Rodada (inteiro)"
   ]
  },
  {
   "attachments": {},
   "cell_type": "markdown",
   "metadata": {},
   "source": [
    "##### Distribuição dos valores das principais variáveis categóricas/strings"
   ]
  },
  {
   "cell_type": "code",
   "execution_count": 1161,
   "metadata": {},
   "outputs": [
    {
     "name": "stdout",
     "output_type": "stream",
     "text": [
      "Temporadas: [2012 2013 2014 2015 2016 2017 2018 2019 2020 2021 2022]\n",
      "Todos os clubes: 36\n"
     ]
    }
   ],
   "source": [
    "print(f'Temporadas: {brasileirao[\"season\"].unique()}') #Temporadas a que se referem os dados\n",
    "\n",
    "print(f'Todos os clubes: {brasileirao[\"home_team\"].nunique()}') #Números de clubes que jogaram na Copa do Brasil ao longo desses anos"
   ]
  },
  {
   "attachments": {},
   "cell_type": "markdown",
   "metadata": {},
   "source": [
    "#### Copa do Brasil"
   ]
  },
  {
   "cell_type": "code",
   "execution_count": 1162,
   "metadata": {},
   "outputs": [
    {
     "name": "stdout",
     "output_type": "stream",
     "text": [
      "<class 'pandas.core.frame.DataFrame'>\n",
      "RangeIndex: 1337 entries, 0 to 1336\n",
      "Data columns (total 7 columns):\n",
      " #   Column     Non-Null Count  Dtype  \n",
      "---  ------     --------------  -----  \n",
      " 0   round      1337 non-null   int64  \n",
      " 1   datetime   1337 non-null   object \n",
      " 2   home_team  1337 non-null   object \n",
      " 3   away_team  1337 non-null   object \n",
      " 4   home_goal  1321 non-null   float64\n",
      " 5   away_goal  1321 non-null   float64\n",
      " 6   season     1337 non-null   int64  \n",
      "dtypes: float64(2), int64(2), object(3)\n",
      "memory usage: 73.2+ KB\n"
     ]
    }
   ],
   "source": [
    "copa_do_brasil.info() # Pegando algumas informações da base de dados "
   ]
  },
  {
   "attachments": {},
   "cell_type": "markdown",
   "metadata": {},
   "source": [
    "***Número de linhas:*** 1337\n",
    "\n",
    "***Número de colunas:*** 7\n",
    "\n",
    "***Memória alocada para a base de dados:*** 73.2+ KB\n",
    "\n",
    "***Tipos de dados:***\n",
    "\n",
    "- inteiro(2)\n",
    "\n",
    "- ponto flutuante(2)\n",
    "\n",
    "- objeto(3)\n",
    "\n",
    "***Tipo de dado de cada coluna:***\n",
    "\n",
    "- Coluna 1: Rodada (inteiro)\n",
    "\n",
    "- Coluna 2: Data e hora (data)\n",
    "\n",
    "- Coluna 3: Time da casa (string)\n",
    "\n",
    "- Coluna 4: Time visitante (string)\n",
    "\n",
    "- Coluna 5: Gol em casa (ponto flutuante)\n",
    "\n",
    "- Coluna 6: Gol fora de casa (ponto flutuante)\n",
    "\n",
    "- Coluna 7: Temporada (inteiro)"
   ]
  },
  {
   "attachments": {},
   "cell_type": "markdown",
   "metadata": {},
   "source": [
    "##### Distribuição dos valores das principais variáveis categóricas/strings"
   ]
  },
  {
   "cell_type": "code",
   "execution_count": 1163,
   "metadata": {},
   "outputs": [
    {
     "name": "stdout",
     "output_type": "stream",
     "text": [
      "Temporadas: [2012 2013 2014 2015 2016 2017 2018 2019 2020 2021]\n",
      "Todos os clubes: 275\n"
     ]
    }
   ],
   "source": [
    "print(f'Temporadas: {copa_do_brasil[\"season\"].unique()}') #Temporadas a que se referem os dados\n",
    "\n",
    "print(f'Todos os clubes: {copa_do_brasil[\"home_team\"].nunique()}') #Números de clubes que jogaram na Copa do Brasil ao longo desses anos"
   ]
  },
  {
   "attachments": {},
   "cell_type": "markdown",
   "metadata": {},
   "source": [
    "#### Libertadores"
   ]
  },
  {
   "cell_type": "code",
   "execution_count": 1164,
   "metadata": {},
   "outputs": [
    {
     "name": "stdout",
     "output_type": "stream",
     "text": [
      "<class 'pandas.core.frame.DataFrame'>\n",
      "RangeIndex: 1255 entries, 0 to 1254\n",
      "Data columns (total 7 columns):\n",
      " #   Column     Non-Null Count  Dtype  \n",
      "---  ------     --------------  -----  \n",
      " 0   datetime   1254 non-null   object \n",
      " 1   home_team  1255 non-null   object \n",
      " 2   away_team  1255 non-null   object \n",
      " 3   home_goal  1255 non-null   object \n",
      " 4   away_goal  1255 non-null   object \n",
      " 5   season     1254 non-null   float64\n",
      " 6   stage      1255 non-null   object \n",
      "dtypes: float64(1), object(6)\n",
      "memory usage: 68.8+ KB\n"
     ]
    }
   ],
   "source": [
    "libertadores.info() # Pegando algumas informações da base de dados "
   ]
  },
  {
   "attachments": {},
   "cell_type": "markdown",
   "metadata": {},
   "source": [
    "***Número de linhas:*** 1255\n",
    "\n",
    "***Número de colunas:*** 7\n",
    "\n",
    "***Memória alocada para a base de dados:*** 68.8+ KB\n",
    "\n",
    "***Tipos de dados:***\n",
    "\n",
    "- ponto flutuante(1)\n",
    "\n",
    "- objeto(6)\n",
    "\n",
    "***Tipo de dado de cada coluna:***\n",
    "\n",
    "- Coluna 2: Data e hora (data)\n",
    "\n",
    "- Coluna 3: Time da casa (string)\n",
    "\n",
    "- Coluna 4: Time visitante (string)\n",
    "\n",
    "- Coluna 5: Gol em casa (int)\n",
    "\n",
    "- Coluna 6: Gol fora de casa (int)\n",
    "\n",
    "- Coluna 7: Temporada (ponto flutuante)\n",
    "\n",
    "- Coluna 7: Etapas do campeonato (string)"
   ]
  },
  {
   "attachments": {},
   "cell_type": "markdown",
   "metadata": {},
   "source": [
    "##### Distribuição dos valores das principais variáveis categóricas/strings"
   ]
  },
  {
   "cell_type": "code",
   "execution_count": 1165,
   "metadata": {},
   "outputs": [
    {
     "name": "stdout",
     "output_type": "stream",
     "text": [
      "Temporadas: [2013. 2014. 2015. 2016. 2017. 2018. 2019. 2020. 2021. 2022.   nan]\n",
      "Etapas do campeonato: ['group stage' 'final' 'semifinals' 'quarterfinals' 'round of 16']\n",
      "Total de clubes: 114\n"
     ]
    }
   ],
   "source": [
    "print(f'Temporadas: {libertadores[\"season\"].unique()}') #Temporadas a que se referem os dados\n",
    "\n",
    "print(f'Etapas do campeonato: {libertadores[\"stage\"].unique()}') #Etapas do campeonato\n",
    "\n",
    "print(f'Total de clubes: {libertadores[\"home_team\"].nunique()}') #Números de clubes que jogaram a libertadores ao longo desses anos"
   ]
  },
  {
   "attachments": {},
   "cell_type": "markdown",
   "metadata": {},
   "source": [
    "### Limpeza dos dados"
   ]
  },
  {
   "attachments": {},
   "cell_type": "markdown",
   "metadata": {},
   "source": [
    "#### Filtrandos os anos indesejados"
   ]
  },
  {
   "cell_type": "code",
   "execution_count": 1166,
   "metadata": {},
   "outputs": [],
   "source": [
    "valor_indesejado_copa_do_brasil = 2021\n",
    "copa_do_brasil = copa_do_brasil.drop(copa_do_brasil[copa_do_brasil['season'] == valor_indesejado_copa_do_brasil].index)\n",
    "\n",
    "valor_indesejado_brasileirao = 2022\n",
    "brasileirao = brasileirao.drop(brasileirao[brasileirao['season'] == valor_indesejado_brasileirao].index)\n"
   ]
  },
  {
   "attachments": {},
   "cell_type": "markdown",
   "metadata": {},
   "source": [
    "#### Libertadores"
   ]
  },
  {
   "cell_type": "code",
   "execution_count": 1167,
   "metadata": {},
   "outputs": [
    {
     "name": "stdout",
     "output_type": "stream",
     "text": [
      "Valores nulos nos dados da Libertadores inicialmente: \n",
      "datetime     1\n",
      "home_team    0\n",
      "away_team    0\n",
      "home_goal    0\n",
      "away_goal    0\n",
      "season       1\n",
      "stage        0\n",
      "dtype: int64\n",
      "\n",
      "Valores nulos nos dados da Libertadores após a limpeza: \n",
      "datetime     0\n",
      "home_team    0\n",
      "away_team    0\n",
      "home_goal    0\n",
      "away_goal    0\n",
      "season       0\n",
      "stage        0\n",
      "dtype: int64\n",
      "\n"
     ]
    }
   ],
   "source": [
    "print(f'Valores nulos nos dados da Libertadores inicialmente: \\n{libertadores.isna().sum()}\\n')\n",
    "\n",
    "libertadores.iloc[363, libertadores.columns.get_loc('home_goal')] = 0\n",
    "libertadores.iloc[363, libertadores.columns.get_loc('away_goal')] = 3\n",
    "libertadores.iloc[363, libertadores.columns.get_loc('home_goal')] = 0\n",
    "libertadores.drop(index = 1254, inplace=True)\n",
    "\n",
    "libertadores.replace('-', float('nan'), inplace=True)\n",
    "\n",
    "libertadores['datetime'] = pd.to_datetime(libertadores['datetime']).astype('int64')\n",
    "libertadores['home_goal'] = pd.to_numeric(libertadores['home_goal'])\n",
    "libertadores['away_goal'] = pd.to_numeric(libertadores['away_goal'])\n",
    "\n",
    "print(f'Valores nulos nos dados da Libertadores após a limpeza: \\n{libertadores.isna().sum()}\\n')"
   ]
  },
  {
   "attachments": {},
   "cell_type": "markdown",
   "metadata": {},
   "source": [
    "#### Brasileirão"
   ]
  },
  {
   "cell_type": "code",
   "execution_count": 1168,
   "metadata": {},
   "outputs": [
    {
     "name": "stdout",
     "output_type": "stream",
     "text": [
      "Valores nulos nos dados do Brasileirão: \n",
      "datetime           0\n",
      "home_team          0\n",
      "home_team_state    0\n",
      "away_team          0\n",
      "away_team_state    0\n",
      "home_goal          1\n",
      "away_goal          1\n",
      "season             0\n",
      "round              0\n",
      "dtype: int64\n",
      "\n",
      "Valores nulos nos dados do Brasileirão: \n",
      "datetime           0\n",
      "home_team          0\n",
      "home_team_state    0\n",
      "away_team          0\n",
      "away_team_state    0\n",
      "home_goal          1\n",
      "away_goal          1\n",
      "season             0\n",
      "round              0\n",
      "dtype: int64\n",
      "\n"
     ]
    }
   ],
   "source": [
    "print(f'Valores nulos nos dados do Brasileirão: \\n{brasileirao.isna().sum()}\\n')\n",
    "\n",
    "brasileirao.iloc[1517, brasileirao.columns.get_loc('home_goal')] = 1\n",
    "brasileirao.iloc[1517, brasileirao.columns.get_loc('away_goal')] = 3\n",
    "\n",
    "brasileirao.replace('-', float('nan'), inplace=True) #Trocando as \"-\" por \"Nan\"\n",
    "\n",
    "brasileirao['datetime'] = pd.to_datetime(brasileirao['datetime']).astype('int64')\n",
    "brasileirao['home_goal'] = pd.to_numeric(brasileirao['home_goal'])\n",
    "brasileirao['away_goal'] = pd.to_numeric(brasileirao['away_goal'])\n",
    "\n",
    "print(f'Valores nulos nos dados do Brasileirão: \\n{brasileirao.isna().sum()}\\n')"
   ]
  },
  {
   "attachments": {},
   "cell_type": "markdown",
   "metadata": {},
   "source": [
    "#### Copa do Brasil"
   ]
  },
  {
   "cell_type": "code",
   "execution_count": 1169,
   "metadata": {},
   "outputs": [
    {
     "name": "stdout",
     "output_type": "stream",
     "text": [
      "Valores nulos nos dados do Copa do Brasil: \n",
      "round        0\n",
      "datetime     0\n",
      "home_team    0\n",
      "away_team    0\n",
      "home_goal    0\n",
      "away_goal    0\n",
      "season       0\n",
      "dtype: int64\n"
     ]
    }
   ],
   "source": [
    "print(f'Valores nulos nos dados do Copa do Brasil: \\n{copa_do_brasil.isna().sum()}')\n",
    "\n",
    "copa_do_brasil.replace('-', float('nan'), inplace=True)\n",
    "\n",
    "copa_do_brasil['datetime'] = pd.to_datetime(copa_do_brasil['datetime']).astype('int64')\n",
    "copa_do_brasil['home_goal'] = pd.to_numeric(copa_do_brasil['home_goal'])\n",
    "copa_do_brasil['away_goal'] = pd.to_numeric(copa_do_brasil['away_goal'])"
   ]
  },
  {
   "attachments": {},
   "cell_type": "markdown",
   "metadata": {},
   "source": [
    "## Insights"
   ]
  },
  {
   "attachments": {},
   "cell_type": "markdown",
   "metadata": {},
   "source": [
    "### Funções"
   ]
  },
  {
   "cell_type": "code",
   "execution_count": 1170,
   "metadata": {},
   "outputs": [],
   "source": [
    "def won_match(team1, team2, result1, result2):\n",
    "    \"\"\"Recebe dois times, e os gols feitos por cada um no jogo, e retorna o nome do vencedor, e o empate caso não tenha\"\"\"\n",
    "    if result1 == result2:  # draw\n",
    "        return \"Draw\"\n",
    "    if result2 > result1:  # result 2 ganha\n",
    "        return team2\n",
    "    else:\n",
    "        return team1  # result 1 ganha\n",
    "\n",
    "\n",
    "def classificação(data_frame):\n",
    "    '''Recebe um data frame e retorna a tabela do df'''\n",
    "    teams = data_frame[\"home_team\"].unique()\n",
    "    tabela = teams  # trbalhar com dicionarios)\n",
    "    tabela = {team: 0 for team in tabela}\n",
    "    for _, row in data_frame.iterrows():\n",
    "        result = won_match(\n",
    "            row[\"home_team\"],\n",
    "            row[\"away_team\"],\n",
    "            row[\"home_goal\"],\n",
    "            row[\"away_goal\"],\n",
    "        )\n",
    "        if result != \"Draw\":\n",
    "            tabela[result] += 3\n",
    "        else:\n",
    "            tabela[row[\"home_team\"]] += 1\n",
    "            tabela[row[\"away_team\"]] += 1\n",
    "\n",
    "    tabela = dict(\n",
    "        sorted(tabela.items(), key=lambda x: x[1], reverse=True)\n",
    "    )  # sort dos dados para ficar em ordem\n",
    "    return tabela\n",
    "\n",
    "\n",
    "def classificação_por_ano(data_frame, ano):\n",
    "    '''Recebe o df e o ano e retorna a tabela no ano'''\n",
    "    df_ano = data_frame[data_frame[\"season\"] == ano]\n",
    "    # Calcular e retornar a classificação para esse ano\n",
    "    return classificação(df_ano)\n",
    "\n",
    "t_2012 = classificação_por_ano(brasileirao, 2012)\n",
    "t_2013 = classificação_por_ano(brasileirao, 2013)\n",
    "t_2014 = classificação_por_ano(brasileirao, 2014)\n",
    "t_2015 = classificação_por_ano(brasileirao, 2015)\n",
    "t_2016 = classificação_por_ano(brasileirao, 2016)\n",
    "t_2017 = classificação_por_ano(brasileirao, 2017)\n",
    "t_2018 = classificação_por_ano(brasileirao, 2018)\n",
    "t_2019 = classificação_por_ano(brasileirao, 2019)\n",
    "t_2020 = classificação_por_ano(brasileirao, 2020)\n",
    "t_2021 = classificação_por_ano(brasileirao, 2021)\n",
    "t_2022 = classificação_por_ano(brasileirao, 2022)"
   ]
  },
  {
   "attachments": {},
   "cell_type": "markdown",
   "metadata": {},
   "source": [
    "### Organização dos dataframes"
   ]
  },
  {
   "cell_type": "code",
   "execution_count": 1171,
   "metadata": {},
   "outputs": [],
   "source": [
    "# Formatando a coluna \"datetime\" para exibir apenas as horas e minutos\n",
    "brasileirao['total_goal'] = brasileirao['home_goal'] + brasileirao['away_goal']\n",
    "brasileirao['datetime'] = pd.to_datetime(brasileirao['datetime'])\n",
    "brasileirao['time'] = brasileirao['datetime'].dt.strftime('%H:%M')\n",
    "\n",
    "libertadores['datetime'] = pd.to_datetime(libertadores['datetime'])\n",
    "libertadores['time'] = libertadores['datetime'].dt.strftime('%H:%M')\n",
    "\n",
    "copa_do_brasil['total_goal'] = copa_do_brasil['home_goal'] + copa_do_brasil['away_goal']\n",
    "copa_do_brasil['home_team_state'] = copa_do_brasil['home_team'].apply(lambda x: x.split(' - ')[1])\n",
    "copa_do_brasil['datetime'] = pd.to_datetime(copa_do_brasil['datetime'])\n",
    "copa_do_brasil['time'] = copa_do_brasil['datetime'].dt.strftime('%H:%M')\n"
   ]
  },
  {
   "attachments": {},
   "cell_type": "markdown",
   "metadata": {},
   "source": [
    "### Visualização dos dados"
   ]
  },
  {
   "attachments": {},
   "cell_type": "markdown",
   "metadata": {},
   "source": [
    "#### Média de gols por horário do jogo"
   ]
  },
  {
   "attachments": {},
   "cell_type": "markdown",
   "metadata": {},
   "source": [
    "##### Preparando os gráficos - \"Média de gols por horário do jogo\""
   ]
  },
  {
   "cell_type": "code",
   "execution_count": 1172,
   "metadata": {},
   "outputs": [],
   "source": [
    "# Agrupando o DataFrame 'brasileirao' por time e calculando a média dos gols\n",
    "horarios = brasileirao.groupby('time')[[\"home_goal\",\"away_goal\"]].mean()\n",
    "\n",
    "# Agrupando o DataFrame 'brasileirao' por time e contando o tamanho de cada grupo\n",
    "tamanho_grupos = brasileirao.groupby('time').size()\n",
    "\n",
    "# Selecionando apenas os times que têm 200 ou mais jogos disputados\n",
    "times_mais_de_200 = tamanho_grupos[tamanho_grupos >= 200].index\n",
    "\n",
    "# Filtrando o DataFrame 'horarios' para conter apenas as médias de gols dos times que têm 200 ou mais jogos disputados\n",
    "horarios_filtrados_brasileirao = horarios.loc[times_mais_de_200]"
   ]
  },
  {
   "cell_type": "code",
   "execution_count": 1173,
   "metadata": {},
   "outputs": [],
   "source": [
    "# Agrupando o DataFrame 'libertadores' por time e calculando a média dos gols\n",
    "horarios = libertadores.groupby('time')[[\"home_goal\",\"away_goal\"]].mean()\n",
    "\n",
    "# Agrupando o DataFrame 'libertadores' por time e contando o tamanho de cada grupo\n",
    "tamanho_grupos = libertadores.groupby('time').size()\n",
    "\n",
    "# Selecionando apenas os times que têm 100 ou mais jogos disputados\n",
    "times_mais_de_100 = tamanho_grupos[tamanho_grupos >=  100].index\n",
    "\n",
    "# Filtrando o DataFrame 'horarios' para conter apenas as médias de gols dos times que têm 100 ou mais jogos disputados\n",
    "horarios_filtrados_libertadores = horarios.loc[times_mais_de_100]\n"
   ]
  },
  {
   "cell_type": "code",
   "execution_count": 1174,
   "metadata": {},
   "outputs": [],
   "source": [
    "# Agrupando o DataFrame 'copa_do_brasil' por time e calculando a média dos gols\n",
    "horarios = copa_do_brasil.groupby('time')[[\"home_goal\",\"away_goal\"]].mean()\n",
    "\n",
    "# Agrupando o DataFrame 'brasileirao' por time e contando o tamanho de cada grupo\n",
    "tamanho_grupos = copa_do_brasil.groupby('time').size()\n",
    "\n",
    "# Selecionando apenas os times que têm 100 ou mais jogos disputados\n",
    "times_mais_de_100 = tamanho_grupos[tamanho_grupos >= 100].index\n",
    "\n",
    "# Filtrando o DataFrame 'horarios' para conter apenas as médias de gols dos times que têm 100 ou mais jogos disputados\n",
    "horarios_filtrados_copa = horarios.loc[times_mais_de_100]"
   ]
  },
  {
   "attachments": {},
   "cell_type": "markdown",
   "metadata": {},
   "source": [
    "##### Plotando os gráficos - \"Média de gols por horário do jogo\""
   ]
  },
  {
   "cell_type": "code",
   "execution_count": 1175,
   "metadata": {},
   "outputs": [
    {
     "data": {
      "image/png": "[encoded data removed]",
      "text/plain": [
       "<Figure size 1500x600 with 3 Axes>"
      ]
     },
     "metadata": {},
     "output_type": "display_data"
    }
   ],
   "source": [
    "fig, axes = plt.subplots(nrows=1, ncols=3, figsize=(15, 6))\n",
    "\n",
    "bar_width = 0.7\n",
    "\n",
    "horarios_filtrados_copa.plot(kind='bar', color=['Indigo', 'OrangeRed'], ax=axes[0], width=bar_width, legend=False)\n",
    "horarios_filtrados_libertadores.plot(kind='bar', color=['Indigo', 'OrangeRed'], ax=axes[1], width=bar_width, legend=False)\n",
    "horarios_filtrados_brasileirao.plot(kind='bar', color=['Indigo', 'OrangeRed'], ax=axes[2], width=bar_width, legend=False)\n",
    "\n",
    "# Definindo as legendas do eixo x\n",
    "axes[0].set_xlabel(\"Horário do jogo\")\n",
    "axes[1].set_xlabel(\"Horário do jogo\")\n",
    "axes[2].set_xlabel(\"Horário do jogo\")\n",
    "\n",
    "# Definindo as legendas do eixo x\n",
    "axes[0].set_ylabel(\"Média de Gols\")\n",
    "axes[1].set_ylabel(\"Média de Gols\")\n",
    "axes[2].set_ylabel(\"Média de Gols\")\n",
    "\n",
    "# Rotacionando os valores do eixo x em 45 graus\n",
    "axes[0].set_xticklabels(horarios_filtrados_copa.index, rotation=0)\n",
    "axes[1].set_xticklabels(horarios_filtrados_libertadores.index, rotation=0)\n",
    "axes[2].set_xticklabels(horarios_filtrados_brasileirao.index, rotation=0)\n",
    "\n",
    "# Adicionando títulos individuais para cada subplot\n",
    "axes[0].set_title(\"Copa do Brasil\")\n",
    "axes[1].set_title(\"Libertadores\")\n",
    "axes[2].set_title(\"Brasileirão\")\n",
    "\n",
    "# Adicionando os valores das barras acima de cada barra\n",
    "for ax in axes:\n",
    "    for p in ax.patches:\n",
    "        ax.annotate(\"{:.1f}\".format(p.get_height()), (p.get_x() + p.get_width() / 2., p.get_height()),\n",
    "                    ha='center', va='center', xytext=(0, 5), textcoords='offset points')\n",
    "\n",
    "# Posicionando a legenda fora do gráfico para o terceiro gráfico (Brasileirão)\n",
    "axes[2].legend([\"gols em casa\", \"gols fora de casa\"], bbox_to_anchor=(1.05, 1), loc='upper left')\n",
    "\n",
    "plt.tight_layout()\n",
    "plt.show()\n"
   ]
  },
  {
   "attachments": {},
   "cell_type": "markdown",
   "metadata": {},
   "source": [
    "Ao observar as informações transmitidas pelos gráficos, infere-se que há uma influência pouco significativa entre o horário e a quantidade de gols marcados em uma partida. Isto é, visto que a diferença na média de gols varia apenas entre 0,1 e 0,3. Sabe-se que a quantidade de gols é refletida pela performance dos jogadores, cujo preparo físico e emocional não sofre grande impacto no espaço de poucas horas. É razoável considerar, portanto, que a pequena variação existente se dá pelo fato que a diferença de horários dos confrontos está diretamente relacionada com a quantidade do público presente. Apesar de não ser um fator determinante para a vitória ou derrota de um time (por isso se trata de uma variação pequena), a maior presença de um público nos estádios durante jogos comumente resulta em jogos mais agitados e competitivos o que resulta em mais gols. Desse modo, podemos concluir que não é o horário que influencia diretamente o placar de um jogo, mas sim outro fator relacionado ao horário, que é a presença da torcida. "
   ]
  },
  {
   "attachments": {},
   "cell_type": "markdown",
   "metadata": {},
   "source": [
    "#### Média de gols por Estado"
   ]
  },
  {
   "attachments": {},
   "cell_type": "markdown",
   "metadata": {},
   "source": [
    "##### Preparando os gráficos - \"Média de gols por Estado\""
   ]
  },
  {
   "cell_type": "code",
   "execution_count": 1176,
   "metadata": {},
   "outputs": [],
   "source": [
    "x = pd.DataFrame(brasileirao.groupby('home_team_state')[[\"total_goal\"]].mean())\n",
    "\n",
    "y = pd.DataFrame(copa_do_brasil.groupby('home_team_state')[[\"total_goal\"]].mean())\n",
    "\n",
    "geo_json_data = 'https://raw.githubusercontent.com/giuliano-oliveira/geodata-br-states/main/geojson/br_states.json'\n"
   ]
  },
  {
   "attachments": {},
   "cell_type": "markdown",
   "metadata": {},
   "source": [
    "##### Plotando os gráficos - \"Média de gols por Estado\""
   ]
  },
  {
   "cell_type": "code",
   "execution_count": 1177,
   "metadata": {},
   "outputs": [
    {
     "data": {
      "application/vnd.plotly.v1+json": {
       "config": {
        "plotlyServerURL": "https://plot.ly"
       },
       "data": [
        {
         "coloraxis": "coloraxis",
         "featureidkey": "properties.SIGLA",
         "geojson": "https://raw.githubusercontent.com/giuliano-oliveira/geodata-br-states/main/geojson/br_states.json",
         "hovertemplate": "<b>%{hovertext}</b><br><br>home_team_state=%{location}<br>total_goal=%{z}<extra></extra>",
         "hovertext": [
          "AC",
          "AL",
          "AM",
          "AP",
          "BA",
          "CE",
          "DF",
          "ES",
          "GO",
          "MA",
          "MG",
          "MS",
          "MT",
          "PA",
          "PB",
          "PE",
          "PI",
          "PR",
          "RJ",
          "RN",
          "RO",
          "RR",
          "RS",
          "SC",
          "SE",
          "SP",
          "TO"
         ],
         "locations": [
          "AC",
          "AL",
          "AM",
          "AP",
          "BA",
          "CE",
          "DF",
          "ES",
          "GO",
          "MA",
          "MG",
          "MS",
          "MT",
          "PA",
          "PB",
          "PE",
          "PI",
          "PR",
          "RJ",
          "RN",
          "RO",
          "RR",
          "RS",
          "SC",
          "SE",
          "SP",
          "TO"
         ],
         "name": "",
         "subplot": "mapbox",
         "type": "choroplethmapbox",
         "z": [
          2,
          2.189189189189189,
          2.5833333333333335,
          2.888888888888889,
          2.5,
          2.7884615384615383,
          2,
          3.0588235294117645,
          2.62,
          2.48,
          2.391304347826087,
          2.3684210526315788,
          1.9210526315789473,
          2.5813953488372094,
          2.1818181818181817,
          2.533333333333333,
          2.9473684210526314,
          2.4886363636363638,
          2.3813559322033897,
          2.948717948717949,
          2.1,
          2.5555555555555554,
          1.9793814432989691,
          2.183098591549296,
          2.2777777777777777,
          2.5166666666666666,
          2.5454545454545454
         ]
        }
       ],
       "layout": {
        "coloraxis": {
         "cmax": 3.0588235294117645,
         "cmin": 1.9210526315789473,
         "colorbar": {
          "title": {
           "text": "total_goal"
          }
         },
         "colorscale": [
          [
           0,
           "rgb(232, 245, 171)"
          ],
          [
           0.09090909090909091,
           "rgb(220, 219, 137)"
          ],
          [
           0.18181818181818182,
           "rgb(209, 193, 107)"
          ],
          [
           0.2727272727272727,
           "rgb(199, 168, 83)"
          ],
          [
           0.36363636363636365,
           "rgb(186, 143, 66)"
          ],
          [
           0.45454545454545453,
           "rgb(170, 121, 60)"
          ],
          [
           0.5454545454545454,
           "rgb(151, 103, 58)"
          ],
          [
           0.6363636363636364,
           "rgb(129, 87, 56)"
          ],
          [
           0.7272727272727273,
           "rgb(104, 72, 53)"
          ],
          [
           0.8181818181818182,
           "rgb(80, 59, 46)"
          ],
          [
           0.9090909090909091,
           "rgb(57, 45, 37)"
          ],
          [
           1,
           "rgb(34, 30, 27)"
          ]
         ]
        },
        "legend": {
         "tracegroupgap": 0
        },
        "mapbox": {
         "center": {
          "lat": -15.7801,
          "lon": -47.9292
         },
         "domain": {
          "x": [
           0,
           1
          ],
          "y": [
           0,
           1
          ]
         },
         "style": "carto-positron",
         "zoom": 2
        },
        "template": {
         "data": {
          "bar": [
           {
            "error_x": {
             "color": "#2a3f5f"
            },
            "error_y": {
             "color": "#2a3f5f"
            },
            "marker": {
             "line": {
              "color": "#E5ECF6",
              "width": 0.5
             },
             "pattern": {
              "fillmode": "overlay",
              "size": 10,
              "solidity": 0.2
             }
            },
            "type": "bar"
           }
          ],
          "barpolar": [
           {
            "marker": {
             "line": {
              "color": "#E5ECF6",
              "width": 0.5
             },
             "pattern": {
              "fillmode": "overlay",
              "size": 10,
              "solidity": 0.2
             }
            },
            "type": "barpolar"
           }
          ],
          "carpet": [
           {
            "aaxis": {
             "endlinecolor": "#2a3f5f",
             "gridcolor": "white",
             "linecolor": "white",
             "minorgridcolor": "white",
             "startlinecolor": "#2a3f5f"
            },
            "baxis": {
             "endlinecolor": "#2a3f5f",
             "gridcolor": "white",
             "linecolor": "white",
             "minorgridcolor": "white",
             "startlinecolor": "#2a3f5f"
            },
            "type": "carpet"
           }
          ],
          "choropleth": [
           {
            "colorbar": {
             "outlinewidth": 0,
             "ticks": ""
            },
            "type": "choropleth"
           }
          ],
          "contour": [
           {
            "colorbar": {
             "outlinewidth": 0,
             "ticks": ""
            },
            "colorscale": [
             [
              0,
              "#0d0887"
             ],
             [
              0.1111111111111111,
              "#46039f"
             ],
             [
              0.2222222222222222,
              "#7201a8"
             ],
             [
              0.3333333333333333,
              "#9c179e"
             ],
             [
              0.4444444444444444,
              "#bd3786"
             ],
             [
              0.5555555555555556,
              "#d8576b"
             ],
             [
              0.6666666666666666,
              "#ed7953"
             ],
             [
              0.7777777777777778,
              "#fb9f3a"
             ],
             [
              0.8888888888888888,
              "#fdca26"
             ],
             [
              1,
              "#f0f921"
             ]
            ],
            "type": "contour"
           }
          ],
          "contourcarpet": [
           {
            "colorbar": {
             "outlinewidth": 0,
             "ticks": ""
            },
            "type": "contourcarpet"
           }
          ],
          "heatmap": [
           {
            "colorbar": {
             "outlinewidth": 0,
             "ticks": ""
            },
            "colorscale": [
             [
              0,
              "#0d0887"
             ],
             [
              0.1111111111111111,
              "#46039f"
             ],
             [
              0.2222222222222222,
              "#7201a8"
             ],
             [
              0.3333333333333333,
              "#9c179e"
             ],
             [
              0.4444444444444444,
              "#bd3786"
             ],
             [
              0.5555555555555556,
              "#d8576b"
             ],
             [
              0.6666666666666666,
              "#ed7953"
             ],
             [
              0.7777777777777778,
              "#fb9f3a"
             ],
             [
              0.8888888888888888,
              "#fdca26"
             ],
             [
              1,
              "#f0f921"
             ]
            ],
            "type": "heatmap"
           }
          ],
          "heatmapgl": [
           {
            "colorbar": {
             "outlinewidth": 0,
             "ticks": ""
            },
            "colorscale": [
             [
              0,
              "#0d0887"
             ],
             [
              0.1111111111111111,
              "#46039f"
             ],
             [
              0.2222222222222222,
              "#7201a8"
             ],
             [
              0.3333333333333333,
              "#9c179e"
             ],
             [
              0.4444444444444444,
              "#bd3786"
             ],
             [
              0.5555555555555556,
              "#d8576b"
             ],
             [
              0.6666666666666666,
              "#ed7953"
             ],
             [
              0.7777777777777778,
              "#fb9f3a"
             ],
             [
              0.8888888888888888,
              "#fdca26"
             ],
             [
              1,
              "#f0f921"
             ]
            ],
            "type": "heatmapgl"
           }
          ],
          "histogram": [
           {
            "marker": {
             "pattern": {
              "fillmode": "overlay",
              "size": 10,
              "solidity": 0.2
             }
            },
            "type": "histogram"
           }
          ],
          "histogram2d": [
           {
            "colorbar": {
             "outlinewidth": 0,
             "ticks": ""
            },
            "colorscale": [
             [
              0,
              "#0d0887"
             ],
             [
              0.1111111111111111,
              "#46039f"
             ],
             [
              0.2222222222222222,
              "#7201a8"
             ],
             [
              0.3333333333333333,
              "#9c179e"
             ],
             [
              0.4444444444444444,
              "#bd3786"
             ],
             [
              0.5555555555555556,
              "#d8576b"
             ],
             [
              0.6666666666666666,
              "#ed7953"
             ],
             [
              0.7777777777777778,
              "#fb9f3a"
             ],
             [
              0.8888888888888888,
              "#fdca26"
             ],
             [
              1,
              "#f0f921"
             ]
            ],
            "type": "histogram2d"
           }
          ],
          "histogram2dcontour": [
           {
            "colorbar": {
             "outlinewidth": 0,
             "ticks": ""
            },
            "colorscale": [
             [
              0,
              "#0d0887"
             ],
             [
              0.1111111111111111,
              "#46039f"
             ],
             [
              0.2222222222222222,
              "#7201a8"
             ],
             [
              0.3333333333333333,
              "#9c179e"
             ],
             [
              0.4444444444444444,
              "#bd3786"
             ],
             [
              0.5555555555555556,
              "#d8576b"
             ],
             [
              0.6666666666666666,
              "#ed7953"
             ],
             [
              0.7777777777777778,
              "#fb9f3a"
             ],
             [
              0.8888888888888888,
              "#fdca26"
             ],
             [
              1,
              "#f0f921"
             ]
            ],
            "type": "histogram2dcontour"
           }
          ],
          "mesh3d": [
           {
            "colorbar": {
             "outlinewidth": 0,
             "ticks": ""
            },
            "type": "mesh3d"
           }
          ],
          "parcoords": [
           {
            "line": {
             "colorbar": {
              "outlinewidth": 0,
              "ticks": ""
             }
            },
            "type": "parcoords"
           }
          ],
          "pie": [
           {
            "automargin": true,
            "type": "pie"
           }
          ],
          "scatter": [
           {
            "fillpattern": {
             "fillmode": "overlay",
             "size": 10,
             "solidity": 0.2
            },
            "type": "scatter"
           }
          ],
          "scatter3d": [
           {
            "line": {
             "colorbar": {
              "outlinewidth": 0,
              "ticks": ""
             }
            },
            "marker": {
             "colorbar": {
              "outlinewidth": 0,
              "ticks": ""
             }
            },
            "type": "scatter3d"
           }
          ],
          "scattercarpet": [
           {
            "marker": {
             "colorbar": {
              "outlinewidth": 0,
              "ticks": ""
             }
            },
            "type": "scattercarpet"
           }
          ],
          "scattergeo": [
           {
            "marker": {
             "colorbar": {
              "outlinewidth": 0,
              "ticks": ""
             }
            },
            "type": "scattergeo"
           }
          ],
          "scattergl": [
           {
            "marker": {
             "colorbar": {
              "outlinewidth": 0,
              "ticks": ""
             }
            },
            "type": "scattergl"
           }
          ],
          "scattermapbox": [
           {
            "marker": {
             "colorbar": {
              "outlinewidth": 0,
              "ticks": ""
             }
            },
            "type": "scattermapbox"
           }
          ],
          "scatterpolar": [
           {
            "marker": {
             "colorbar": {
              "outlinewidth": 0,
              "ticks": ""
             }
            },
            "type": "scatterpolar"
           }
          ],
          "scatterpolargl": [
           {
            "marker": {
             "colorbar": {
              "outlinewidth": 0,
              "ticks": ""
             }
            },
            "type": "scatterpolargl"
           }
          ],
          "scatterternary": [
           {
            "marker": {
             "colorbar": {
              "outlinewidth": 0,
              "ticks": ""
             }
            },
            "type": "scatterternary"
           }
          ],
          "surface": [
           {
            "colorbar": {
             "outlinewidth": 0,
             "ticks": ""
            },
            "colorscale": [
             [
              0,
              "#0d0887"
             ],
             [
              0.1111111111111111,
              "#46039f"
             ],
             [
              0.2222222222222222,
              "#7201a8"
             ],
             [
              0.3333333333333333,
              "#9c179e"
             ],
             [
              0.4444444444444444,
              "#bd3786"
             ],
             [
              0.5555555555555556,
              "#d8576b"
             ],
             [
              0.6666666666666666,
              "#ed7953"
             ],
             [
              0.7777777777777778,
              "#fb9f3a"
             ],
             [
              0.8888888888888888,
              "#fdca26"
             ],
             [
              1,
              "#f0f921"
             ]
            ],
            "type": "surface"
           }
          ],
          "table": [
           {
            "cells": {
             "fill": {
              "color": "#EBF0F8"
             },
             "line": {
              "color": "white"
             }
            },
            "header": {
             "fill": {
              "color": "#C8D4E3"
             },
             "line": {
              "color": "white"
             }
            },
            "type": "table"
           }
          ]
         },
         "layout": {
          "annotationdefaults": {
           "arrowcolor": "#2a3f5f",
           "arrowhead": 0,
           "arrowwidth": 1
          },
          "autotypenumbers": "strict",
          "coloraxis": {
           "colorbar": {
            "outlinewidth": 0,
            "ticks": ""
           }
          },
          "colorscale": {
           "diverging": [
            [
             0,
             "#8e0152"
            ],
            [
             0.1,
             "#c51b7d"
            ],
            [
             0.2,
             "#de77ae"
            ],
            [
             0.3,
             "#f1b6da"
            ],
            [
             0.4,
             "#fde0ef"
            ],
            [
             0.5,
             "#f7f7f7"
            ],
            [
             0.6,
             "#e6f5d0"
            ],
            [
             0.7,
             "#b8e186"
            ],
            [
             0.8,
             "#7fbc41"
            ],
            [
             0.9,
             "#4d9221"
            ],
            [
             1,
             "#276419"
            ]
           ],
           "sequential": [
            [
             0,
             "#0d0887"
            ],
            [
             0.1111111111111111,
             "#46039f"
            ],
            [
             0.2222222222222222,
             "#7201a8"
            ],
            [
             0.3333333333333333,
             "#9c179e"
            ],
            [
             0.4444444444444444,
             "#bd3786"
            ],
            [
             0.5555555555555556,
             "#d8576b"
            ],
            [
             0.6666666666666666,
             "#ed7953"
            ],
            [
             0.7777777777777778,
             "#fb9f3a"
            ],
            [
             0.8888888888888888,
             "#fdca26"
            ],
            [
             1,
             "#f0f921"
            ]
           ],
           "sequentialminus": [
            [
             0,
             "#0d0887"
            ],
            [
             0.1111111111111111,
             "#46039f"
            ],
            [
             0.2222222222222222,
             "#7201a8"
            ],
            [
             0.3333333333333333,
             "#9c179e"
            ],
            [
             0.4444444444444444,
             "#bd3786"
            ],
            [
             0.5555555555555556,
             "#d8576b"
            ],
            [
             0.6666666666666666,
             "#ed7953"
            ],
            [
             0.7777777777777778,
             "#fb9f3a"
            ],
            [
             0.8888888888888888,
             "#fdca26"
            ],
            [
             1,
             "#f0f921"
            ]
           ]
          },
          "colorway": [
           "#636efa",
           "#EF553B",
           "#00cc96",
           "#ab63fa",
           "#FFA15A",
           "#19d3f3",
           "#FF6692",
           "#B6E880",
           "#FF97FF",
           "#FECB52"
          ],
          "font": {
           "color": "#2a3f5f"
          },
          "geo": {
           "bgcolor": "white",
           "lakecolor": "white",
           "landcolor": "#E5ECF6",
           "showlakes": true,
           "showland": true,
           "subunitcolor": "white"
          },
          "hoverlabel": {
           "align": "left"
          },
          "hovermode": "closest",
          "mapbox": {
           "style": "light"
          },
          "paper_bgcolor": "white",
          "plot_bgcolor": "#E5ECF6",
          "polar": {
           "angularaxis": {
            "gridcolor": "white",
            "linecolor": "white",
            "ticks": ""
           },
           "bgcolor": "#E5ECF6",
           "radialaxis": {
            "gridcolor": "white",
            "linecolor": "white",
            "ticks": ""
           }
          },
          "scene": {
           "xaxis": {
            "backgroundcolor": "#E5ECF6",
            "gridcolor": "white",
            "gridwidth": 2,
            "linecolor": "white",
            "showbackground": true,
            "ticks": "",
            "zerolinecolor": "white"
           },
           "yaxis": {
            "backgroundcolor": "#E5ECF6",
            "gridcolor": "white",
            "gridwidth": 2,
            "linecolor": "white",
            "showbackground": true,
            "ticks": "",
            "zerolinecolor": "white"
           },
           "zaxis": {
            "backgroundcolor": "#E5ECF6",
            "gridcolor": "white",
            "gridwidth": 2,
            "linecolor": "white",
            "showbackground": true,
            "ticks": "",
            "zerolinecolor": "white"
           }
          },
          "shapedefaults": {
           "line": {
            "color": "#2a3f5f"
           }
          },
          "ternary": {
           "aaxis": {
            "gridcolor": "white",
            "linecolor": "white",
            "ticks": ""
           },
           "baxis": {
            "gridcolor": "white",
            "linecolor": "white",
            "ticks": ""
           },
           "bgcolor": "#E5ECF6",
           "caxis": {
            "gridcolor": "white",
            "linecolor": "white",
            "ticks": ""
           }
          },
          "title": {
           "x": 0.05
          },
          "xaxis": {
           "automargin": true,
           "gridcolor": "white",
           "linecolor": "white",
           "ticks": "",
           "title": {
            "standoff": 15
           },
           "zerolinecolor": "white",
           "zerolinewidth": 2
          },
          "yaxis": {
           "automargin": true,
           "gridcolor": "white",
           "linecolor": "white",
           "ticks": "",
           "title": {
            "standoff": 15
           },
           "zerolinecolor": "white",
           "zerolinewidth": 2
          }
         }
        },
        "title": {
         "text": "Média de gols por Estado - Copa do Brasil"
        }
       }
      }
     },
     "metadata": {},
     "output_type": "display_data"
    },
    {
     "data": {
      "application/vnd.plotly.v1+json": {
       "config": {
        "plotlyServerURL": "https://plot.ly"
       },
       "data": [
        {
         "coloraxis": "coloraxis",
         "featureidkey": "properties.SIGLA",
         "geojson": "https://raw.githubusercontent.com/giuliano-oliveira/geodata-br-states/main/geojson/br_states.json",
         "hovertemplate": "<b>%{hovertext}</b><br><br>home_team_state=%{location}<br>total_goal=%{z}<extra></extra>",
         "hovertext": [
          "AL",
          "BA",
          "CE",
          "GO",
          "MG",
          "MT",
          "PE",
          "PR",
          "RJ",
          "RS",
          "SC",
          "SP"
         ],
         "locations": [
          "AL",
          "BA",
          "CE",
          "GO",
          "MG",
          "MT",
          "PE",
          "PR",
          "RJ",
          "RS",
          "SC",
          "SP"
         ],
         "name": "",
         "subplot": "mapbox",
         "type": "choroplethmapbox",
         "z": [
          2.1578947368421053,
          2.3846153846153846,
          2.0977443609022557,
          2.309941520467836,
          2.531328320802005,
          2,
          2.3062200956937797,
          2.2260061919504643,
          2.442105263157895,
          2.3526315789473684,
          2.1925465838509317,
          2.3947368421052633
         ]
        }
       ],
       "layout": {
        "coloraxis": {
         "cmax": 3.0588235294117645,
         "cmin": 1.9210526315789473,
         "colorbar": {
          "title": {
           "text": "total_goal"
          }
         },
         "colorscale": [
          [
           0,
           "rgb(232, 245, 171)"
          ],
          [
           0.09090909090909091,
           "rgb(220, 219, 137)"
          ],
          [
           0.18181818181818182,
           "rgb(209, 193, 107)"
          ],
          [
           0.2727272727272727,
           "rgb(199, 168, 83)"
          ],
          [
           0.36363636363636365,
           "rgb(186, 143, 66)"
          ],
          [
           0.45454545454545453,
           "rgb(170, 121, 60)"
          ],
          [
           0.5454545454545454,
           "rgb(151, 103, 58)"
          ],
          [
           0.6363636363636364,
           "rgb(129, 87, 56)"
          ],
          [
           0.7272727272727273,
           "rgb(104, 72, 53)"
          ],
          [
           0.8181818181818182,
           "rgb(80, 59, 46)"
          ],
          [
           0.9090909090909091,
           "rgb(57, 45, 37)"
          ],
          [
           1,
           "rgb(34, 30, 27)"
          ]
         ]
        },
        "legend": {
         "tracegroupgap": 0
        },
        "mapbox": {
         "center": {
          "lat": -15.7801,
          "lon": -47.9292
         },
         "domain": {
          "x": [
           0,
           1
          ],
          "y": [
           0,
           1
          ]
         },
         "style": "carto-positron",
         "zoom": 2
        },
        "template": {
         "data": {
          "bar": [
           {
            "error_x": {
             "color": "#2a3f5f"
            },
            "error_y": {
             "color": "#2a3f5f"
            },
            "marker": {
             "line": {
              "color": "#E5ECF6",
              "width": 0.5
             },
             "pattern": {
              "fillmode": "overlay",
              "size": 10,
              "solidity": 0.2
             }
            },
            "type": "bar"
           }
          ],
          "barpolar": [
           {
            "marker": {
             "line": {
              "color": "#E5ECF6",
              "width": 0.5
             },
             "pattern": {
              "fillmode": "overlay",
              "size": 10,
              "solidity": 0.2
             }
            },
            "type": "barpolar"
           }
          ],
          "carpet": [
           {
            "aaxis": {
             "endlinecolor": "#2a3f5f",
             "gridcolor": "white",
             "linecolor": "white",
             "minorgridcolor": "white",
             "startlinecolor": "#2a3f5f"
            },
            "baxis": {
             "endlinecolor": "#2a3f5f",
             "gridcolor": "white",
             "linecolor": "white",
             "minorgridcolor": "white",
             "startlinecolor": "#2a3f5f"
            },
            "type": "carpet"
           }
          ],
          "choropleth": [
           {
            "colorbar": {
             "outlinewidth": 0,
             "ticks": ""
            },
            "type": "choropleth"
           }
          ],
          "contour": [
           {
            "colorbar": {
             "outlinewidth": 0,
             "ticks": ""
            },
            "colorscale": [
             [
              0,
              "#0d0887"
             ],
             [
              0.1111111111111111,
              "#46039f"
             ],
             [
              0.2222222222222222,
              "#7201a8"
             ],
             [
              0.3333333333333333,
              "#9c179e"
             ],
             [
              0.4444444444444444,
              "#bd3786"
             ],
             [
              0.5555555555555556,
              "#d8576b"
             ],
             [
              0.6666666666666666,
              "#ed7953"
             ],
             [
              0.7777777777777778,
              "#fb9f3a"
             ],
             [
              0.8888888888888888,
              "#fdca26"
             ],
             [
              1,
              "#f0f921"
             ]
            ],
            "type": "contour"
           }
          ],
          "contourcarpet": [
           {
            "colorbar": {
             "outlinewidth": 0,
             "ticks": ""
            },
            "type": "contourcarpet"
           }
          ],
          "heatmap": [
           {
            "colorbar": {
             "outlinewidth": 0,
             "ticks": ""
            },
            "colorscale": [
             [
              0,
              "#0d0887"
             ],
             [
              0.1111111111111111,
              "#46039f"
             ],
             [
              0.2222222222222222,
              "#7201a8"
             ],
             [
              0.3333333333333333,
              "#9c179e"
             ],
             [
              0.4444444444444444,
              "#bd3786"
             ],
             [
              0.5555555555555556,
              "#d8576b"
             ],
             [
              0.6666666666666666,
              "#ed7953"
             ],
             [
              0.7777777777777778,
              "#fb9f3a"
             ],
             [
              0.8888888888888888,
              "#fdca26"
             ],
             [
              1,
              "#f0f921"
             ]
            ],
            "type": "heatmap"
           }
          ],
          "heatmapgl": [
           {
            "colorbar": {
             "outlinewidth": 0,
             "ticks": ""
            },
            "colorscale": [
             [
              0,
              "#0d0887"
             ],
             [
              0.1111111111111111,
              "#46039f"
             ],
             [
              0.2222222222222222,
              "#7201a8"
             ],
             [
              0.3333333333333333,
              "#9c179e"
             ],
             [
              0.4444444444444444,
              "#bd3786"
             ],
             [
              0.5555555555555556,
              "#d8576b"
             ],
             [
              0.6666666666666666,
              "#ed7953"
             ],
             [
              0.7777777777777778,
              "#fb9f3a"
             ],
             [
              0.8888888888888888,
              "#fdca26"
             ],
             [
              1,
              "#f0f921"
             ]
            ],
            "type": "heatmapgl"
           }
          ],
          "histogram": [
           {
            "marker": {
             "pattern": {
              "fillmode": "overlay",
              "size": 10,
              "solidity": 0.2
             }
            },
            "type": "histogram"
           }
          ],
          "histogram2d": [
           {
            "colorbar": {
             "outlinewidth": 0,
             "ticks": ""
            },
            "colorscale": [
             [
              0,
              "#0d0887"
             ],
             [
              0.1111111111111111,
              "#46039f"
             ],
             [
              0.2222222222222222,
              "#7201a8"
             ],
             [
              0.3333333333333333,
              "#9c179e"
             ],
             [
              0.4444444444444444,
              "#bd3786"
             ],
             [
              0.5555555555555556,
              "#d8576b"
             ],
             [
              0.6666666666666666,
              "#ed7953"
             ],
             [
              0.7777777777777778,
              "#fb9f3a"
             ],
             [
              0.8888888888888888,
              "#fdca26"
             ],
             [
              1,
              "#f0f921"
             ]
            ],
            "type": "histogram2d"
           }
          ],
          "histogram2dcontour": [
           {
            "colorbar": {
             "outlinewidth": 0,
             "ticks": ""
            },
            "colorscale": [
             [
              0,
              "#0d0887"
             ],
             [
              0.1111111111111111,
              "#46039f"
             ],
             [
              0.2222222222222222,
              "#7201a8"
             ],
             [
              0.3333333333333333,
              "#9c179e"
             ],
             [
              0.4444444444444444,
              "#bd3786"
             ],
             [
              0.5555555555555556,
              "#d8576b"
             ],
             [
              0.6666666666666666,
              "#ed7953"
             ],
             [
              0.7777777777777778,
              "#fb9f3a"
             ],
             [
              0.8888888888888888,
              "#fdca26"
             ],
             [
              1,
              "#f0f921"
             ]
            ],
            "type": "histogram2dcontour"
           }
          ],
          "mesh3d": [
           {
            "colorbar": {
             "outlinewidth": 0,
             "ticks": ""
            },
            "type": "mesh3d"
           }
          ],
          "parcoords": [
           {
            "line": {
             "colorbar": {
              "outlinewidth": 0,
              "ticks": ""
             }
            },
            "type": "parcoords"
           }
          ],
          "pie": [
           {
            "automargin": true,
            "type": "pie"
           }
          ],
          "scatter": [
           {
            "fillpattern": {
             "fillmode": "overlay",
             "size": 10,
             "solidity": 0.2
            },
            "type": "scatter"
           }
          ],
          "scatter3d": [
           {
            "line": {
             "colorbar": {
              "outlinewidth": 0,
              "ticks": ""
             }
            },
            "marker": {
             "colorbar": {
              "outlinewidth": 0,
              "ticks": ""
             }
            },
            "type": "scatter3d"
           }
          ],
          "scattercarpet": [
           {
            "marker": {
             "colorbar": {
              "outlinewidth": 0,
              "ticks": ""
             }
            },
            "type": "scattercarpet"
           }
          ],
          "scattergeo": [
           {
            "marker": {
             "colorbar": {
              "outlinewidth": 0,
              "ticks": ""
             }
            },
            "type": "scattergeo"
           }
          ],
          "scattergl": [
           {
            "marker": {
             "colorbar": {
              "outlinewidth": 0,
              "ticks": ""
             }
            },
            "type": "scattergl"
           }
          ],
          "scattermapbox": [
           {
            "marker": {
             "colorbar": {
              "outlinewidth": 0,
              "ticks": ""
             }
            },
            "type": "scattermapbox"
           }
          ],
          "scatterpolar": [
           {
            "marker": {
             "colorbar": {
              "outlinewidth": 0,
              "ticks": ""
             }
            },
            "type": "scatterpolar"
           }
          ],
          "scatterpolargl": [
           {
            "marker": {
             "colorbar": {
              "outlinewidth": 0,
              "ticks": ""
             }
            },
            "type": "scatterpolargl"
           }
          ],
          "scatterternary": [
           {
            "marker": {
             "colorbar": {
              "outlinewidth": 0,
              "ticks": ""
             }
            },
            "type": "scatterternary"
           }
          ],
          "surface": [
           {
            "colorbar": {
             "outlinewidth": 0,
             "ticks": ""
            },
            "colorscale": [
             [
              0,
              "#0d0887"
             ],
             [
              0.1111111111111111,
              "#46039f"
             ],
             [
              0.2222222222222222,
              "#7201a8"
             ],
             [
              0.3333333333333333,
              "#9c179e"
             ],
             [
              0.4444444444444444,
              "#bd3786"
             ],
             [
              0.5555555555555556,
              "#d8576b"
             ],
             [
              0.6666666666666666,
              "#ed7953"
             ],
             [
              0.7777777777777778,
              "#fb9f3a"
             ],
             [
              0.8888888888888888,
              "#fdca26"
             ],
             [
              1,
              "#f0f921"
             ]
            ],
            "type": "surface"
           }
          ],
          "table": [
           {
            "cells": {
             "fill": {
              "color": "#EBF0F8"
             },
             "line": {
              "color": "white"
             }
            },
            "header": {
             "fill": {
              "color": "#C8D4E3"
             },
             "line": {
              "color": "white"
             }
            },
            "type": "table"
           }
          ]
         },
         "layout": {
          "annotationdefaults": {
           "arrowcolor": "#2a3f5f",
           "arrowhead": 0,
           "arrowwidth": 1
          },
          "autotypenumbers": "strict",
          "coloraxis": {
           "colorbar": {
            "outlinewidth": 0,
            "ticks": ""
           }
          },
          "colorscale": {
           "diverging": [
            [
             0,
             "#8e0152"
            ],
            [
             0.1,
             "#c51b7d"
            ],
            [
             0.2,
             "#de77ae"
            ],
            [
             0.3,
             "#f1b6da"
            ],
            [
             0.4,
             "#fde0ef"
            ],
            [
             0.5,
             "#f7f7f7"
            ],
            [
             0.6,
             "#e6f5d0"
            ],
            [
             0.7,
             "#b8e186"
            ],
            [
             0.8,
             "#7fbc41"
            ],
            [
             0.9,
             "#4d9221"
            ],
            [
             1,
             "#276419"
            ]
           ],
           "sequential": [
            [
             0,
             "#0d0887"
            ],
            [
             0.1111111111111111,
             "#46039f"
            ],
            [
             0.2222222222222222,
             "#7201a8"
            ],
            [
             0.3333333333333333,
             "#9c179e"
            ],
            [
             0.4444444444444444,
             "#bd3786"
            ],
            [
             0.5555555555555556,
             "#d8576b"
            ],
            [
             0.6666666666666666,
             "#ed7953"
            ],
            [
             0.7777777777777778,
             "#fb9f3a"
            ],
            [
             0.8888888888888888,
             "#fdca26"
            ],
            [
             1,
             "#f0f921"
            ]
           ],
           "sequentialminus": [
            [
             0,
             "#0d0887"
            ],
            [
             0.1111111111111111,
             "#46039f"
            ],
            [
             0.2222222222222222,
             "#7201a8"
            ],
            [
             0.3333333333333333,
             "#9c179e"
            ],
            [
             0.4444444444444444,
             "#bd3786"
            ],
            [
             0.5555555555555556,
             "#d8576b"
            ],
            [
             0.6666666666666666,
             "#ed7953"
            ],
            [
             0.7777777777777778,
             "#fb9f3a"
            ],
            [
             0.8888888888888888,
             "#fdca26"
            ],
            [
             1,
             "#f0f921"
            ]
           ]
          },
          "colorway": [
           "#636efa",
           "#EF553B",
           "#00cc96",
           "#ab63fa",
           "#FFA15A",
           "#19d3f3",
           "#FF6692",
           "#B6E880",
           "#FF97FF",
           "#FECB52"
          ],
          "font": {
           "color": "#2a3f5f"
          },
          "geo": {
           "bgcolor": "white",
           "lakecolor": "white",
           "landcolor": "#E5ECF6",
           "showlakes": true,
           "showland": true,
           "subunitcolor": "white"
          },
          "hoverlabel": {
           "align": "left"
          },
          "hovermode": "closest",
          "mapbox": {
           "style": "light"
          },
          "paper_bgcolor": "white",
          "plot_bgcolor": "#E5ECF6",
          "polar": {
           "angularaxis": {
            "gridcolor": "white",
            "linecolor": "white",
            "ticks": ""
           },
           "bgcolor": "#E5ECF6",
           "radialaxis": {
            "gridcolor": "white",
            "linecolor": "white",
            "ticks": ""
           }
          },
          "scene": {
           "xaxis": {
            "backgroundcolor": "#E5ECF6",
            "gridcolor": "white",
            "gridwidth": 2,
            "linecolor": "white",
            "showbackground": true,
            "ticks": "",
            "zerolinecolor": "white"
           },
           "yaxis": {
            "backgroundcolor": "#E5ECF6",
            "gridcolor": "white",
            "gridwidth": 2,
            "linecolor": "white",
            "showbackground": true,
            "ticks": "",
            "zerolinecolor": "white"
           },
           "zaxis": {
            "backgroundcolor": "#E5ECF6",
            "gridcolor": "white",
            "gridwidth": 2,
            "linecolor": "white",
            "showbackground": true,
            "ticks": "",
            "zerolinecolor": "white"
           }
          },
          "shapedefaults": {
           "line": {
            "color": "#2a3f5f"
           }
          },
          "ternary": {
           "aaxis": {
            "gridcolor": "white",
            "linecolor": "white",
            "ticks": ""
           },
           "baxis": {
            "gridcolor": "white",
            "linecolor": "white",
            "ticks": ""
           },
           "bgcolor": "#E5ECF6",
           "caxis": {
            "gridcolor": "white",
            "linecolor": "white",
            "ticks": ""
           }
          },
          "title": {
           "x": 0.05
          },
          "xaxis": {
           "automargin": true,
           "gridcolor": "white",
           "linecolor": "white",
           "ticks": "",
           "title": {
            "standoff": 15
           },
           "zerolinecolor": "white",
           "zerolinewidth": 2
          },
          "yaxis": {
           "automargin": true,
           "gridcolor": "white",
           "linecolor": "white",
           "ticks": "",
           "title": {
            "standoff": 15
           },
           "zerolinecolor": "white",
           "zerolinewidth": 2
          }
         }
        },
        "title": {
         "text": "Média de gols por Estado - Brasileirão"
        }
       }
      }
     },
     "metadata": {},
     "output_type": "display_data"
    }
   ],
   "source": [
    "fig1 = px.choropleth_mapbox(\n",
    "    y,\n",
    "    geojson=geo_json_data,\n",
    "    locations=y.index,\n",
    "    featureidkey='properties.SIGLA',\n",
    "    color='total_goal',\n",
    "    color_continuous_scale='turbid',\n",
    "    range_color=(y['total_goal'].min(), y['total_goal'].max()),\n",
    "    mapbox_style='carto-positron',\n",
    "    center={\"lat\": -15.7801, \"lon\": -47.9292},\n",
    "    zoom=2,\n",
    "    hover_name=y.index,\n",
    "    title = 'Média de gols por Estado - Copa do Brasil'\n",
    ")\n",
    "\n",
    "fig1.show()\n",
    "\n",
    "fig2 = px.choropleth_mapbox(\n",
    "    x,\n",
    "    geojson=geo_json_data,\n",
    "    locations=x.index,\n",
    "    featureidkey='properties.SIGLA',\n",
    "    color='total_goal',\n",
    "    color_continuous_scale='turbid',\n",
    "    range_color=(y['total_goal'].min(), y['total_goal'].max()),\n",
    "    mapbox_style='carto-positron',\n",
    "    center={\"lat\": -15.7801, \"lon\": -47.9292},\n",
    "    zoom=2,\n",
    "    hover_name=x.index,\n",
    "    title = 'Média de gols por Estado - Brasileirão'\n",
    ")\n",
    "\n",
    "fig2.show()\n"
   ]
  },
  {
   "attachments": {},
   "cell_type": "markdown",
   "metadata": {},
   "source": [
    "No mapa que mostra o Campeonato Brasileiro, podemos observar que estados com times de menor investimento e popularidade têm médias de gol maiores. Podemos inferir que isso se dá uma vez que todos os times disputam a Copa do Brasil, e assim, quando times maiores são sorteados para jogar com aqueles de menor orçamento, os placares acabam sendo elásticos devido a diferença técnica entre os elencos. É razoável concluir, portanto, que essa é uma explicação para uma média elevada de gols nos estados da região Norte. Já em relação ao mapa que representa o Brasileirão, o gráfico revela uma maior uniformidade na distribuição de quantidade de gols, sendo viável inferir que isso pode ser justificado pelo fato de que todos os clubes se enfrentam, e por estarem na mesma série, apresentam uma maior equidade na competição. "
   ]
  },
  {
   "attachments": {},
   "cell_type": "markdown",
   "metadata": {},
   "source": [
    "#### Média de gols por temporada"
   ]
  },
  {
   "attachments": {},
   "cell_type": "markdown",
   "metadata": {},
   "source": [
    "##### Preparando os gráficos - \"Média de gols por temporada\""
   ]
  },
  {
   "cell_type": "code",
   "execution_count": 1178,
   "metadata": {},
   "outputs": [],
   "source": [
    "temporadas_brasileirao = brasileirao.groupby('season')[[\"home_goal\",\"away_goal\"]].mean()\n",
    "temporada_libertadores = libertadores.groupby('season')[[\"home_goal\",\"away_goal\"]].mean()\n",
    "temporada_copa = copa_do_brasil.groupby('season')[[\"home_goal\",\"away_goal\"]].mean()\n"
   ]
  },
  {
   "attachments": {},
   "cell_type": "markdown",
   "metadata": {},
   "source": [
    "##### Plotando o gráfico - \"Média de gols por temporada\""
   ]
  },
  {
   "cell_type": "code",
   "execution_count": 1179,
   "metadata": {},
   "outputs": [
    {
     "data": {
      "image/png": "[encoded data removed]",
      "text/plain": [
       "<Figure size 1500x600 with 3 Axes>"
      ]
     },
     "metadata": {},
     "output_type": "display_data"
    }
   ],
   "source": [
    "fig, axes = plt.subplots(nrows=1, ncols=3, figsize=(15, 6))\n",
    "\n",
    "temporadas_brasileirao.plot(kind='line', color=['Indigo', 'OrangeRed'], ax=axes[0], legend=False, linewidth=3)\n",
    "temporada_libertadores.plot(kind='line', color=['Indigo', 'OrangeRed'], ax=axes[1], legend=False, linewidth=3)\n",
    "temporada_copa.plot(kind='line', color=['Indigo', 'OrangeRed'], ax=axes[2], legend=False, linewidth=3)\n",
    "\n",
    "# Definindo as legendas do eixo x\n",
    "axes[0].set_xlabel(\"Temporadas\")\n",
    "axes[1].set_xlabel(\"Temporadas\")\n",
    "axes[2].set_xlabel(\"Temporadas\")\n",
    "\n",
    "# Definindo as legendas do eixo x\n",
    "axes[0].set_ylabel(\"Média de Gols\")\n",
    "axes[1].set_ylabel(\"Média de Gols\")\n",
    "axes[2].set_ylabel(\"Média de Gols\")\n",
    "\n",
    "# Adicionando títulos individuais para cada subplot\n",
    "axes[0].set_title(\"Brasileirão\")\n",
    "axes[1].set_title(\"Libertadores\")\n",
    "axes[2].set_title(\"Copa do Brasil\")\n",
    "\n",
    "# Posicionando a legenda fora do gráfico para o terceiro gráfico (Brasileirão)\n",
    "axes[2].legend([\"gols em casa\", \"gols fora de casa\"], bbox_to_anchor=(1.05, 1), loc='upper left')\n",
    "\n",
    "\n",
    "plt.tight_layout()\n",
    "plt.show()\n"
   ]
  },
  {
   "attachments": {},
   "cell_type": "markdown",
   "metadata": {},
   "source": [
    "Ao analisar os gráficos, algumas inferências podem ser realizadas. A primeira é que nos anos de Copa do Mundo (2014 e 2018), observamos uma menor média de gols por temporada. De modo geral, técnicos de times do mundo inteiro concordam que o calendário da famosa competição internacional \"bagunça\" a performance e rendimento da maioria dos times. Isto é, considerando a existência de jogos além da Copa, como amistosos e copas continentais. É comum que times sejam desfalcados devido a convocação de jogadores para a Seleção Brasileira, e assim, seus clubes sofrem com a falta dos seus melhores integrantes do elenco, resultando em partidas com menor integração e efetividade e, logo, menos gols. A segunda inferência é que no ano de 2020, a incidência de gols teve uma elevação notável. No ano da pandemia, jogos tiveram público apenas até março - o resto da temporada ocorria com os estádios vazios.  À medida que a falta da torcida tornava os jogos menos emocionantes e com pouca motivação, também removia a pressão sobre os jogadores, que assim, tornava os jogos mais rápidos e dinâmicos, resultando em mais gols."
   ]
  },
  {
   "attachments": {},
   "cell_type": "markdown",
   "metadata": {},
   "source": [
    "#### Média de gols por etapa da Libertadores"
   ]
  },
  {
   "attachments": {},
   "cell_type": "markdown",
   "metadata": {},
   "source": [
    "##### Preparando os gráficos - \"Média de gols por etapa da Libertadores\""
   ]
  },
  {
   "cell_type": "code",
   "execution_count": 1180,
   "metadata": {},
   "outputs": [],
   "source": [
    "estagios_libertadores = libertadores.groupby('stage')[[\"home_goal\", \"away_goal\"]].mean()"
   ]
  },
  {
   "attachments": {},
   "cell_type": "markdown",
   "metadata": {},
   "source": [
    "##### Plotando o gráfico - \"Média de gols por etapa da Libertadores\""
   ]
  },
  {
   "cell_type": "code",
   "execution_count": 1181,
   "metadata": {},
   "outputs": [
    {
     "data": {
      "text/plain": [
       "<Figure size 1200x600 with 0 Axes>"
      ]
     },
     "metadata": {},
     "output_type": "display_data"
    },
    {
     "data": {
      "image/png": "[encoded data removed]",
      "text/plain": [
       "<Figure size 640x480 with 1 Axes>"
      ]
     },
     "metadata": {},
     "output_type": "display_data"
    }
   ],
   "source": [
    "# Mapear os nomes dos estágios para o português\n",
    "estagios_em_portugues = {\n",
    "    'final': 'Final',\n",
    "    'group stage': 'Grupos',\n",
    "    'quarterfinals': 'Quartas',\n",
    "    'round of 16': 'Oitavas',\n",
    "    'semifinals': 'Semifinais'\n",
    "}\n",
    "\n",
    "# Renomear o índice (stage) para os nomes em português\n",
    "estagios_libertadores.index = estagios_libertadores.index.map(estagios_em_portugues)\n",
    "\n",
    "# Reordenar os dados de acordo com a ordem do campeonato\n",
    "ordem_do_campeonato = ['Grupos', 'Oitavas', 'Quartas', 'Semifinais', 'Final']\n",
    "estagios_libertadores = estagios_libertadores.reindex(ordem_do_campeonato)\n",
    "bar_width = 0.8\n",
    "\n",
    "# Configurações estéticas\n",
    "plt.figure(figsize=(12, 6))  # Tamanho da figura\n",
    "\n",
    "# Plotando o gráfico de barras empilhadas\n",
    "estagios_libertadores.plot.bar(color=['Indigo', 'OrangeRed'], edgecolor='black', width=bar_width, linewidth=1)\n",
    "\n",
    "# Adicionando títulos e rótulos\n",
    "plt.title(\"Média de Gols por Etapa - Libertadores\", fontsize=10, fontweight='bold')\n",
    "plt.xlabel(\"Etapas\", fontsize=10)\n",
    "plt.ylabel(\"Média de Gols\", fontsize=10)\n",
    "\n",
    "# Removendo bordas direita e superior do gráfico\n",
    "ax = plt.gca()\n",
    "ax.spines['right'].set_visible(False)\n",
    "ax.spines['top'].set_visible(False)\n",
    "\n",
    "# Adicionando rótulos nas barras\n",
    "for p in ax.patches:\n",
    "    ax.annotate(f\"{p.get_height():.1f}\", (p.get_x() + p.get_width() / 2., p.get_height()), ha='center', va='center',\n",
    "                xytext=(0, 10), textcoords='offset points', fontsize=10)\n",
    "\n",
    "# Posicionando a legenda fora do gráfico com o ajuste do bbox_to_anchor\n",
    "plt.legend([\"Gols em casa\", \"Gols fora de casa\"], bbox_to_anchor=(1.02, 1), loc='upper left', fontsize=10)\n",
    "\n",
    "# Rotacionar o eixo x para horizontal\n",
    "ax.tick_params(axis='x', rotation=0)\n",
    "\n",
    "# Mostrando o gráfico\n",
    "plt.tight_layout()\n",
    "plt.show()"
   ]
  },
  {
   "attachments": {},
   "cell_type": "markdown",
   "metadata": {},
   "source": [
    "Em uma competição de mata-mata tão importante quanto a Libertadores, existe o aspecto fundamental de entender o peso do jogo para as equipes rivais. À medida que o campeonato se aproxima da final, a responsabilidade em não sofrer gols tende a aumentar o nível de concentração dos atletas, o que faz com que erros individuais decisivos diminuam, resultando em espaços para criação de ataque mais raros. Desse modo, a tendência é de haver cada vez menos gols ao longo da competição, além de serem placares apertados, como evidenciado pelo placar da última edição da competição em 2022, 1 x 0 Flamengo contra o Athletico PR. "
   ]
  },
  {
   "attachments": {},
   "cell_type": "markdown",
   "metadata": {},
   "source": [
    "#### Média de gols por ano ímpar e par"
   ]
  },
  {
   "attachments": {},
   "cell_type": "markdown",
   "metadata": {},
   "source": [
    "##### Preparando o gráficos - \"Média de gols por ano ímpar e par\""
   ]
  },
  {
   "cell_type": "code",
   "execution_count": 1185,
   "metadata": {},
   "outputs": [],
   "source": [
    "valor_desejado_impar = [2013, 2015, 2017, 2019, 2021]\n",
    "brasileirao_impar = brasileirao[brasileirao['season'].isin(valor_desejado_impar)]\n",
    "\n",
    "valor_desejado_par = [2012, 2014, 2016, 2018, 2020]\n",
    "brasileirao_par = brasileirao[brasileirao['season'].isin(valor_desejado_par)]\n",
    "\n",
    "brasileirao_impar_gols = brasileirao_impar.groupby('season')[['home_goal', 'away_goal']].mean()\n",
    "brasileirao_par_gols = brasileirao_par.groupby('season')[['home_goal', 'away_goal']].mean()\n",
    "\n",
    "# Filtrar apenas os anos ímpares\n",
    "brasileirao_impar_gols = brasileirao_impar_gols[brasileirao_impar_gols.index % 2 != 0]\n",
    "\n",
    "# Combinação dos DataFrames\n",
    "brasileirao_combined_gols = pd.concat([brasileirao_impar_gols, brasileirao_par_gols])\n"
   ]
  },
  {
   "attachments": {},
   "cell_type": "markdown",
   "metadata": {},
   "source": [
    "##### Plotando o gráfico - \"Média de gols por ano ímpar e par\""
   ]
  },
  {
   "cell_type": "code",
   "execution_count": 1186,
   "metadata": {},
   "outputs": [
    {
     "data": {
      "image/png": "[encoded data removed]",
      "text/plain": [
       "<Figure size 1200x600 with 1 Axes>"
      ]
     },
     "metadata": {},
     "output_type": "display_data"
    }
   ],
   "source": [
    "# Plotar o gráfico de barras em um único subplot\n",
    "plt.figure(figsize=(12, 6))\n",
    "\n",
    "# Definindo a largura das barras para melhor visualização\n",
    "bar_width = 0.4\n",
    "\n",
    "# Anos ímpares\n",
    "plt.bar(brasileirao_combined_gols.index - bar_width/2, brasileirao_combined_gols['home_goal'], label='Média de gols em casa', width=bar_width, color='Indigo')\n",
    "plt.bar(brasileirao_combined_gols.index + bar_width/2, brasileirao_combined_gols['away_goal'], label='Média de gols fora de casa', width=bar_width, color='OrangeRed')\n",
    "\n",
    "# Anos pares\n",
    "plt.bar(brasileirao_par_gols.index - bar_width/2, brasileirao_par_gols['home_goal'], width=bar_width, color='Indigo')\n",
    "plt.bar(brasileirao_par_gols.index + bar_width/2, brasileirao_par_gols['away_goal'], width=bar_width, color='OrangeRed')\n",
    "\n",
    "plt.xlabel('Ano', fontsize=10)\n",
    "plt.ylabel('Média de gols', fontsize=10)\n",
    "plt.title('Média de gols por ano ímpar e par', fontweight='bold')\n",
    "\n",
    "# Posicionando a legenda fora do gráfico\n",
    "plt.legend(bbox_to_anchor=(1.02, 1), loc='upper left')\n",
    "\n",
    "# Rotacionar a legenda do eixo x\n",
    "plt.xticks(brasileirao_combined_gols.index, rotation=0)\n",
    "\n",
    "plt.tight_layout()\n",
    "plt.show()\n"
   ]
  },
  {
   "attachments": {},
   "cell_type": "markdown",
   "metadata": {},
   "source": [
    "Ao analisar o gráfico que relaciona a média de gols com a variável de anos pares e ímpares, notamos que há pouca, ou melhor, praticamente nenhuma relação entre ambos fatores. Portanto, ao observar uma semelhança entre os anos consecutivos, conclui-se que a paridade ou não-paridade dos anos reflete pouca informação sobre a performance de times brasileiros em competições domésticas e continentais. "
   ]
  },
  {
   "attachments": {},
   "cell_type": "markdown",
   "metadata": {},
   "source": [
    "## Conclusão"
   ]
  },
  {
   "attachments": {},
   "cell_type": "markdown",
   "metadata": {},
   "source": [
    "???"
   ]
  },
  {
   "cell_type": "code",
   "execution_count": 1193,
   "metadata": {},
   "outputs": [
    {
     "data": {
      "text/html": [
       "<div>\n",
       "<style scoped>\n",
       "    .dataframe tbody tr th:only-of-type {\n",
       "        vertical-align: middle;\n",
       "    }\n",
       "\n",
       "    .dataframe tbody tr th {\n",
       "        vertical-align: top;\n",
       "    }\n",
       "\n",
       "    .dataframe thead th {\n",
       "        text-align: right;\n",
       "    }\n",
       "</style>\n",
       "<table border=\"1\" class=\"dataframe\">\n",
       "  <thead>\n",
       "    <tr style=\"text-align: right;\">\n",
       "      <th></th>\n",
       "      <th>ID</th>\n",
       "      <th>rodata</th>\n",
       "      <th>data</th>\n",
       "      <th>hora</th>\n",
       "      <th>mandante</th>\n",
       "      <th>visitante</th>\n",
       "      <th>formacao_mandante</th>\n",
       "      <th>formacao_visitante</th>\n",
       "      <th>tecnico_mandante</th>\n",
       "      <th>tecnico_visitante</th>\n",
       "      <th>vencedor</th>\n",
       "      <th>arena</th>\n",
       "      <th>mandante_Placar</th>\n",
       "      <th>visitante_Placar</th>\n",
       "      <th>mandante_Estado</th>\n",
       "      <th>visitante_Estado</th>\n",
       "    </tr>\n",
       "  </thead>\n",
       "  <tbody>\n",
       "    <tr>\n",
       "      <th>8020</th>\n",
       "      <td>8021</td>\n",
       "      <td>38</td>\n",
       "      <td>13/11/2022</td>\n",
       "      <td>16:03</td>\n",
       "      <td>Cuiaba</td>\n",
       "      <td>Coritiba</td>\n",
       "      <td>4-1-4-1</td>\n",
       "      <td>4-1-4-1</td>\n",
       "      <td>A. Cardoso de Oliveira</td>\n",
       "      <td>A. Ferreira</td>\n",
       "      <td>Cuiaba</td>\n",
       "      <td>Arena Pantanal</td>\n",
       "      <td>2</td>\n",
       "      <td>1</td>\n",
       "      <td>MT</td>\n",
       "      <td>PR</td>\n",
       "    </tr>\n",
       "    <tr>\n",
       "      <th>8021</th>\n",
       "      <td>8022</td>\n",
       "      <td>38</td>\n",
       "      <td>13/11/2022</td>\n",
       "      <td>16:03</td>\n",
       "      <td>Bragantino</td>\n",
       "      <td>Fluminense</td>\n",
       "      <td>4-2-3-1</td>\n",
       "      <td>4-2-3-1</td>\n",
       "      <td>M. Nogueira Barbieri</td>\n",
       "      <td>F. Diniz Silva</td>\n",
       "      <td>Fluminense</td>\n",
       "      <td>Nabizão</td>\n",
       "      <td>0</td>\n",
       "      <td>1</td>\n",
       "      <td>SP</td>\n",
       "      <td>RJ</td>\n",
       "    </tr>\n",
       "    <tr>\n",
       "      <th>8022</th>\n",
       "      <td>8023</td>\n",
       "      <td>38</td>\n",
       "      <td>13/11/2022</td>\n",
       "      <td>16:03</td>\n",
       "      <td>Corinthians</td>\n",
       "      <td>Atletico-MG</td>\n",
       "      <td>4-1-4-1</td>\n",
       "      <td>4-2-3-1</td>\n",
       "      <td>F. J. Monteiro Almeida</td>\n",
       "      <td>A. Stival</td>\n",
       "      <td>Atletico-MG</td>\n",
       "      <td>Neo Química Arena</td>\n",
       "      <td>0</td>\n",
       "      <td>1</td>\n",
       "      <td>SP</td>\n",
       "      <td>MG</td>\n",
       "    </tr>\n",
       "    <tr>\n",
       "      <th>8023</th>\n",
       "      <td>8024</td>\n",
       "      <td>38</td>\n",
       "      <td>13/11/2022</td>\n",
       "      <td>16:03</td>\n",
       "      <td>Internacional</td>\n",
       "      <td>Palmeiras</td>\n",
       "      <td>4-2-3-1</td>\n",
       "      <td>4-2-3-1</td>\n",
       "      <td>L. Venker de Menezes</td>\n",
       "      <td>A. Moreira Ferreira</td>\n",
       "      <td>Internacional</td>\n",
       "      <td>Estádio José Pinheiro Borda</td>\n",
       "      <td>3</td>\n",
       "      <td>0</td>\n",
       "      <td>RS</td>\n",
       "      <td>SP</td>\n",
       "    </tr>\n",
       "    <tr>\n",
       "      <th>8024</th>\n",
       "      <td>8025</td>\n",
       "      <td>38</td>\n",
       "      <td>13/11/2022</td>\n",
       "      <td>16:03</td>\n",
       "      <td>Goias</td>\n",
       "      <td>Sao Paulo</td>\n",
       "      <td>4-2-3-1</td>\n",
       "      <td>4-1-2-1-2</td>\n",
       "      <td>J. Ribeiro Ventura</td>\n",
       "      <td>R. Ceni</td>\n",
       "      <td>Sao Paulo</td>\n",
       "      <td>Estádio da Serrinha</td>\n",
       "      <td>0</td>\n",
       "      <td>4</td>\n",
       "      <td>GO</td>\n",
       "      <td>SP</td>\n",
       "    </tr>\n",
       "  </tbody>\n",
       "</table>\n",
       "</div>"
      ],
      "text/plain": [
       "        ID  rodata        data   hora       mandante    visitante  \\\n",
       "8020  8021      38  13/11/2022  16:03         Cuiaba     Coritiba   \n",
       "8021  8022      38  13/11/2022  16:03     Bragantino   Fluminense   \n",
       "8022  8023      38  13/11/2022  16:03    Corinthians  Atletico-MG   \n",
       "8023  8024      38  13/11/2022  16:03  Internacional    Palmeiras   \n",
       "8024  8025      38  13/11/2022  16:03          Goias    Sao Paulo   \n",
       "\n",
       "     formacao_mandante formacao_visitante        tecnico_mandante  \\\n",
       "8020           4-1-4-1            4-1-4-1  A. Cardoso de Oliveira   \n",
       "8021           4-2-3-1            4-2-3-1    M. Nogueira Barbieri   \n",
       "8022           4-1-4-1            4-2-3-1  F. J. Monteiro Almeida   \n",
       "8023           4-2-3-1            4-2-3-1    L. Venker de Menezes   \n",
       "8024           4-2-3-1          4-1-2-1-2      J. Ribeiro Ventura   \n",
       "\n",
       "        tecnico_visitante       vencedor                        arena  \\\n",
       "8020          A. Ferreira         Cuiaba               Arena Pantanal   \n",
       "8021       F. Diniz Silva     Fluminense                      Nabizão   \n",
       "8022            A. Stival    Atletico-MG            Neo Química Arena   \n",
       "8023  A. Moreira Ferreira  Internacional  Estádio José Pinheiro Borda   \n",
       "8024              R. Ceni      Sao Paulo          Estádio da Serrinha   \n",
       "\n",
       "      mandante_Placar  visitante_Placar mandante_Estado visitante_Estado  \n",
       "8020                2                 1              MT               PR  \n",
       "8021                0                 1              SP               RJ  \n",
       "8022                0                 1              SP               MG  \n",
       "8023                3                 0              RS               SP  \n",
       "8024                0                 4              GO               SP  "
      ]
     },
     "execution_count": 1193,
     "metadata": {},
     "output_type": "execute_result"
    }
   ],
   "source": [
    "brasileirao_gols.head()\n",
    "brasileirao_estatisticas.tail()\n",
    "brasileirao_full.tail()"
   ]
  }
 ],
 "metadata": {
  "kernelspec": {
   "display_name": "Python 3",
   "language": "python",
   "name": "python3"
  },
  "language_info": {
   "codemirror_mode": {
    "name": "ipython",
    "version": 3
   },
   "file_extension": ".py",
   "mimetype": "text/x-python",
   "name": "python",
   "nbconvert_exporter": "python",
   "pygments_lexer": "ipython3",
   "version": "3.11.3"
  },
  "orig_nbformat": 4
 },
 "nbformat": 4,
 "nbformat_minor": 2
}
