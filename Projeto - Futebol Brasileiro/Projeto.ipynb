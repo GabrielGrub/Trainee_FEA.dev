{
 "cells": [
  {
   "cell_type": "markdown",
   "metadata": {},
   "source": [
    "# Futebol brasileiro (brasileirão/copa/liberta) - GRUPO 1"
   ]
  },
  {
   "cell_type": "markdown",
   "metadata": {},
   "source": [
    "**Membros do Grupo 01:**\n",
    "- Amanda Yamasaki\n",
    "- Gabriel Grub\n",
    "- Maria Dulce Matos\n",
    "- Paulo Sergio\n",
    "- Theo Borten"
   ]
  },
  {
   "cell_type": "markdown",
   "metadata": {},
   "source": [
    "###  Projeto"
   ]
  },
  {
   "cell_type": "markdown",
   "metadata": {},
   "source": [
    "**Hipóteses:**\n",
    "\n",
    "1- O horário da partida influencia significativamente a dinâmica do jogo, demonstrando uma relação entre o horário de início e a quantidade de gols marcados, bem como o resultado final.\n",
    "\n",
    "2- Há uma correlação positiva entre o desempenho recente de um clube, medido pelos resultados dos três jogos anteriores, e o desempenho no jogo subsequente.\n",
    "\n",
    "3- Existe uma correlação positiva entre a classificação dos clubes nos campeonatos da Libertadores, Brasileirão e Copa do Brasil, indicando uma tendência consistente de desempenho entre essas competições.\n",
    "\n",
    "**Resumo:**\n",
    "\n",
    "**Motivação:** \n",
    "\n",
    "Ao contrário de loterias numéricas ou jogos com dados (cujos dados são justos), a “loteria esportiva” do futebol não é caracterizada por seus números equiprováveis. No futebol, jogos costumeiramente têm times favoritos e fatores internos e externos não quantificados no cálculo de probabilidades - como o emocional dos jogadores e as condições do ambiente da partida. Levando essa subjetividade em consideração, pode-se dizer que há uma distribuição de probabilidade desigual entre os possíveis resultados. É com este tipo de problema que nos deparamos ao tentar tratar o Campeonato Brasileiro probabilisticamente, e então, realizamos hipóteses para verificar correlações e padrões-ocultos entre dados coletados sobre torneios dos últimos anos no Brasil. Logo, temos como objetivo destrinchar os inúmeros fatores que influenciam nas probabilidades de resultado de um jogo de futebol, e sobretudo analisar como esses detalhes se revelam através dos dados numéricos sobre torneios no Brasil."
   ]
  },
  {
   "cell_type": "markdown",
   "metadata": {},
   "source": [
    "### Importando as bibliotecas necessárias e carregando a base de dados para utilização no Python"
   ]
  },
  {
   "cell_type": "code",
   "execution_count": 64,
   "metadata": {},
   "outputs": [],
   "source": [
    "import pandas as pd\n",
    "#import matplotlib.pyplot as plt\n",
    "#import numpy as np\n",
    "import seaborn as sn\n",
    "from datetime import datetime\n",
    "\n",
    "brasileirao = pd.read_csv('brasileirao.csv')\n",
    "copa_do_brasil = pd.read_csv(\"copa_do_brasil.csv\")\n",
    "libertadores = pd.read_csv(\"libertadores.csv\")"
   ]
  },
  {
   "cell_type": "markdown",
   "metadata": {},
   "source": [
    "### Descrição das bases de dados e suas principais características."
   ]
  },
  {
   "cell_type": "markdown",
   "metadata": {},
   "source": [
    "#### Brasileirão"
   ]
  },
  {
   "cell_type": "code",
   "execution_count": 65,
   "metadata": {},
   "outputs": [
    {
     "name": "stdout",
     "output_type": "stream",
     "text": [
      "<class 'pandas.core.frame.DataFrame'>\n",
      "RangeIndex: 4180 entries, 0 to 4179\n",
      "Data columns (total 9 columns):\n",
      " #   Column           Non-Null Count  Dtype  \n",
      "---  ------           --------------  -----  \n",
      " 0   datetime         4180 non-null   object \n",
      " 1   home_team        4180 non-null   object \n",
      " 2   home_team_state  4180 non-null   object \n",
      " 3   away_team        4180 non-null   object \n",
      " 4   away_team_state  4180 non-null   object \n",
      " 5   home_goal        4098 non-null   float64\n",
      " 6   away_goal        4098 non-null   float64\n",
      " 7   season           4180 non-null   int64  \n",
      " 8   round            4180 non-null   int64  \n",
      "dtypes: float64(2), int64(2), object(5)\n",
      "memory usage: 294.0+ KB\n"
     ]
    }
   ],
   "source": [
    "brasileirao.info() # Pegando informações da base de dados "
   ]
  },
  {
   "cell_type": "markdown",
   "metadata": {},
   "source": [
    "***Número de linhas:*** 4180\n",
    "\n",
    "***Número de colunas:*** 9\n",
    "\n",
    "***Memória alocada para a base de dados:*** 294.0+ KB\n",
    "\n",
    "***Tipos de dados:***\n",
    "\n",
    "- inteiro(2)\n",
    "\n",
    "- ponto flutuante(2)\n",
    "\n",
    "- objeto(5)\n",
    "\n",
    "***Tipo de dado de cada coluna:***\n",
    "\n",
    "- Coluna 1: Data e hora (data)\n",
    "\n",
    "- Coluna 2: Time da casa (string)\n",
    "\n",
    "- Coluna 3: Estado do time da casa (string)\n",
    "\n",
    "- Coluna 4: Time visitante (string)\n",
    "\n",
    "- Coluna 5: Estado do time visitante (string)\n",
    "\n",
    "- Coluna 6: Gol em casa (ponto flutuante)\n",
    "\n",
    "- Coluna 7: Gol fora de casa (ponto flutuante)\n",
    "\n",
    "- Coluna 8: Temporada (inteiro)\n",
    "\n",
    "- Coluna 9: Rodada (inteiro)"
   ]
  },
  {
   "cell_type": "markdown",
   "metadata": {},
   "source": [
    "**Distribuição dos valores das principais variáveis categóricas/strings**"
   ]
  },
  {
   "cell_type": "code",
   "execution_count": 66,
   "metadata": {},
   "outputs": [
    {
     "name": "stdout",
     "output_type": "stream",
     "text": [
      "Temporadas: [2012 2013 2014 2015 2016 2017 2018 2019 2020 2021 2022]\n",
      "Todos os clubes: 36\n"
     ]
    }
   ],
   "source": [
    "print(f'Temporadas: {brasileirao[\"season\"].unique()}') #Temporadas a que se referem os dados\n",
    "\n",
    "print(f'Todos os clubes: {brasileirao[\"home_team\"].nunique()}') #Números de clubes que jogaram na Copa do Brasil ao longo desses anos"
   ]
  },
  {
   "cell_type": "markdown",
   "metadata": {},
   "source": [
    "#### Copa do Brasil"
   ]
  },
  {
   "cell_type": "code",
   "execution_count": 67,
   "metadata": {},
   "outputs": [
    {
     "name": "stdout",
     "output_type": "stream",
     "text": [
      "<class 'pandas.core.frame.DataFrame'>\n",
      "RangeIndex: 1337 entries, 0 to 1336\n",
      "Data columns (total 7 columns):\n",
      " #   Column     Non-Null Count  Dtype  \n",
      "---  ------     --------------  -----  \n",
      " 0   round      1337 non-null   int64  \n",
      " 1   datetime   1337 non-null   object \n",
      " 2   home_team  1337 non-null   object \n",
      " 3   away_team  1337 non-null   object \n",
      " 4   home_goal  1321 non-null   float64\n",
      " 5   away_goal  1321 non-null   float64\n",
      " 6   season     1337 non-null   int64  \n",
      "dtypes: float64(2), int64(2), object(3)\n",
      "memory usage: 73.2+ KB\n"
     ]
    }
   ],
   "source": [
    "copa_do_brasil.info() # Pegando algumas informações da base de dados "
   ]
  },
  {
   "cell_type": "markdown",
   "metadata": {},
   "source": [
    "***Número de linhas:*** 1337\n",
    "\n",
    "***Número de colunas:*** 7\n",
    "\n",
    "***Memória alocada para a base de dados:*** 73.2+ KB\n",
    "\n",
    "***Tipos de dados:***\n",
    "\n",
    "- inteiro(2)\n",
    "\n",
    "- ponto flutuante(2)\n",
    "\n",
    "- objeto(3)\n",
    "\n",
    "***Tipo de dado de cada coluna:***\n",
    "\n",
    "- Coluna 1: Rodada (inteiro)\n",
    "\n",
    "- Coluna 2: Data e hora (data)\n",
    "\n",
    "- Coluna 3: Time da casa (string)\n",
    "\n",
    "- Coluna 4: Time visitante (string)\n",
    "\n",
    "- Coluna 5: Gol em casa (ponto flutuante)\n",
    "\n",
    "- Coluna 6: Gol fora de casa (ponto flutuante)\n",
    "\n",
    "- Coluna 7: Temporada (inteiro)"
   ]
  },
  {
   "cell_type": "markdown",
   "metadata": {},
   "source": [
    "**Distribuição dos valores das principais variáveis categóricas/strings**"
   ]
  },
  {
   "cell_type": "code",
   "execution_count": 68,
   "metadata": {},
   "outputs": [
    {
     "name": "stdout",
     "output_type": "stream",
     "text": [
      "Temporadas: [2012 2013 2014 2015 2016 2017 2018 2019 2020 2021]\n",
      "Todos os clubes: 275\n"
     ]
    }
   ],
   "source": [
    "print(f'Temporadas: {copa_do_brasil[\"season\"].unique()}') #Temporadas a que se referem os dados\n",
    "\n",
    "print(f'Todos os clubes: {copa_do_brasil[\"home_team\"].nunique()}') #Números de clubes que jogaram na Copa do Brasil ao longo desses anos"
   ]
  },
  {
   "cell_type": "markdown",
   "metadata": {},
   "source": [
    "#### Libertadores"
   ]
  },
  {
   "cell_type": "code",
   "execution_count": 69,
   "metadata": {},
   "outputs": [
    {
     "name": "stdout",
     "output_type": "stream",
     "text": [
      "<class 'pandas.core.frame.DataFrame'>\n",
      "RangeIndex: 1255 entries, 0 to 1254\n",
      "Data columns (total 7 columns):\n",
      " #   Column     Non-Null Count  Dtype  \n",
      "---  ------     --------------  -----  \n",
      " 0   datetime   1254 non-null   object \n",
      " 1   home_team  1255 non-null   object \n",
      " 2   away_team  1255 non-null   object \n",
      " 3   home_goal  1255 non-null   object \n",
      " 4   away_goal  1255 non-null   object \n",
      " 5   season     1254 non-null   float64\n",
      " 6   stage      1255 non-null   object \n",
      "dtypes: float64(1), object(6)\n",
      "memory usage: 68.8+ KB\n"
     ]
    }
   ],
   "source": [
    "libertadores.info() # Pegando algumas informações da base de dados "
   ]
  },
  {
   "cell_type": "markdown",
   "metadata": {},
   "source": [
    "***Número de linhas:*** 1255\n",
    "\n",
    "***Número de colunas:*** 7\n",
    "\n",
    "***Memória alocada para a base de dados:*** 68.8+ KB\n",
    "\n",
    "***Tipos de dados:***\n",
    "\n",
    "- ponto flutuante(1)\n",
    "\n",
    "- objeto(6)\n",
    "\n",
    "***Tipo de dado de cada coluna:***\n",
    "\n",
    "- Coluna 2: Data e hora (data)\n",
    "\n",
    "- Coluna 3: Time da casa (string)\n",
    "\n",
    "- Coluna 4: Time visitante (string)\n",
    "\n",
    "- Coluna 5: Gol em casa (int)\n",
    "\n",
    "- Coluna 6: Gol fora de casa (int)\n",
    "\n",
    "- Coluna 7: Temporada (ponto flutuante)\n",
    "\n",
    "- Coluna 7: Etapas do campeonato (string)"
   ]
  },
  {
   "cell_type": "markdown",
   "metadata": {},
   "source": [
    "**Distribuição dos valores das principais variáveis categóricas/strings**"
   ]
  },
  {
   "cell_type": "code",
   "execution_count": 70,
   "metadata": {},
   "outputs": [
    {
     "name": "stdout",
     "output_type": "stream",
     "text": [
      "Temporadas: [2013. 2014. 2015. 2016. 2017. 2018. 2019. 2020. 2021. 2022.   nan]\n",
      "Etapas do campeonato: ['group stage' 'final' 'semifinals' 'quarterfinals' 'round of 16']\n",
      "Total de clubes: 114\n"
     ]
    }
   ],
   "source": [
    "print(f'Temporadas: {libertadores[\"season\"].unique()}') #Temporadas a que se referem os dados\n",
    "\n",
    "print(f'Etapas do campeonato: {libertadores[\"stage\"].unique()}') #Etapas do campeonato\n",
    "\n",
    "print(f'Total de clubes: {libertadores[\"home_team\"].nunique()}') #Números de clubes que jogaram a libertadores ao longo desses anos"
   ]
  },
  {
   "cell_type": "markdown",
   "metadata": {},
   "source": [
    "### Filtrando os dados"
   ]
  },
  {
   "cell_type": "code",
   "execution_count": 71,
   "metadata": {},
   "outputs": [],
   "source": [
    "valor_indesejado = 2022\n",
    "libertadores = libertadores.drop(libertadores[libertadores['season'] == valor_indesejado].index)\n",
    "\n",
    "valor_indesejado = 2012\n",
    "copa_do_brasil = copa_do_brasil.drop(copa_do_brasil[copa_do_brasil['season'] == valor_indesejado].index)\n",
    "\n",
    "valor_indesejado = 2012\n",
    "brasileirao = brasileirao.drop(brasileirao[brasileirao['season'] == valor_indesejado].index)\n",
    "\n",
    "valor_indesejado = 2022\n",
    "brasileirao = brasileirao.drop(brasileirao[brasileirao['season'] == valor_indesejado].index)"
   ]
  },
  {
   "cell_type": "code",
   "execution_count": 72,
   "metadata": {},
   "outputs": [
    {
     "name": "stdout",
     "output_type": "stream",
     "text": [
      "Temporadas: [2013. 2014. 2015. 2016. 2017. 2018. 2019. 2020. 2021.   nan]\n",
      "Temporadas: [2013 2014 2015 2016 2017 2018 2019 2020 2021]\n",
      "Temporadas: [2013 2014 2015 2016 2017 2018 2019 2020 2021]\n"
     ]
    }
   ],
   "source": [
    "print(f'Temporadas: {libertadores[\"season\"].unique()}')\n",
    "print(f'Temporadas: {copa_do_brasil[\"season\"].unique()}')\n",
    "print(f'Temporadas: {brasileirao[\"season\"].unique()}')"
   ]
  },
  {
   "cell_type": "markdown",
   "metadata": {},
   "source": [
    "### Limpando os dados"
   ]
  },
  {
   "cell_type": "markdown",
   "metadata": {},
   "source": [
    "#### Libertadores"
   ]
  },
  {
   "cell_type": "code",
   "execution_count": 73,
   "metadata": {},
   "outputs": [
    {
     "name": "stdout",
     "output_type": "stream",
     "text": [
      "Valores nulos nos dados da Libertadores inicialmente: \n",
      "datetime     1\n",
      "home_team    0\n",
      "away_team    0\n",
      "home_goal    0\n",
      "away_goal    0\n",
      "season       1\n",
      "stage        0\n",
      "dtype: int64\n",
      "\n",
      "Valores nulos nos dados da Libertadores após a limpeza: \n",
      "datetime     0\n",
      "home_team    0\n",
      "away_team    0\n",
      "home_goal    0\n",
      "away_goal    0\n",
      "season       0\n",
      "stage        0\n",
      "dtype: int64\n",
      "\n"
     ]
    }
   ],
   "source": [
    "print(f'Valores nulos nos dados da Libertadores inicialmente: \\n{libertadores.isna().sum()}\\n')\n",
    "\n",
    "libertadores.iloc[363, libertadores.columns.get_loc('home_goal')] = 0\n",
    "libertadores.iloc[363, libertadores.columns.get_loc('away_goal')] = 3\n",
    "libertadores.iloc[363, libertadores.columns.get_loc('home_goal')] = 0\n",
    "libertadores.drop(index = 1254, inplace=True)\n",
    "\n",
    "print(f'Valores nulos nos dados da Libertadores após a limpeza: \\n{libertadores.isna().sum()}\\n')"
   ]
  },
  {
   "cell_type": "markdown",
   "metadata": {},
   "source": [
    "#### Brasileirão"
   ]
  },
  {
   "cell_type": "code",
   "execution_count": 74,
   "metadata": {},
   "outputs": [
    {
     "name": "stdout",
     "output_type": "stream",
     "text": [
      "Valores nulos nos dados do Brasileirão: \n",
      "datetime           0\n",
      "home_team          0\n",
      "home_team_state    0\n",
      "away_team          0\n",
      "away_team_state    0\n",
      "home_goal          1\n",
      "away_goal          1\n",
      "season             0\n",
      "round              0\n",
      "dtype: int64\n",
      "\n",
      "Valores nulos nos dados do Brasileirão: \n",
      "datetime           0\n",
      "home_team          0\n",
      "home_team_state    0\n",
      "away_team          0\n",
      "away_team_state    0\n",
      "home_goal          0\n",
      "away_goal          0\n",
      "season             0\n",
      "round              0\n",
      "dtype: int64\n",
      "\n"
     ]
    }
   ],
   "source": [
    "print(f'Valores nulos nos dados do Brasileirão: \\n{brasileirao.isna().sum()}\\n')\n",
    "\n",
    "brasileirao.iloc[1517, brasileirao.columns.get_loc('home_goal')] = 1\n",
    "brasileirao.iloc[1517, brasileirao.columns.get_loc('away_goal')] = 3\n",
    "\n",
    "print(f'Valores nulos nos dados do Brasileirão: \\n{brasileirao.isna().sum()}\\n')"
   ]
  },
  {
   "cell_type": "markdown",
   "metadata": {},
   "source": [
    "#### Copa do Brasil"
   ]
  },
  {
   "cell_type": "code",
   "execution_count": 75,
   "metadata": {},
   "outputs": [
    {
     "name": "stdout",
     "output_type": "stream",
     "text": [
      "Valores nulos nos dados do Copa do Brasil: \n",
      "round         0\n",
      "datetime      0\n",
      "home_team     0\n",
      "away_team     0\n",
      "home_goal    16\n",
      "away_goal    16\n",
      "season        0\n",
      "dtype: int64\n",
      "Valores nulos nos dados do Copa do Brasil: \n",
      "round        0\n",
      "datetime     0\n",
      "home_team    0\n",
      "away_team    0\n",
      "home_goal    0\n",
      "away_goal    0\n",
      "season       0\n",
      "dtype: int64\n"
     ]
    }
   ],
   "source": [
    "print(f'Valores nulos nos dados do Copa do Brasil: \\n{copa_do_brasil.isna().sum()}')\n",
    "\n",
    "copa_do_brasil.drop(index=range(1321, 1337), inplace=True)\n",
    "\n",
    "print(f'Valores nulos nos dados do Copa do Brasil: \\n{copa_do_brasil.isna().sum()}')"
   ]
  },
  {
   "cell_type": "markdown",
   "metadata": {},
   "source": [
    "### Análise dos dados"
   ]
  },
  {
   "cell_type": "markdown",
   "metadata": {},
   "source": [
    "**Matriz de Correlação - Libertadores**"
   ]
  },
  {
   "cell_type": "code",
   "execution_count": 76,
   "metadata": {},
   "outputs": [
    {
     "data": {
      "text/plain": [
       "<Axes: >"
      ]
     },
     "execution_count": 76,
     "metadata": {},
     "output_type": "execute_result"
    },
    {
     "data": {
      "image/png": "[encoded data removed]",
      "text/plain": [
       "<Figure size 640x480 with 2 Axes>"
      ]
     },
     "metadata": {},
     "output_type": "display_data"
    }
   ],
   "source": [
    "libertadores.replace('-', float('nan'), inplace=True)\n",
    "\n",
    "libertadores['datetime'] = pd.to_datetime(libertadores['datetime']).astype('int64')\n",
    "libertadores['home_goal'] = pd.to_numeric(libertadores['home_goal'])\n",
    "libertadores['away_goal'] = pd.to_numeric(libertadores['away_goal'])\n",
    "\n",
    "numericos_libertadores = libertadores.select_dtypes(include='number')\n",
    "\n",
    "matriz_correlacao_libertadores = numericos_libertadores.corr()\n",
    "\n",
    "plot = sn.heatmap(matriz_correlacao_libertadores, annot = True, fmt=\".1f\", linewidths=.6)\n",
    "\n",
    "plot"
   ]
  },
  {
   "cell_type": "code",
   "execution_count": 77,
   "metadata": {},
   "outputs": [
    {
     "data": {
      "text/plain": [
       "<Axes: >"
      ]
     },
     "execution_count": 77,
     "metadata": {},
     "output_type": "execute_result"
    },
    {
     "data": {
      "image/png": "[encoded data removed]",
      "text/plain": [
       "<Figure size 640x480 with 2 Axes>"
      ]
     },
     "metadata": {},
     "output_type": "display_data"
    }
   ],
   "source": [
    "copa_do_brasil.replace('-', float('nan'), inplace=True)\n",
    "\n",
    "copa_do_brasil['datetime'] = pd.to_datetime(copa_do_brasil['datetime']).astype('int64')\n",
    "copa_do_brasil['home_goal'] = pd.to_numeric(copa_do_brasil['home_goal'])\n",
    "copa_do_brasil['away_goal'] = pd.to_numeric(copa_do_brasil['away_goal'])\n",
    "\n",
    "numericos_copa_do_brasil = copa_do_brasil.select_dtypes(include='number')\n",
    "\n",
    "matriz_correlacao_copa_do_brasil = numericos_copa_do_brasil.corr()\n",
    "\n",
    "plot = sn.heatmap(matriz_correlacao_copa_do_brasil, annot = True, fmt=\".1f\", linewidths=.6)\n",
    "\n",
    "plot"
   ]
  },
  {
   "cell_type": "code",
   "execution_count": 78,
   "metadata": {},
   "outputs": [
    {
     "data": {
      "text/plain": [
       "<Axes: >"
      ]
     },
     "execution_count": 78,
     "metadata": {},
     "output_type": "execute_result"
    },
    {
     "data": {
      "image/png": "[encoded data removed]",
      "text/plain": [
       "<Figure size 640x480 with 2 Axes>"
      ]
     },
     "metadata": {},
     "output_type": "display_data"
    }
   ],
   "source": [
    "brasileirao.replace('-', float('nan'), inplace=True) #Trocando as \"-\" por \"Nan\"\n",
    "\n",
    "brasileirao['datetime'] = pd.to_datetime(brasileirao['datetime']).astype('int64')\n",
    "brasileirao['home_goal'] = pd.to_numeric(brasileirao['home_goal'])\n",
    "brasileirao['away_goal'] = pd.to_numeric(brasileirao['away_goal'])\n",
    "\n",
    "numericos_brasileirao = brasileirao.select_dtypes(include='number')\n",
    "\n",
    "matriz_correlacao_brasileirao = numericos_brasileirao.corr()\n",
    "\n",
    "plot = sn.heatmap(matriz_correlacao_brasileirao, annot = True, fmt=\".1f\", linewidths=.6)\n",
    "\n",
    "plot"
   ]
  },
  {
   "cell_type": "markdown",
   "metadata": {},
   "source": [
    "### Funções"
   ]
  },
  {
   "cell_type": "code",
   "execution_count": 79,
   "metadata": {},
   "outputs": [
    {
     "name": "stdout",
     "output_type": "stream",
     "text": [
      "Index(['datetime', 'home_team', 'home_team_state', 'away_team',\n",
      "       'away_team_state', 'home_goal', 'away_goal', 'season', 'round', 'time'],\n",
      "      dtype='object')\n",
      "               datetime         home_team home_team_state         away_team  \\\n",
      "380 2013-05-25 18:30:00  Vasco da Gama-RJ              RJ     Portuguesa-SP   \n",
      "381 2013-05-25 18:30:00        Vitoria-BA              BA  Internacional-RS   \n",
      "382 2013-05-25 21:00:00    Corinthians-SP              SP       Botafogo-RJ   \n",
      "383 2013-05-26 16:00:00         Gremio-RS              RS        Nautico-PE   \n",
      "384 2013-05-26 16:00:00    Ponte Preta-SP              SP      Sao Paulo-SP   \n",
      "\n",
      "    away_team_state  home_goal  away_goal  season  round      time  \n",
      "380              SP        1.0        0.0    2013      1  18:30:00  \n",
      "381              RS        2.0        2.0    2013      1  18:30:00  \n",
      "382              RJ        1.0        1.0    2013      1  21:00:00  \n",
      "383              PE        2.0        0.0    2013      1  16:00:00  \n",
      "384              SP        0.0        2.0    2013      1  16:00:00  \n"
     ]
    }
   ],
   "source": [
    "brasileirao[\"datetime\"] = pd.to_datetime(brasileirao[\"datetime\"])\n",
    "brasileirao[\"time\"] = brasileirao[\"datetime\"].dt.time\n",
    "\n",
    "\n",
    "def won_match(team1, team2, result1, result2):\n",
    "    \"\"\"Recebe dois times, e os gols feitos por cada um no jogo, e retorna o nome do vencedor, e o empate caso não tenha\"\"\"\n",
    "    if result1 == result2:  # draw\n",
    "        return \"Draw\"\n",
    "    if result2 > result1:  # result 2 ganha\n",
    "        return team2\n",
    "    else:\n",
    "        return team1  # result 1 ganha\n",
    "\n",
    "\n",
    "teams = brasileirao[\"home_team\"].unique()\n",
    "# mudar para listas?\n",
    "\n",
    "\n",
    "def classificação(data_frame):\n",
    "    tabela = teams  # trbalhar com dicionarios)\n",
    "    tabela = {team: 0 for team in tabela}\n",
    "    for _, row in data_frame.iterrows():\n",
    "        result = won_match(\n",
    "            row[\"home_team\"],\n",
    "            row[\"away_team\"],\n",
    "            row[\"home_goal\"],\n",
    "            row[\"away_goal\"],\n",
    "        )\n",
    "        if result != \"Draw\":\n",
    "            tabela[result] += 3\n",
    "        else:\n",
    "            tabela[row[\"home_team\"]] += 1\n",
    "            tabela[row[\"away_team\"]] += 1\n",
    "\n",
    "    tabela = dict(\n",
    "        sorted(tabela.items(), key=lambda x: x[1], reverse=True)\n",
    "    )  # sort dos dados para ficar em ordem\n",
    "    return tabela\n",
    "\n",
    "#print(brasileirao.columns)\n",
    "#print(brasileirao.head())"
   ]
  }
 ],
 "metadata": {
  "kernelspec": {
   "display_name": "Python 3",
   "language": "python",
   "name": "python3"
  },
  "language_info": {
   "codemirror_mode": {
    "name": "ipython",
    "version": 3
   },
   "file_extension": ".py",
   "mimetype": "text/x-python",
   "name": "python",
   "nbconvert_exporter": "python",
   "pygments_lexer": "ipython3",
   "version": "3.11.3"
  },
  "orig_nbformat": 4
 },
 "nbformat": 4,
 "nbformat_minor": 2
}
